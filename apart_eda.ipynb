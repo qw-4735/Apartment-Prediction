{
 "cells": [
  {
   "cell_type": "code",
   "execution_count": 3,
   "id": "stone-brother",
   "metadata": {
    "colab": {
     "base_uri": "https://localhost:8080/"
    },
    "executionInfo": {
     "elapsed": 321,
     "status": "ok",
     "timestamp": 1645122469465,
     "user": {
      "displayName": "최윤성",
      "photoUrl": "https://lh3.googleusercontent.com/a-/AOh14GhPE9xSgYvruTxaBI1PrRZRNWn21DzdbLmy5HR0Xg=s64",
      "userId": "17937737491555296546"
     },
     "user_tz": -540
    },
    "id": "stone-brother",
    "outputId": "882cbeb5-63cd-4e21-d919-535a3dbe9cba",
    "scrolled": true
   },
   "outputs": [
    {
     "name": "stdout",
     "output_type": "stream",
     "text": [
      " C 드라이브의 볼륨에는 이름이 없습니다.\n",
      " 볼륨 일련 번호: 7A70-C0C1\n",
      "\n",
      " C:\\Users\\qwuni\\uos_bigdata 디렉터리\n",
      "\n",
      "2023-08-15  오후 07:19    <DIR>          .\n",
      "2023-08-13  오후 04:11    <DIR>          ..\n",
      "2023-08-15  오후 07:19    <DIR>          .ipynb_checkpoints\n",
      "2022-03-06  오후 04:49         4,730,750 [Kaggle] 01. 데이터 추출 _ EDA _ 파생변수 (5).ipynb\n",
      "2023-08-15  오후 07:17         4,568,459 2023 modeling(cat).ipynb\n",
      "2022-02-18  오후 10:57           783,369 2월17일 목요일 한서준 전처리+결정트리 최종본.ipynb\n",
      "2022-02-05  오후 06:44           656,869 day_care_center.csv\n",
      "2022-02-12  오후 09:40           524,407 EDA.ipynb\n",
      "2022-02-05  오후 11:08           484,996 EDA-Copy1.ipynb\n",
      "2022-02-16  오후 04:40       100,099,423 final_train.csv\n",
      "2022-02-18  오후 12:35       100,008,059 final_train_1.csv\n",
      "2022-02-16  오후 04:40        86,736,869 final_train_labelencoding.csv\n",
      "2022-02-19  오전 08:46           382,984 LGBM_reg5.ipynb\n",
      "2023-08-15  오후 07:12         4,568,459 modeling(cat).ipynb\n",
      "2022-02-19  오전 09:44           427,452 modeling(xgb).ipynb\n",
      "2022-02-05  오후 06:44           162,595 park.csv\n",
      "2022-02-05  오후 06:44            60,132 submission.csv\n",
      "2022-02-14  오후 01:44            33,606 subway_info.csv\n",
      "2022-02-14  오후 01:43            16,187 subway_loglat.csv\n",
      "2022-02-05  오후 06:43           666,209 test.csv\n",
      "2022-02-05  오후 06:43       153,287,388 train.csv\n",
      "2022-02-14  오후 04:48            49,372 Untitled.ipynb\n",
      "2022-02-14  오후 04:24             1,343 Untitled1.ipynb\n",
      "2022-02-14  오후 04:48             1,312 Untitled2.ipynb\n",
      "2022-02-14  오후 05:13            47,641 Untitled3.ipynb\n",
      "2022-02-16  오후 04:40           751,016 수정중_EDA_ipynb의_사본 (1).ipynb\n",
      "              23개 파일         459,048,897 바이트\n",
      "               3개 디렉터리  22,946,177,024 바이트 남음\n"
     ]
    }
   ],
   "source": [
    "%ls"
   ]
  },
  {
   "cell_type": "code",
   "execution_count": null,
   "id": "subject-alignment",
   "metadata": {
    "executionInfo": {
     "elapsed": 5,
     "status": "ok",
     "timestamp": 1645184791515,
     "user": {
      "displayName": "최윤성",
      "photoUrl": "https://lh3.googleusercontent.com/a-/AOh14GhPE9xSgYvruTxaBI1PrRZRNWn21DzdbLmy5HR0Xg=s64",
      "userId": "17937737491555296546"
     },
     "user_tz": -540
    },
    "id": "subject-alignment"
   },
   "outputs": [],
   "source": [
    "import pandas as pd"
   ]
  },
  {
   "cell_type": "markdown",
   "id": "banner-entity",
   "metadata": {
    "id": "banner-entity"
   },
   "source": [
    "# 1. 데이터 불러오기"
   ]
  },
  {
   "cell_type": "code",
   "execution_count": 5,
   "id": "fluid-scratch",
   "metadata": {
    "id": "fluid-scratch"
   },
   "outputs": [],
   "source": [
    "try:\n",
    "    df_train= pd.read_csv('/content/drive/MyDrive/train.csv')\n",
    "    df_test= pd.read_csv('/content/drive/MyDrive/test.csv')\n",
    "except:\n",
    "    df_train= pd.read_csv('train.csv')\n",
    "    df_test= pd.read_csv('test.csv')\n"
   ]
  },
  {
   "cell_type": "code",
   "execution_count": 6,
   "id": "scheduled-control",
   "metadata": {
    "id": "scheduled-control"
   },
   "outputs": [
    {
     "name": "stderr",
     "output_type": "stream",
     "text": [
      "C:\\Temp\\ipykernel_30812\\9053302.py:6: MatplotlibDeprecationWarning: The seaborn styles shipped by Matplotlib are deprecated since 3.6, as they no longer correspond to the styles shipped by seaborn. However, they will remain available as 'seaborn-v0_8-<style>'. Alternatively, directly use the seaborn API instead.\n",
      "  plt.style.use('seaborn')\n"
     ]
    }
   ],
   "source": [
    "import numpy as np\n",
    "import matplotlib.pyplot as plt\n",
    "import seaborn as sns\n",
    "import sklearn\n",
    "\n",
    "plt.style.use('seaborn')\n",
    "sns.set(font_scale=1.5) # 이 두줄은 본 필자가 항상 쓰는 방법입니다. matplotlib 의 기본 scheme 말고 seaborn scheme 을 세팅하고, 일일이 graph 의 font size 를 지정할 필요 없이 seaborn 의 font_scale 을 사용하면 편합니다.\n",
    "\n",
    "#ignore warnings\n",
    "import warnings\n",
    "warnings.filterwarnings('ignore')\n",
    "\n",
    "%matplotlib inline"
   ]
  },
  {
   "cell_type": "code",
   "execution_count": 7,
   "id": "durable-climb",
   "metadata": {
    "colab": {
     "base_uri": "https://localhost:8080/"
    },
    "executionInfo": {
     "elapsed": 7,
     "status": "ok",
     "timestamp": 1645122480086,
     "user": {
      "displayName": "최윤성",
      "photoUrl": "https://lh3.googleusercontent.com/a-/AOh14GhPE9xSgYvruTxaBI1PrRZRNWn21DzdbLmy5HR0Xg=s64",
      "userId": "17937737491555296546"
     },
     "user_tz": -540
    },
    "id": "durable-climb",
    "outputId": "e5c18d6d-c61c-4553-e2fb-ba952a1a2415"
   },
   "outputs": [
    {
     "data": {
      "text/plain": [
       "(1216553, 13)"
      ]
     },
     "execution_count": 7,
     "metadata": {},
     "output_type": "execute_result"
    }
   ],
   "source": [
    "df_train.shape"
   ]
  },
  {
   "cell_type": "code",
   "execution_count": 8,
   "id": "administrative-integrity",
   "metadata": {
    "colab": {
     "base_uri": "https://localhost:8080/"
    },
    "executionInfo": {
     "elapsed": 5,
     "status": "ok",
     "timestamp": 1645122480086,
     "user": {
      "displayName": "최윤성",
      "photoUrl": "https://lh3.googleusercontent.com/a-/AOh14GhPE9xSgYvruTxaBI1PrRZRNWn21DzdbLmy5HR0Xg=s64",
      "userId": "17937737491555296546"
     },
     "user_tz": -540
    },
    "id": "administrative-integrity",
    "outputId": "1b8ef37d-1fae-4ae6-9878-96b4c9743b13"
   },
   "outputs": [
    {
     "data": {
      "text/plain": [
       "(5463, 12)"
      ]
     },
     "execution_count": 8,
     "metadata": {},
     "output_type": "execute_result"
    }
   ],
   "source": [
    "df_test.shape"
   ]
  },
  {
   "cell_type": "code",
   "execution_count": null,
   "id": "judicial-projector",
   "metadata": {
    "colab": {
     "base_uri": "https://localhost:8080/"
    },
    "executionInfo": {
     "elapsed": 752,
     "status": "ok",
     "timestamp": 1645122480835,
     "user": {
      "displayName": "최윤성",
      "photoUrl": "https://lh3.googleusercontent.com/a-/AOh14GhPE9xSgYvruTxaBI1PrRZRNWn21DzdbLmy5HR0Xg=s64",
      "userId": "17937737491555296546"
     },
     "user_tz": -540
    },
    "id": "judicial-projector",
    "outputId": "66526890-ca24-421f-abb0-3c1fc8e5d284"
   },
   "outputs": [
    {
     "name": "stdout",
     "output_type": "stream",
     "text": [
      "<class 'pandas.core.frame.DataFrame'>\n",
      "RangeIndex: 1216553 entries, 0 to 1216552\n",
      "Data columns (total 13 columns):\n",
      " #   Column                  Non-Null Count    Dtype  \n",
      "---  ------                  --------------    -----  \n",
      " 0   transaction_id          1216553 non-null  int64  \n",
      " 1   apartment_id            1216553 non-null  int64  \n",
      " 2   city                    1216553 non-null  object \n",
      " 3   dong                    1216553 non-null  object \n",
      " 4   jibun                   1216553 non-null  object \n",
      " 5   apt                     1216553 non-null  object \n",
      " 6   addr_kr                 1216553 non-null  object \n",
      " 7   exclusive_use_area      1216553 non-null  float64\n",
      " 8   year_of_completion      1216553 non-null  int64  \n",
      " 9   transaction_year_month  1216553 non-null  int64  \n",
      " 10  transaction_date        1216553 non-null  object \n",
      " 11  floor                   1216553 non-null  int64  \n",
      " 12  transaction_real_price  1216553 non-null  int64  \n",
      "dtypes: float64(1), int64(6), object(6)\n",
      "memory usage: 120.7+ MB\n"
     ]
    }
   ],
   "source": [
    "df_train.info()"
   ]
  },
  {
   "cell_type": "code",
   "execution_count": null,
   "id": "understanding-horizon",
   "metadata": {
    "colab": {
     "base_uri": "https://localhost:8080/"
    },
    "executionInfo": {
     "elapsed": 6,
     "status": "ok",
     "timestamp": 1645122480836,
     "user": {
      "displayName": "최윤성",
      "photoUrl": "https://lh3.googleusercontent.com/a-/AOh14GhPE9xSgYvruTxaBI1PrRZRNWn21DzdbLmy5HR0Xg=s64",
      "userId": "17937737491555296546"
     },
     "user_tz": -540
    },
    "id": "understanding-horizon",
    "outputId": "240b0dd0-7ad5-43a0-be70-dd0858343e49"
   },
   "outputs": [
    {
     "name": "stdout",
     "output_type": "stream",
     "text": [
      "<class 'pandas.core.frame.DataFrame'>\n",
      "RangeIndex: 5463 entries, 0 to 5462\n",
      "Data columns (total 12 columns):\n",
      " #   Column                  Non-Null Count  Dtype  \n",
      "---  ------                  --------------  -----  \n",
      " 0   transaction_id          5463 non-null   int64  \n",
      " 1   apartment_id            5463 non-null   int64  \n",
      " 2   city                    5463 non-null   object \n",
      " 3   dong                    5463 non-null   object \n",
      " 4   jibun                   5463 non-null   object \n",
      " 5   apt                     5463 non-null   object \n",
      " 6   addr_kr                 5463 non-null   object \n",
      " 7   exclusive_use_area      5463 non-null   float64\n",
      " 8   year_of_completion      5463 non-null   int64  \n",
      " 9   transaction_year_month  5463 non-null   int64  \n",
      " 10  transaction_date        5463 non-null   object \n",
      " 11  floor                   5463 non-null   int64  \n",
      "dtypes: float64(1), int64(5), object(6)\n",
      "memory usage: 512.3+ KB\n"
     ]
    }
   ],
   "source": [
    "df_test.info()"
   ]
  },
  {
   "cell_type": "code",
   "execution_count": 9,
   "id": "247ebd66",
   "metadata": {},
   "outputs": [
    {
     "data": {
      "text/plain": [
       "서울특별시    742285\n",
       "부산광역시    474268\n",
       "Name: city, dtype: int64"
      ]
     },
     "execution_count": 9,
     "metadata": {},
     "output_type": "execute_result"
    }
   ],
   "source": [
    "df_train['city'].value_counts()"
   ]
  },
  {
   "cell_type": "markdown",
   "id": "constitutional-champion",
   "metadata": {
    "id": "constitutional-champion"
   },
   "source": [
    "### 부산광역시 데이터 제외"
   ]
  },
  {
   "cell_type": "code",
   "execution_count": 10,
   "id": "sapphire-civilization",
   "metadata": {
    "colab": {
     "base_uri": "https://localhost:8080/",
     "height": 423
    },
    "executionInfo": {
     "elapsed": 788,
     "status": "ok",
     "timestamp": 1645122481622,
     "user": {
      "displayName": "최윤성",
      "photoUrl": "https://lh3.googleusercontent.com/a-/AOh14GhPE9xSgYvruTxaBI1PrRZRNWn21DzdbLmy5HR0Xg=s64",
      "userId": "17937737491555296546"
     },
     "user_tz": -540
    },
    "id": "sapphire-civilization",
    "outputId": "111ded6e-1a82-4d20-9669-2a1a7c944e34"
   },
   "outputs": [
    {
     "data": {
      "text/html": [
       "<div>\n",
       "<style scoped>\n",
       "    .dataframe tbody tr th:only-of-type {\n",
       "        vertical-align: middle;\n",
       "    }\n",
       "\n",
       "    .dataframe tbody tr th {\n",
       "        vertical-align: top;\n",
       "    }\n",
       "\n",
       "    .dataframe thead th {\n",
       "        text-align: right;\n",
       "    }\n",
       "</style>\n",
       "<table border=\"1\" class=\"dataframe\">\n",
       "  <thead>\n",
       "    <tr style=\"text-align: right;\">\n",
       "      <th></th>\n",
       "      <th>transaction_id</th>\n",
       "      <th>apartment_id</th>\n",
       "      <th>city</th>\n",
       "      <th>dong</th>\n",
       "      <th>jibun</th>\n",
       "      <th>apt</th>\n",
       "      <th>addr_kr</th>\n",
       "      <th>exclusive_use_area</th>\n",
       "      <th>year_of_completion</th>\n",
       "      <th>transaction_year_month</th>\n",
       "      <th>transaction_date</th>\n",
       "      <th>floor</th>\n",
       "      <th>transaction_real_price</th>\n",
       "    </tr>\n",
       "  </thead>\n",
       "  <tbody>\n",
       "    <tr>\n",
       "      <th>0</th>\n",
       "      <td>0</td>\n",
       "      <td>7622</td>\n",
       "      <td>서울특별시</td>\n",
       "      <td>신교동</td>\n",
       "      <td>6-13</td>\n",
       "      <td>신현(101동)</td>\n",
       "      <td>신교동 6-13 신현(101동)</td>\n",
       "      <td>84.82</td>\n",
       "      <td>2002</td>\n",
       "      <td>200801</td>\n",
       "      <td>21~31</td>\n",
       "      <td>2</td>\n",
       "      <td>37500</td>\n",
       "    </tr>\n",
       "    <tr>\n",
       "      <th>1</th>\n",
       "      <td>1</td>\n",
       "      <td>5399</td>\n",
       "      <td>서울특별시</td>\n",
       "      <td>필운동</td>\n",
       "      <td>142</td>\n",
       "      <td>사직파크맨션</td>\n",
       "      <td>필운동 142 사직파크맨션</td>\n",
       "      <td>99.17</td>\n",
       "      <td>1973</td>\n",
       "      <td>200801</td>\n",
       "      <td>1~10</td>\n",
       "      <td>6</td>\n",
       "      <td>20000</td>\n",
       "    </tr>\n",
       "    <tr>\n",
       "      <th>2</th>\n",
       "      <td>2</td>\n",
       "      <td>3578</td>\n",
       "      <td>서울특별시</td>\n",
       "      <td>필운동</td>\n",
       "      <td>174-1</td>\n",
       "      <td>두레엘리시안</td>\n",
       "      <td>필운동 174-1 두레엘리시안</td>\n",
       "      <td>84.74</td>\n",
       "      <td>2007</td>\n",
       "      <td>200801</td>\n",
       "      <td>1~10</td>\n",
       "      <td>6</td>\n",
       "      <td>38500</td>\n",
       "    </tr>\n",
       "    <tr>\n",
       "      <th>3</th>\n",
       "      <td>3</td>\n",
       "      <td>10957</td>\n",
       "      <td>서울특별시</td>\n",
       "      <td>내수동</td>\n",
       "      <td>95</td>\n",
       "      <td>파크팰리스</td>\n",
       "      <td>내수동 95 파크팰리스</td>\n",
       "      <td>146.39</td>\n",
       "      <td>2003</td>\n",
       "      <td>200801</td>\n",
       "      <td>11~20</td>\n",
       "      <td>15</td>\n",
       "      <td>118000</td>\n",
       "    </tr>\n",
       "    <tr>\n",
       "      <th>4</th>\n",
       "      <td>4</td>\n",
       "      <td>10639</td>\n",
       "      <td>서울특별시</td>\n",
       "      <td>내수동</td>\n",
       "      <td>110-15</td>\n",
       "      <td>킹스매너</td>\n",
       "      <td>내수동 110-15 킹스매너</td>\n",
       "      <td>194.43</td>\n",
       "      <td>2004</td>\n",
       "      <td>200801</td>\n",
       "      <td>21~31</td>\n",
       "      <td>3</td>\n",
       "      <td>120000</td>\n",
       "    </tr>\n",
       "  </tbody>\n",
       "</table>\n",
       "</div>"
      ],
      "text/plain": [
       "   transaction_id  apartment_id   city dong   jibun       apt  \\\n",
       "0               0          7622  서울특별시  신교동    6-13  신현(101동)   \n",
       "1               1          5399  서울특별시  필운동     142    사직파크맨션   \n",
       "2               2          3578  서울특별시  필운동   174-1    두레엘리시안   \n",
       "3               3         10957  서울특별시  내수동      95     파크팰리스   \n",
       "4               4         10639  서울특별시  내수동  110-15      킹스매너   \n",
       "\n",
       "             addr_kr  exclusive_use_area  year_of_completion  \\\n",
       "0  신교동 6-13 신현(101동)               84.82                2002   \n",
       "1     필운동 142 사직파크맨션               99.17                1973   \n",
       "2   필운동 174-1 두레엘리시안               84.74                2007   \n",
       "3       내수동 95 파크팰리스              146.39                2003   \n",
       "4    내수동 110-15 킹스매너              194.43                2004   \n",
       "\n",
       "   transaction_year_month transaction_date  floor  transaction_real_price  \n",
       "0                  200801            21~31      2                   37500  \n",
       "1                  200801             1~10      6                   20000  \n",
       "2                  200801             1~10      6                   38500  \n",
       "3                  200801            11~20     15                  118000  \n",
       "4                  200801            21~31      3                  120000  "
      ]
     },
     "execution_count": 10,
     "metadata": {},
     "output_type": "execute_result"
    }
   ],
   "source": [
    "busan = df_train[df_train['city'] == '부산광역시'].index\n",
    "df_train=df_train.drop(busan)\n",
    "df_train.head()"
   ]
  },
  {
   "cell_type": "code",
   "execution_count": 11,
   "id": "front-adelaide",
   "metadata": {
    "colab": {
     "base_uri": "https://localhost:8080/"
    },
    "executionInfo": {
     "elapsed": 10,
     "status": "ok",
     "timestamp": 1645122481622,
     "user": {
      "displayName": "최윤성",
      "photoUrl": "https://lh3.googleusercontent.com/a-/AOh14GhPE9xSgYvruTxaBI1PrRZRNWn21DzdbLmy5HR0Xg=s64",
      "userId": "17937737491555296546"
     },
     "user_tz": -540
    },
    "id": "front-adelaide",
    "outputId": "69ba6b01-4d7f-447d-ecf9-821c4c7591d2"
   },
   "outputs": [
    {
     "data": {
      "text/plain": [
       "(742285, 13)"
      ]
     },
     "execution_count": 11,
     "metadata": {},
     "output_type": "execute_result"
    }
   ],
   "source": [
    "# 데이터 1/3만큼 축소하기\n",
    "df_train.shape"
   ]
  },
  {
   "cell_type": "markdown",
   "id": "alert-longitude",
   "metadata": {
    "id": "alert-longitude"
   },
   "source": [
    "### 변수명\n",
    "- transaction_id : 아파트 거래에 대한 유니크한 아이디\n",
    "- apartment_id : 아파트 아이디\n",
    "- city : 도시\n",
    "- dong : 동\n",
    "- jibun : 지번\n",
    "- apt : 아파트단지 이름\n",
    "- addr_kr : 주소\n",
    "- exclusive_use_area : 전용면적\n",
    "- year_of_completion : 설립일자\n",
    "- transaction_year_month : 거래년월\n",
    "- transaction_date : 거래날짜\n",
    "- floor : 층\n",
    "- transaction_real_price : 실거래가 (target variable)"
   ]
  },
  {
   "cell_type": "code",
   "execution_count": null,
   "id": "christian-display",
   "metadata": {
    "colab": {
     "base_uri": "https://localhost:8080/",
     "height": 1000
    },
    "executionInfo": {
     "elapsed": 6,
     "status": "ok",
     "timestamp": 1645122481622,
     "user": {
      "displayName": "최윤성",
      "photoUrl": "https://lh3.googleusercontent.com/a-/AOh14GhPE9xSgYvruTxaBI1PrRZRNWn21DzdbLmy5HR0Xg=s64",
      "userId": "17937737491555296546"
     },
     "user_tz": -540
    },
    "id": "christian-display",
    "outputId": "60e76bb2-218d-4508-96f5-3ef308b6945b"
   },
   "outputs": [
    {
     "data": {
      "text/html": [
       "<div>\n",
       "<style scoped>\n",
       "    .dataframe tbody tr th:only-of-type {\n",
       "        vertical-align: middle;\n",
       "    }\n",
       "\n",
       "    .dataframe tbody tr th {\n",
       "        vertical-align: top;\n",
       "    }\n",
       "\n",
       "    .dataframe thead th {\n",
       "        text-align: right;\n",
       "    }\n",
       "</style>\n",
       "<table border=\"1\" class=\"dataframe\">\n",
       "  <thead>\n",
       "    <tr style=\"text-align: right;\">\n",
       "      <th></th>\n",
       "      <th>transaction_id</th>\n",
       "      <th>apartment_id</th>\n",
       "      <th>city</th>\n",
       "      <th>dong</th>\n",
       "      <th>jibun</th>\n",
       "      <th>apt</th>\n",
       "      <th>addr_kr</th>\n",
       "      <th>exclusive_use_area</th>\n",
       "      <th>year_of_completion</th>\n",
       "      <th>transaction_year_month</th>\n",
       "      <th>transaction_date</th>\n",
       "      <th>floor</th>\n",
       "      <th>transaction_real_price</th>\n",
       "    </tr>\n",
       "  </thead>\n",
       "  <tbody>\n",
       "    <tr>\n",
       "      <th>0</th>\n",
       "      <td>0</td>\n",
       "      <td>7622</td>\n",
       "      <td>서울특별시</td>\n",
       "      <td>신교동</td>\n",
       "      <td>6-13</td>\n",
       "      <td>신현(101동)</td>\n",
       "      <td>신교동 6-13 신현(101동)</td>\n",
       "      <td>84.82</td>\n",
       "      <td>2002</td>\n",
       "      <td>200801</td>\n",
       "      <td>21~31</td>\n",
       "      <td>2</td>\n",
       "      <td>37500</td>\n",
       "    </tr>\n",
       "    <tr>\n",
       "      <th>1</th>\n",
       "      <td>1</td>\n",
       "      <td>5399</td>\n",
       "      <td>서울특별시</td>\n",
       "      <td>필운동</td>\n",
       "      <td>142</td>\n",
       "      <td>사직파크맨션</td>\n",
       "      <td>필운동 142 사직파크맨션</td>\n",
       "      <td>99.17</td>\n",
       "      <td>1973</td>\n",
       "      <td>200801</td>\n",
       "      <td>1~10</td>\n",
       "      <td>6</td>\n",
       "      <td>20000</td>\n",
       "    </tr>\n",
       "    <tr>\n",
       "      <th>2</th>\n",
       "      <td>2</td>\n",
       "      <td>3578</td>\n",
       "      <td>서울특별시</td>\n",
       "      <td>필운동</td>\n",
       "      <td>174-1</td>\n",
       "      <td>두레엘리시안</td>\n",
       "      <td>필운동 174-1 두레엘리시안</td>\n",
       "      <td>84.74</td>\n",
       "      <td>2007</td>\n",
       "      <td>200801</td>\n",
       "      <td>1~10</td>\n",
       "      <td>6</td>\n",
       "      <td>38500</td>\n",
       "    </tr>\n",
       "    <tr>\n",
       "      <th>3</th>\n",
       "      <td>3</td>\n",
       "      <td>10957</td>\n",
       "      <td>서울특별시</td>\n",
       "      <td>내수동</td>\n",
       "      <td>95</td>\n",
       "      <td>파크팰리스</td>\n",
       "      <td>내수동 95 파크팰리스</td>\n",
       "      <td>146.39</td>\n",
       "      <td>2003</td>\n",
       "      <td>200801</td>\n",
       "      <td>11~20</td>\n",
       "      <td>15</td>\n",
       "      <td>118000</td>\n",
       "    </tr>\n",
       "    <tr>\n",
       "      <th>4</th>\n",
       "      <td>4</td>\n",
       "      <td>10639</td>\n",
       "      <td>서울특별시</td>\n",
       "      <td>내수동</td>\n",
       "      <td>110-15</td>\n",
       "      <td>킹스매너</td>\n",
       "      <td>내수동 110-15 킹스매너</td>\n",
       "      <td>194.43</td>\n",
       "      <td>2004</td>\n",
       "      <td>200801</td>\n",
       "      <td>21~31</td>\n",
       "      <td>3</td>\n",
       "      <td>120000</td>\n",
       "    </tr>\n",
       "    <tr>\n",
       "      <th>5</th>\n",
       "      <td>5</td>\n",
       "      <td>12536</td>\n",
       "      <td>서울특별시</td>\n",
       "      <td>인의동</td>\n",
       "      <td>48-2</td>\n",
       "      <td>효성쥬얼리시티</td>\n",
       "      <td>인의동 48-2 효성쥬얼리시티</td>\n",
       "      <td>106.81</td>\n",
       "      <td>2006</td>\n",
       "      <td>200801</td>\n",
       "      <td>1~10</td>\n",
       "      <td>16</td>\n",
       "      <td>67000</td>\n",
       "    </tr>\n",
       "    <tr>\n",
       "      <th>6</th>\n",
       "      <td>6</td>\n",
       "      <td>12536</td>\n",
       "      <td>서울특별시</td>\n",
       "      <td>인의동</td>\n",
       "      <td>48-2</td>\n",
       "      <td>효성쥬얼리시티</td>\n",
       "      <td>인의동 48-2 효성쥬얼리시티</td>\n",
       "      <td>92.81</td>\n",
       "      <td>2006</td>\n",
       "      <td>200801</td>\n",
       "      <td>1~10</td>\n",
       "      <td>7</td>\n",
       "      <td>50270</td>\n",
       "    </tr>\n",
       "    <tr>\n",
       "      <th>7</th>\n",
       "      <td>7</td>\n",
       "      <td>12536</td>\n",
       "      <td>서울특별시</td>\n",
       "      <td>인의동</td>\n",
       "      <td>48-2</td>\n",
       "      <td>효성쥬얼리시티</td>\n",
       "      <td>인의동 48-2 효성쥬얼리시티</td>\n",
       "      <td>98.39</td>\n",
       "      <td>2006</td>\n",
       "      <td>200801</td>\n",
       "      <td>11~20</td>\n",
       "      <td>7</td>\n",
       "      <td>46000</td>\n",
       "    </tr>\n",
       "    <tr>\n",
       "      <th>8</th>\n",
       "      <td>8</td>\n",
       "      <td>12536</td>\n",
       "      <td>서울특별시</td>\n",
       "      <td>인의동</td>\n",
       "      <td>48-2</td>\n",
       "      <td>효성쥬얼리시티</td>\n",
       "      <td>인의동 48-2 효성쥬얼리시티</td>\n",
       "      <td>84.64</td>\n",
       "      <td>2006</td>\n",
       "      <td>200801</td>\n",
       "      <td>21~31</td>\n",
       "      <td>15</td>\n",
       "      <td>35368</td>\n",
       "    </tr>\n",
       "    <tr>\n",
       "      <th>9</th>\n",
       "      <td>9</td>\n",
       "      <td>12536</td>\n",
       "      <td>서울특별시</td>\n",
       "      <td>인의동</td>\n",
       "      <td>48-2</td>\n",
       "      <td>효성쥬얼리시티</td>\n",
       "      <td>인의동 48-2 효성쥬얼리시티</td>\n",
       "      <td>84.98</td>\n",
       "      <td>2006</td>\n",
       "      <td>200801</td>\n",
       "      <td>21~31</td>\n",
       "      <td>7</td>\n",
       "      <td>46800</td>\n",
       "    </tr>\n",
       "    <tr>\n",
       "      <th>10</th>\n",
       "      <td>10</td>\n",
       "      <td>333</td>\n",
       "      <td>서울특별시</td>\n",
       "      <td>이화동</td>\n",
       "      <td>9-1</td>\n",
       "      <td>(9-1)</td>\n",
       "      <td>이화동 9-1 (9-1)</td>\n",
       "      <td>40.32</td>\n",
       "      <td>2004</td>\n",
       "      <td>200801</td>\n",
       "      <td>21~31</td>\n",
       "      <td>7</td>\n",
       "      <td>15000</td>\n",
       "    </tr>\n",
       "    <tr>\n",
       "      <th>11</th>\n",
       "      <td>11</td>\n",
       "      <td>7808</td>\n",
       "      <td>서울특별시</td>\n",
       "      <td>명륜1가</td>\n",
       "      <td>45-5</td>\n",
       "      <td>아마레스</td>\n",
       "      <td>명륜1가 45-5 아마레스</td>\n",
       "      <td>84.59</td>\n",
       "      <td>2002</td>\n",
       "      <td>200801</td>\n",
       "      <td>1~10</td>\n",
       "      <td>1</td>\n",
       "      <td>30400</td>\n",
       "    </tr>\n",
       "    <tr>\n",
       "      <th>12</th>\n",
       "      <td>12</td>\n",
       "      <td>4117</td>\n",
       "      <td>서울특별시</td>\n",
       "      <td>명륜1가</td>\n",
       "      <td>33-85</td>\n",
       "      <td>리치캐슬아파트</td>\n",
       "      <td>명륜1가 33-85 리치캐슬아파트</td>\n",
       "      <td>75.60</td>\n",
       "      <td>2003</td>\n",
       "      <td>200801</td>\n",
       "      <td>1~10</td>\n",
       "      <td>2</td>\n",
       "      <td>22000</td>\n",
       "    </tr>\n",
       "    <tr>\n",
       "      <th>13</th>\n",
       "      <td>13</td>\n",
       "      <td>7756</td>\n",
       "      <td>서울특별시</td>\n",
       "      <td>명륜2가</td>\n",
       "      <td>237</td>\n",
       "      <td>아남3</td>\n",
       "      <td>명륜2가 237 아남3</td>\n",
       "      <td>47.43</td>\n",
       "      <td>1999</td>\n",
       "      <td>200801</td>\n",
       "      <td>11~20</td>\n",
       "      <td>6</td>\n",
       "      <td>24700</td>\n",
       "    </tr>\n",
       "    <tr>\n",
       "      <th>14</th>\n",
       "      <td>14</td>\n",
       "      <td>7756</td>\n",
       "      <td>서울특별시</td>\n",
       "      <td>명륜2가</td>\n",
       "      <td>237</td>\n",
       "      <td>아남3</td>\n",
       "      <td>명륜2가 237 아남3</td>\n",
       "      <td>65.78</td>\n",
       "      <td>1999</td>\n",
       "      <td>200801</td>\n",
       "      <td>21~31</td>\n",
       "      <td>5</td>\n",
       "      <td>39800</td>\n",
       "    </tr>\n",
       "  </tbody>\n",
       "</table>\n",
       "</div>"
      ],
      "text/plain": [
       "    transaction_id  apartment_id   city  dong   jibun       apt  \\\n",
       "0                0          7622  서울특별시   신교동    6-13  신현(101동)   \n",
       "1                1          5399  서울특별시   필운동     142    사직파크맨션   \n",
       "2                2          3578  서울특별시   필운동   174-1    두레엘리시안   \n",
       "3                3         10957  서울특별시   내수동      95     파크팰리스   \n",
       "4                4         10639  서울특별시   내수동  110-15      킹스매너   \n",
       "5                5         12536  서울특별시   인의동    48-2   효성쥬얼리시티   \n",
       "6                6         12536  서울특별시   인의동    48-2   효성쥬얼리시티   \n",
       "7                7         12536  서울특별시   인의동    48-2   효성쥬얼리시티   \n",
       "8                8         12536  서울특별시   인의동    48-2   효성쥬얼리시티   \n",
       "9                9         12536  서울특별시   인의동    48-2   효성쥬얼리시티   \n",
       "10              10           333  서울특별시   이화동     9-1     (9-1)   \n",
       "11              11          7808  서울특별시  명륜1가    45-5      아마레스   \n",
       "12              12          4117  서울특별시  명륜1가   33-85   리치캐슬아파트   \n",
       "13              13          7756  서울특별시  명륜2가     237       아남3   \n",
       "14              14          7756  서울특별시  명륜2가     237       아남3   \n",
       "\n",
       "               addr_kr  exclusive_use_area  year_of_completion  \\\n",
       "0    신교동 6-13 신현(101동)               84.82                2002   \n",
       "1       필운동 142 사직파크맨션               99.17                1973   \n",
       "2     필운동 174-1 두레엘리시안               84.74                2007   \n",
       "3         내수동 95 파크팰리스              146.39                2003   \n",
       "4      내수동 110-15 킹스매너              194.43                2004   \n",
       "5     인의동 48-2 효성쥬얼리시티              106.81                2006   \n",
       "6     인의동 48-2 효성쥬얼리시티               92.81                2006   \n",
       "7     인의동 48-2 효성쥬얼리시티               98.39                2006   \n",
       "8     인의동 48-2 효성쥬얼리시티               84.64                2006   \n",
       "9     인의동 48-2 효성쥬얼리시티               84.98                2006   \n",
       "10       이화동 9-1 (9-1)               40.32                2004   \n",
       "11      명륜1가 45-5 아마레스               84.59                2002   \n",
       "12  명륜1가 33-85 리치캐슬아파트               75.60                2003   \n",
       "13        명륜2가 237 아남3               47.43                1999   \n",
       "14        명륜2가 237 아남3               65.78                1999   \n",
       "\n",
       "    transaction_year_month transaction_date  floor  transaction_real_price  \n",
       "0                   200801            21~31      2                   37500  \n",
       "1                   200801             1~10      6                   20000  \n",
       "2                   200801             1~10      6                   38500  \n",
       "3                   200801            11~20     15                  118000  \n",
       "4                   200801            21~31      3                  120000  \n",
       "5                   200801             1~10     16                   67000  \n",
       "6                   200801             1~10      7                   50270  \n",
       "7                   200801            11~20      7                   46000  \n",
       "8                   200801            21~31     15                   35368  \n",
       "9                   200801            21~31      7                   46800  \n",
       "10                  200801            21~31      7                   15000  \n",
       "11                  200801             1~10      1                   30400  \n",
       "12                  200801             1~10      2                   22000  \n",
       "13                  200801            11~20      6                   24700  \n",
       "14                  200801            21~31      5                   39800  "
      ]
     },
     "execution_count": 12,
     "metadata": {},
     "output_type": "execute_result"
    }
   ],
   "source": [
    "df_train.head(15)"
   ]
  },
  {
   "cell_type": "code",
   "execution_count": 12,
   "id": "8db80d79",
   "metadata": {},
   "outputs": [
    {
     "data": {
      "text/plain": [
       "transaction_id            0\n",
       "apartment_id              0\n",
       "city                      0\n",
       "dong                      0\n",
       "jibun                     0\n",
       "apt                       0\n",
       "addr_kr                   0\n",
       "exclusive_use_area        0\n",
       "year_of_completion        0\n",
       "transaction_year_month    0\n",
       "transaction_date          0\n",
       "floor                     0\n",
       "transaction_real_price    0\n",
       "dtype: int64"
      ]
     },
     "execution_count": 12,
     "metadata": {},
     "output_type": "execute_result"
    }
   ],
   "source": [
    "df_train.isnull().sum()  # 컬럼별 결측값 개수 체크"
   ]
  },
  {
   "cell_type": "code",
   "execution_count": 13,
   "id": "fb4f9aa9",
   "metadata": {},
   "outputs": [
    {
     "data": {
      "text/plain": [
       "transaction_id            0\n",
       "apartment_id              0\n",
       "city                      0\n",
       "dong                      0\n",
       "jibun                     0\n",
       "apt                       0\n",
       "addr_kr                   0\n",
       "exclusive_use_area        0\n",
       "year_of_completion        0\n",
       "transaction_year_month    0\n",
       "transaction_date          0\n",
       "floor                     0\n",
       "dtype: int64"
      ]
     },
     "execution_count": 13,
     "metadata": {},
     "output_type": "execute_result"
    }
   ],
   "source": [
    "df_test.isnull().sum()"
   ]
  },
  {
   "cell_type": "markdown",
   "id": "electrical-sucking",
   "metadata": {
    "id": "electrical-sucking"
   },
   "source": [
    "# 2. EDA"
   ]
  },
  {
   "cell_type": "markdown",
   "id": "polar-pointer",
   "metadata": {
    "id": "polar-pointer"
   },
   "source": [
    "### 2.1 Target Variable (Dependent Variable)"
   ]
  },
  {
   "cell_type": "markdown",
   "id": "dynamic-removal",
   "metadata": {
    "id": "dynamic-removal"
   },
   "source": [
    "### transaction_real_price : 실거래가"
   ]
  },
  {
   "cell_type": "code",
   "execution_count": 14,
   "id": "established-patient",
   "metadata": {
    "colab": {
     "base_uri": "https://localhost:8080/"
    },
    "executionInfo": {
     "elapsed": 2,
     "status": "ok",
     "timestamp": 1645122482086,
     "user": {
      "displayName": "최윤성",
      "photoUrl": "https://lh3.googleusercontent.com/a-/AOh14GhPE9xSgYvruTxaBI1PrRZRNWn21DzdbLmy5HR0Xg=s64",
      "userId": "17937737491555296546"
     },
     "user_tz": -540
    },
    "id": "established-patient",
    "outputId": "4db98bd9-ca41-44fc-e509-5bc9cddb4134"
   },
   "outputs": [
    {
     "data": {
      "text/plain": [
       "count    742285.000000\n",
       "mean      49169.779317\n",
       "std       33868.323394\n",
       "min         350.000000\n",
       "25%       29000.000000\n",
       "50%       40000.000000\n",
       "75%       58000.000000\n",
       "max      820000.000000\n",
       "Name: transaction_real_price, dtype: float64"
      ]
     },
     "execution_count": 14,
     "metadata": {},
     "output_type": "execute_result"
    }
   ],
   "source": [
    "df_train['transaction_real_price'].describe()  # 평균 : 38227.69 / min : 100 / max : 820000"
   ]
  },
  {
   "cell_type": "code",
   "execution_count": null,
   "id": "thick-clone",
   "metadata": {
    "colab": {
     "base_uri": "https://localhost:8080/",
     "height": 444
    },
    "executionInfo": {
     "elapsed": 6132,
     "status": "ok",
     "timestamp": 1645122488217,
     "user": {
      "displayName": "최윤성",
      "photoUrl": "https://lh3.googleusercontent.com/a-/AOh14GhPE9xSgYvruTxaBI1PrRZRNWn21DzdbLmy5HR0Xg=s64",
      "userId": "17937737491555296546"
     },
     "user_tz": -540
    },
    "id": "thick-clone",
    "outputId": "e30acb41-55f5-4013-cb7c-24498522ea60"
   },
   "outputs": [
    {
     "name": "stdout",
     "output_type": "stream",
     "text": [
      "transaction_real_price -> Skewness: 3.385371, Kurtosis: 23.499056\n"
     ]
    },
    {
     "data": {
      "image/png": "[encoded data removed]",
      "text/plain": [
       "<Figure size 576x432 with 1 Axes>"
      ]
     },
     "metadata": {
      "needs_background": "light"
     },
     "output_type": "display_data"
    }
   ],
   "source": [
    "f, ax = plt.subplots(figsize = (8,6))\n",
    "sns.distplot(df_train['transaction_real_price'])\n",
    "print(\"%s -> Skewness: %f, Kurtosis: %f\" %  ('transaction_real_price',df_train['transaction_real_price'].skew(), \n",
    "                                                     df_train['transaction_real_price'].kurt()))"
   ]
  },
  {
   "cell_type": "markdown",
   "id": "closed-atlas",
   "metadata": {
    "id": "closed-atlas"
   },
   "source": [
    "### columns 상관관계"
   ]
  },
  {
   "cell_type": "code",
   "execution_count": 15,
   "id": "progressive-soccer",
   "metadata": {
    "colab": {
     "base_uri": "https://localhost:8080/",
     "height": 595
    },
    "executionInfo": {
     "elapsed": 838,
     "status": "ok",
     "timestamp": 1645122489051,
     "user": {
      "displayName": "최윤성",
      "photoUrl": "https://lh3.googleusercontent.com/a-/AOh14GhPE9xSgYvruTxaBI1PrRZRNWn21DzdbLmy5HR0Xg=s64",
      "userId": "17937737491555296546"
     },
     "user_tz": -540
    },
    "id": "progressive-soccer",
    "outputId": "c62c8bee-83b5-4a23-b961-daf3f0296fa3"
   },
   "outputs": [
    {
     "data": {
      "text/plain": [
       "<Axes: >"
      ]
     },
     "execution_count": 15,
     "metadata": {},
     "output_type": "execute_result"
    },
    {
     "data": {
      "image/png": "[encoded data removed]",
      "text/plain": [
       "<Figure size 800x600 with 2 Axes>"
      ]
     },
     "metadata": {},
     "output_type": "display_data"
    }
   ],
   "source": [
    "#상관관계 확인\n",
    "k=df_train.shape[1] #히트맵 변수 갯수\n",
    "corrmat = df_train.corr() #변수간의 상관관계\n",
    "cols = corrmat.nlargest(k, 'transaction_real_price')['transaction_real_price'].index #price기준으로 제일 큰순서대로 20개를 뽑아냄\n",
    "cm = np.corrcoef(df_train[cols].values.T)\n",
    "f, ax = plt.subplots(figsize=(8, 6))\n",
    "sns.heatmap(data = cm, annot=True, square=True, fmt = '.2f', linewidths=.5, cmap='Reds', \n",
    "            yticklabels = cols.values, xticklabels = cols.values)"
   ]
  },
  {
   "cell_type": "markdown",
   "id": "recreational-mobility",
   "metadata": {
    "id": "recreational-mobility"
   },
   "source": [
    "### 2.2 Numeric variable (feature)"
   ]
  },
  {
   "cell_type": "markdown",
   "id": "atmospheric-conducting",
   "metadata": {
    "id": "atmospheric-conducting"
   },
   "source": [
    "### transaction_id & apartment_id : 거래 id & 아파트 id"
   ]
  },
  {
   "cell_type": "code",
   "execution_count": null,
   "id": "younger-birthday",
   "metadata": {
    "colab": {
     "base_uri": "https://localhost:8080/"
    },
    "executionInfo": {
     "elapsed": 7,
     "status": "ok",
     "timestamp": 1645122489052,
     "user": {
      "displayName": "최윤성",
      "photoUrl": "https://lh3.googleusercontent.com/a-/AOh14GhPE9xSgYvruTxaBI1PrRZRNWn21DzdbLmy5HR0Xg=s64",
      "userId": "17937737491555296546"
     },
     "user_tz": -540
    },
    "id": "younger-birthday",
    "outputId": "6dcddd75-bdfb-4355-9f46-d7202117d1a7"
   },
   "outputs": [
    {
     "data": {
      "text/plain": [
       "8251"
      ]
     },
     "execution_count": 18,
     "metadata": {},
     "output_type": "execute_result"
    }
   ],
   "source": [
    "len(df_train['apartment_id'].unique())"
   ]
  },
  {
   "cell_type": "code",
   "execution_count": null,
   "id": "884b612b",
   "metadata": {},
   "outputs": [],
   "source": [
    "# transation_id는 예측에 필요 없으므로 삭제\n",
    "train_id = df_train['transaction_id']  \n",
    "df_train = df_train.drop('transaction_id', axis=1)\n",
    "test_id = df_test['transaction_id']\n",
    "df_test = df_test.drop('transaction_id', axis=1)"
   ]
  },
  {
   "cell_type": "markdown",
   "id": "confused-performance",
   "metadata": {
    "id": "confused-performance"
   },
   "source": [
    "### floor : 층"
   ]
  },
  {
   "cell_type": "code",
   "execution_count": null,
   "id": "limited-circulation",
   "metadata": {
    "colab": {
     "base_uri": "https://localhost:8080/",
     "height": 428
    },
    "executionInfo": {
     "elapsed": 3475,
     "status": "ok",
     "timestamp": 1645122492932,
     "user": {
      "displayName": "최윤성",
      "photoUrl": "https://lh3.googleusercontent.com/a-/AOh14GhPE9xSgYvruTxaBI1PrRZRNWn21DzdbLmy5HR0Xg=s64",
      "userId": "17937737491555296546"
     },
     "user_tz": -540
    },
    "id": "limited-circulation",
    "outputId": "314f5f32-f577-4136-86cd-6e499b0eb201"
   },
   "outputs": [
    {
     "name": "stdout",
     "output_type": "stream",
     "text": [
      "floor -> Skewness: 1.103358, Kurtosis: 2.448246\n"
     ]
    },
    {
     "data": {
      "image/png": "[encoded data removed]",
      "text/plain": [
       "<Figure size 576x432 with 1 Axes>"
      ]
     },
     "metadata": {
      "needs_background": "light"
     },
     "output_type": "display_data"
    }
   ],
   "source": [
    "# floor의 분포\n",
    "f, ax = plt.subplots(figsize = (8,6))\n",
    "sns.distplot(df_train['floor'])"
   ]
  },
  {
   "cell_type": "code",
   "execution_count": null,
   "id": "certified-booking",
   "metadata": {
    "colab": {
     "base_uri": "https://localhost:8080/",
     "height": 410
    },
    "executionInfo": {
     "elapsed": 1807,
     "status": "ok",
     "timestamp": 1645122494736,
     "user": {
      "displayName": "최윤성",
      "photoUrl": "https://lh3.googleusercontent.com/a-/AOh14GhPE9xSgYvruTxaBI1PrRZRNWn21DzdbLmy5HR0Xg=s64",
      "userId": "17937737491555296546"
     },
     "user_tz": -540
    },
    "id": "certified-booking",
    "outputId": "3da3a839-60ee-4d06-b824-5142239ae8a8"
   },
   "outputs": [
    {
     "data": {
      "image/png": "[encoded data removed]",
      "text/plain": [
       "<Figure size 576x432 with 1 Axes>"
      ]
     },
     "metadata": {
      "needs_background": "light"
     },
     "output_type": "display_data"
    }
   ],
   "source": [
    "# floor와 real_price와 의 상관관계\n",
    "f, ax = plt.subplots(figsize = (8,6))\n",
    "plt.scatter(df_train['floor'], df_train['transaction_real_price'])\n",
    "plt.xlabel('floor')\n",
    "plt.ylabel('transaction_real_price')\n",
    "plt.show()"
   ]
  },
  {
   "cell_type": "markdown",
   "id": "brutal-player",
   "metadata": {
    "id": "brutal-player"
   },
   "source": [
    "### exclusive_use_area : 전용 면적"
   ]
  },
  {
   "cell_type": "code",
   "execution_count": null,
   "id": "senior-storm",
   "metadata": {
    "colab": {
     "base_uri": "https://localhost:8080/"
    },
    "executionInfo": {
     "elapsed": 7,
     "status": "ok",
     "timestamp": 1645122494736,
     "user": {
      "displayName": "최윤성",
      "photoUrl": "https://lh3.googleusercontent.com/a-/AOh14GhPE9xSgYvruTxaBI1PrRZRNWn21DzdbLmy5HR0Xg=s64",
      "userId": "17937737491555296546"
     },
     "user_tz": -540
    },
    "id": "senior-storm",
    "outputId": "3b8bcf11-1262-4d87-b7ad-8d7887cfba87"
   },
   "outputs": [
    {
     "data": {
      "text/plain": [
       "count    742285.000000\n",
       "mean         77.906753\n",
       "std          28.691683\n",
       "min          11.955900\n",
       "25%          59.740000\n",
       "50%          83.160000\n",
       "75%          84.960000\n",
       "max         424.320000\n",
       "Name: exclusive_use_area, dtype: float64"
      ]
     },
     "execution_count": 22,
     "metadata": {},
     "output_type": "execute_result"
    }
   ],
   "source": [
    "df_train['exclusive_use_area'].describe()  # 평균 : 77.906753 / min : 11.9559 / max : 424.32"
   ]
  },
  {
   "cell_type": "code",
   "execution_count": null,
   "id": "comic-tract",
   "metadata": {
    "colab": {
     "base_uri": "https://localhost:8080/",
     "height": 432
    },
    "executionInfo": {
     "elapsed": 3754,
     "status": "ok",
     "timestamp": 1645122498486,
     "user": {
      "displayName": "최윤성",
      "photoUrl": "https://lh3.googleusercontent.com/a-/AOh14GhPE9xSgYvruTxaBI1PrRZRNWn21DzdbLmy5HR0Xg=s64",
      "userId": "17937737491555296546"
     },
     "user_tz": -540
    },
    "id": "comic-tract",
    "outputId": "f917fd91-bc91-451b-fa76-3e56bc38076e"
   },
   "outputs": [
    {
     "name": "stdout",
     "output_type": "stream",
     "text": [
      "exclusive_use_area -> Skewness: 1.263132, Kurtosis: 3.775781\n"
     ]
    },
    {
     "data": {
      "image/png": "[encoded data removed]",
      "text/plain": [
       "<Figure size 576x432 with 1 Axes>"
      ]
     },
     "metadata": {
      "needs_background": "light"
     },
     "output_type": "display_data"
    }
   ],
   "source": [
    "f, ax = plt.subplots(figsize = (8,6))\n",
    "sns.distplot(df_train['exclusive_use_area'])"
   ]
  },
  {
   "cell_type": "code",
   "execution_count": null,
   "id": "loaded-florist",
   "metadata": {
    "colab": {
     "base_uri": "https://localhost:8080/",
     "height": 410
    },
    "executionInfo": {
     "elapsed": 1410,
     "status": "ok",
     "timestamp": 1645122499883,
     "user": {
      "displayName": "최윤성",
      "photoUrl": "https://lh3.googleusercontent.com/a-/AOh14GhPE9xSgYvruTxaBI1PrRZRNWn21DzdbLmy5HR0Xg=s64",
      "userId": "17937737491555296546"
     },
     "user_tz": -540
    },
    "id": "loaded-florist",
    "outputId": "13766086-628b-497d-e195-f0ace401b7e2"
   },
   "outputs": [
    {
     "data": {
      "image/png": "[encoded data removed]",
      "text/plain": [
       "<Figure size 576x432 with 1 Axes>"
      ]
     },
     "metadata": {
      "needs_background": "light"
     },
     "output_type": "display_data"
    }
   ],
   "source": [
    "f, ax = plt.subplots(figsize = (8,6))\n",
    "plt.scatter(df_train['exclusive_use_area'], df_train['transaction_real_price'])\n",
    "plt.xlabel('exclusive_use_area')\n",
    "plt.ylabel('transaction_real_price')\n",
    "plt.show()"
   ]
  },
  {
   "cell_type": "code",
   "execution_count": null,
   "id": "capital-funds",
   "metadata": {
    "colab": {
     "base_uri": "https://localhost:8080/",
     "height": 142
    },
    "executionInfo": {
     "elapsed": 5,
     "status": "ok",
     "timestamp": 1645122499884,
     "user": {
      "displayName": "최윤성",
      "photoUrl": "https://lh3.googleusercontent.com/a-/AOh14GhPE9xSgYvruTxaBI1PrRZRNWn21DzdbLmy5HR0Xg=s64",
      "userId": "17937737491555296546"
     },
     "user_tz": -540
    },
    "id": "capital-funds",
    "outputId": "f1f7dffe-b48b-4f23-d838-569aa8f2f95b"
   },
   "outputs": [
    {
     "data": {
      "text/html": [
       "<div>\n",
       "<style scoped>\n",
       "    .dataframe tbody tr th:only-of-type {\n",
       "        vertical-align: middle;\n",
       "    }\n",
       "\n",
       "    .dataframe tbody tr th {\n",
       "        vertical-align: top;\n",
       "    }\n",
       "\n",
       "    .dataframe thead th {\n",
       "        text-align: right;\n",
       "    }\n",
       "</style>\n",
       "<table border=\"1\" class=\"dataframe\">\n",
       "  <thead>\n",
       "    <tr style=\"text-align: right;\">\n",
       "      <th></th>\n",
       "      <th>apartment_id</th>\n",
       "      <th>city</th>\n",
       "      <th>dong</th>\n",
       "      <th>jibun</th>\n",
       "      <th>apt</th>\n",
       "      <th>addr_kr</th>\n",
       "      <th>exclusive_use_area</th>\n",
       "      <th>year_of_completion</th>\n",
       "      <th>transaction_year_month</th>\n",
       "      <th>transaction_date</th>\n",
       "      <th>floor</th>\n",
       "      <th>transaction_real_price</th>\n",
       "    </tr>\n",
       "  </thead>\n",
       "  <tbody>\n",
       "    <tr>\n",
       "      <th>563870</th>\n",
       "      <td>12633</td>\n",
       "      <td>서울특별시</td>\n",
       "      <td>도곡동</td>\n",
       "      <td>193-1</td>\n",
       "      <td>힐데스하임빌라</td>\n",
       "      <td>도곡동 193-1 힐데스하임빌라</td>\n",
       "      <td>424.32</td>\n",
       "      <td>1998</td>\n",
       "      <td>201604</td>\n",
       "      <td>11~20</td>\n",
       "      <td>10</td>\n",
       "      <td>498000</td>\n",
       "    </tr>\n",
       "  </tbody>\n",
       "</table>\n",
       "</div>"
      ],
      "text/plain": [
       "        apartment_id   city dong  jibun      apt            addr_kr  \\\n",
       "563870         12633  서울특별시  도곡동  193-1  힐데스하임빌라  도곡동 193-1 힐데스하임빌라   \n",
       "\n",
       "        exclusive_use_area  year_of_completion  transaction_year_month  \\\n",
       "563870              424.32                1998                  201604   \n",
       "\n",
       "       transaction_date  floor  transaction_real_price  \n",
       "563870            11~20     10                  498000  "
      ]
     },
     "execution_count": 25,
     "metadata": {},
     "output_type": "execute_result"
    }
   ],
   "source": [
    "# 이상치로 보이는 것 탐색\n",
    "df_train[df_train['exclusive_use_area']>400]"
   ]
  },
  {
   "cell_type": "markdown",
   "id": "consecutive-professor",
   "metadata": {
    "id": "consecutive-professor"
   },
   "source": [
    "### transaction_year_month : 거래 년, 월"
   ]
  },
  {
   "cell_type": "code",
   "execution_count": null,
   "id": "banner-cyprus",
   "metadata": {
    "id": "banner-cyprus"
   },
   "outputs": [],
   "source": [
    "train_test_data = [df_train, df_test]\n",
    "\n",
    "for dataset in train_test_data:\n",
    "    #date -> 년, 월 단위로 새로운 칼럼 만듦\n",
    "    dataset['transaction_year_month'] = dataset['transaction_year_month'].astype(str)\n",
    "    dataset['year'] = dataset['transaction_year_month'].str[:4].astype(int)\n",
    "    dataset['month'] = dataset['transaction_year_month'].str[4:6].astype(int)\n",
    "    dataset['transaction_year_month'] = dataset['transaction_year_month'].astype(int)"
   ]
  },
  {
   "cell_type": "code",
   "execution_count": null,
   "id": "healthy-fisher",
   "metadata": {
    "colab": {
     "base_uri": "https://localhost:8080/",
     "height": 410
    },
    "executionInfo": {
     "elapsed": 346,
     "status": "ok",
     "timestamp": 1645122501623,
     "user": {
      "displayName": "최윤성",
      "photoUrl": "https://lh3.googleusercontent.com/a-/AOh14GhPE9xSgYvruTxaBI1PrRZRNWn21DzdbLmy5HR0Xg=s64",
      "userId": "17937737491555296546"
     },
     "user_tz": -540
    },
    "id": "healthy-fisher",
    "outputId": "c34bc651-4e03-418c-8df9-d5287b92690f"
   },
   "outputs": [
    {
     "data": {
      "image/png": "[encoded data removed]",
      "text/plain": [
       "<Figure size 576x432 with 1 Axes>"
      ]
     },
     "metadata": {
      "needs_background": "light"
     },
     "output_type": "display_data"
    }
   ],
   "source": [
    "f, ax = plt.subplots(figsize = (8,6))\n",
    "sns.boxplot(df_train['year'], df_train['transaction_real_price'])\n",
    "plt.show()"
   ]
  },
  {
   "cell_type": "code",
   "execution_count": null,
   "id": "major-plaza",
   "metadata": {
    "colab": {
     "base_uri": "https://localhost:8080/",
     "height": 410
    },
    "executionInfo": {
     "elapsed": 632,
     "status": "ok",
     "timestamp": 1645122502253,
     "user": {
      "displayName": "최윤성",
      "photoUrl": "https://lh3.googleusercontent.com/a-/AOh14GhPE9xSgYvruTxaBI1PrRZRNWn21DzdbLmy5HR0Xg=s64",
      "userId": "17937737491555296546"
     },
     "user_tz": -540
    },
    "id": "major-plaza",
    "outputId": "a28a8981-afc1-4260-846e-c1b18c764415"
   },
   "outputs": [
    {
     "data": {
      "image/png": "[encoded data removed]",
      "text/plain": [
       "<Figure size 576x432 with 1 Axes>"
      ]
     },
     "metadata": {
      "needs_background": "light"
     },
     "output_type": "display_data"
    }
   ],
   "source": [
    "f, ax = plt.subplots(figsize = (8,6))\n",
    "sns.boxplot(df_train['month'], df_train['transaction_real_price'])\n",
    "plt.show()"
   ]
  },
  {
   "cell_type": "markdown",
   "id": "emerging-boutique",
   "metadata": {
    "id": "emerging-boutique"
   },
   "source": [
    "### year_of_completion : 설립일자"
   ]
  },
  {
   "cell_type": "code",
   "execution_count": null,
   "id": "monthly-anthony",
   "metadata": {
    "colab": {
     "base_uri": "https://localhost:8080/",
     "height": 410
    },
    "executionInfo": {
     "elapsed": 2717,
     "status": "ok",
     "timestamp": 1645122504968,
     "user": {
      "displayName": "최윤성",
      "photoUrl": "https://lh3.googleusercontent.com/a-/AOh14GhPE9xSgYvruTxaBI1PrRZRNWn21DzdbLmy5HR0Xg=s64",
      "userId": "17937737491555296546"
     },
     "user_tz": -540
    },
    "id": "monthly-anthony",
    "outputId": "7c61176a-13cc-42a9-dc64-46092e68d633"
   },
   "outputs": [
    {
     "data": {
      "image/png": "[encoded data removed]",
      "text/plain": [
       "<Figure size 1584x432 with 1 Axes>"
      ]
     },
     "metadata": {
      "needs_background": "light"
     },
     "output_type": "display_data"
    }
   ],
   "source": [
    "f, ax = plt.subplots(figsize = (22,6))\n",
    "sns.boxplot(df_train['year_of_completion'], df_train['transaction_real_price'])\n",
    "plt.show()"
   ]
  },
  {
   "cell_type": "markdown",
   "id": "russian-roman",
   "metadata": {
    "id": "russian-roman"
   },
   "source": [
    "### 2.3 Catergorical Variable (feature)"
   ]
  },
  {
   "cell_type": "markdown",
   "id": "corresponding-honduras",
   "metadata": {
    "id": "corresponding-honduras"
   },
   "source": [
    "### addr_kr : 주소\n",
    "다른 변수들과 중복되는 내용을 담고 있으므로 삭제"
   ]
  },
  {
   "cell_type": "code",
   "execution_count": null,
   "id": "8ff49bd1",
   "metadata": {},
   "outputs": [],
   "source": [
    "df_train = df_train.drop('addr_kr', axis=1)\n",
    "df_test = df_test.drop('addr_kr', axis=1)"
   ]
  },
  {
   "cell_type": "markdown",
   "id": "copyrighted-blackjack",
   "metadata": {
    "id": "copyrighted-blackjack"
   },
   "source": [
    "### dong : 동\n",
    "데이콘 튜토리얼 샘플코드에서 한강의 유무에 따른 feature를 하나 생성 해준다."
   ]
  },
  {
   "cell_type": "code",
   "execution_count": 16,
   "id": "emotional-imagination",
   "metadata": {
    "id": "emotional-imagination"
   },
   "outputs": [],
   "source": [
    "df_train['hangang']=df_train['dong'].isin(['성수동1가','삼성동','이촌동','공덕동','서교동','한강로3가','목동']).astype(int)\n",
    "df_test['hangang']=df_test['dong'].isin(['성수동1가','삼성동','이촌동','공덕동','서교동','한강로3가','목동']).astype(int)"
   ]
  },
  {
   "cell_type": "code",
   "execution_count": null,
   "id": "rubber-vietnamese",
   "metadata": {
    "colab": {
     "base_uri": "https://localhost:8080/"
    },
    "executionInfo": {
     "elapsed": 13,
     "status": "ok",
     "timestamp": 1645122504969,
     "user": {
      "displayName": "최윤성",
      "photoUrl": "https://lh3.googleusercontent.com/a-/AOh14GhPE9xSgYvruTxaBI1PrRZRNWn21DzdbLmy5HR0Xg=s64",
      "userId": "17937737491555296546"
     },
     "user_tz": -540
    },
    "id": "rubber-vietnamese",
    "outputId": "3478b15c-5fc6-4c1a-e50a-1dacd5e3ce7e"
   },
   "outputs": [
    {
     "data": {
      "text/plain": [
       "330"
      ]
     },
     "execution_count": 32,
     "metadata": {},
     "output_type": "execute_result"
    }
   ],
   "source": [
    "len(df_train['dong'].unique())"
   ]
  },
  {
   "cell_type": "markdown",
   "id": "standing-stretch",
   "metadata": {
    "id": "standing-stretch"
   },
   "source": [
    "dong별 아파트 실거래가 평균 내림차순"
   ]
  },
  {
   "cell_type": "code",
   "execution_count": null,
   "id": "greek-curve",
   "metadata": {
    "colab": {
     "base_uri": "https://localhost:8080/",
     "height": 206
    },
    "executionInfo": {
     "elapsed": 13,
     "status": "ok",
     "timestamp": 1645122504969,
     "user": {
      "displayName": "최윤성",
      "photoUrl": "https://lh3.googleusercontent.com/a-/AOh14GhPE9xSgYvruTxaBI1PrRZRNWn21DzdbLmy5HR0Xg=s64",
      "userId": "17937737491555296546"
     },
     "user_tz": -540
    },
    "id": "greek-curve",
    "outputId": "df27bb53-6fc4-482d-c07c-fb3356f92e04"
   },
   "outputs": [
    {
     "data": {
      "text/html": [
       "<div>\n",
       "<style scoped>\n",
       "    .dataframe tbody tr th:only-of-type {\n",
       "        vertical-align: middle;\n",
       "    }\n",
       "\n",
       "    .dataframe tbody tr th {\n",
       "        vertical-align: top;\n",
       "    }\n",
       "\n",
       "    .dataframe thead th {\n",
       "        text-align: right;\n",
       "    }\n",
       "</style>\n",
       "<table border=\"1\" class=\"dataframe\">\n",
       "  <thead>\n",
       "    <tr style=\"text-align: right;\">\n",
       "      <th></th>\n",
       "      <th>dong</th>\n",
       "      <th>transaction_real_price</th>\n",
       "    </tr>\n",
       "  </thead>\n",
       "  <tbody>\n",
       "    <tr>\n",
       "      <th>0</th>\n",
       "      <td>장충동1가</td>\n",
       "      <td>269888.888889</td>\n",
       "    </tr>\n",
       "    <tr>\n",
       "      <th>1</th>\n",
       "      <td>압구정동</td>\n",
       "      <td>164534.722914</td>\n",
       "    </tr>\n",
       "    <tr>\n",
       "      <th>2</th>\n",
       "      <td>청암동</td>\n",
       "      <td>161403.700000</td>\n",
       "    </tr>\n",
       "    <tr>\n",
       "      <th>3</th>\n",
       "      <td>용산동5가</td>\n",
       "      <td>153497.331633</td>\n",
       "    </tr>\n",
       "    <tr>\n",
       "      <th>4</th>\n",
       "      <td>회현동2가</td>\n",
       "      <td>139906.140351</td>\n",
       "    </tr>\n",
       "  </tbody>\n",
       "</table>\n",
       "</div>"
      ],
      "text/plain": [
       "    dong  transaction_real_price\n",
       "0  장충동1가           269888.888889\n",
       "1   압구정동           164534.722914\n",
       "2    청암동           161403.700000\n",
       "3  용산동5가           153497.331633\n",
       "4  회현동2가           139906.140351"
      ]
     },
     "execution_count": 33,
     "metadata": {},
     "output_type": "execute_result"
    }
   ],
   "source": [
    "df_train_dong = df_train[['transaction_real_price','dong']].groupby('dong').mean().sort_values('transaction_real_price',ascending=False).reset_index()\n",
    "df_train_dong.head()"
   ]
  },
  {
   "cell_type": "markdown",
   "id": "sophisticated-inclusion",
   "metadata": {
    "id": "sophisticated-inclusion"
   },
   "source": [
    "### Jibun : 지번"
   ]
  },
  {
   "cell_type": "code",
   "execution_count": null,
   "id": "professional-cooling",
   "metadata": {
    "colab": {
     "base_uri": "https://localhost:8080/"
    },
    "executionInfo": {
     "elapsed": 12,
     "status": "ok",
     "timestamp": 1645122504969,
     "user": {
      "displayName": "최윤성",
      "photoUrl": "https://lh3.googleusercontent.com/a-/AOh14GhPE9xSgYvruTxaBI1PrRZRNWn21DzdbLmy5HR0Xg=s64",
      "userId": "17937737491555296546"
     },
     "user_tz": -540
    },
    "id": "professional-cooling",
    "outputId": "4ecda7d7-bb01-4634-eea6-26d646c31179"
   },
   "outputs": [
    {
     "data": {
      "text/plain": [
       "6119"
      ]
     },
     "execution_count": 34,
     "metadata": {},
     "output_type": "execute_result"
    }
   ],
   "source": [
    "len(df_train['jibun'].unique())"
   ]
  },
  {
   "cell_type": "code",
   "execution_count": null,
   "id": "abandoned-arkansas",
   "metadata": {
    "colab": {
     "base_uri": "https://localhost:8080/"
    },
    "executionInfo": {
     "elapsed": 10,
     "status": "ok",
     "timestamp": 1645122504969,
     "user": {
      "displayName": "최윤성",
      "photoUrl": "https://lh3.googleusercontent.com/a-/AOh14GhPE9xSgYvruTxaBI1PrRZRNWn21DzdbLmy5HR0Xg=s64",
      "userId": "17937737491555296546"
     },
     "user_tz": -540
    },
    "id": "abandoned-arkansas",
    "outputId": "7743c0a5-5225-470d-ac25-3c351d1578fd"
   },
   "outputs": [
    {
     "data": {
      "text/html": [
       "<div>\n",
       "<style scoped>\n",
       "    .dataframe tbody tr th:only-of-type {\n",
       "        vertical-align: middle;\n",
       "    }\n",
       "\n",
       "    .dataframe tbody tr th {\n",
       "        vertical-align: top;\n",
       "    }\n",
       "\n",
       "    .dataframe thead th {\n",
       "        text-align: right;\n",
       "    }\n",
       "</style>\n",
       "<table border=\"1\" class=\"dataframe\">\n",
       "  <thead>\n",
       "    <tr style=\"text-align: right;\">\n",
       "      <th></th>\n",
       "      <th>jibun</th>\n",
       "      <th>transaction_real_price</th>\n",
       "    </tr>\n",
       "  </thead>\n",
       "  <tbody>\n",
       "    <tr>\n",
       "      <th>0</th>\n",
       "      <td>128-18</td>\n",
       "      <td>530000.000000</td>\n",
       "    </tr>\n",
       "    <tr>\n",
       "      <th>1</th>\n",
       "      <td>1496-24</td>\n",
       "      <td>490000.000000</td>\n",
       "    </tr>\n",
       "    <tr>\n",
       "      <th>2</th>\n",
       "      <td>129-16</td>\n",
       "      <td>427125.000000</td>\n",
       "    </tr>\n",
       "    <tr>\n",
       "      <th>3</th>\n",
       "      <td>130-7</td>\n",
       "      <td>390702.882353</td>\n",
       "    </tr>\n",
       "    <tr>\n",
       "      <th>4</th>\n",
       "      <td>685-696</td>\n",
       "      <td>367399.154472</td>\n",
       "    </tr>\n",
       "  </tbody>\n",
       "</table>\n",
       "</div>"
      ],
      "text/plain": [
       "     jibun  transaction_real_price\n",
       "0   128-18           530000.000000\n",
       "1  1496-24           490000.000000\n",
       "2   129-16           427125.000000\n",
       "3    130-7           390702.882353\n",
       "4  685-696           367399.154472"
      ]
     },
     "execution_count": 35,
     "metadata": {},
     "output_type": "execute_result"
    }
   ],
   "source": [
    "df_train_jibun = df_train[['transaction_real_price','jibun']].groupby('jibun').mean().sort_values('transaction_real_price', ascending=False).reset_index()\n",
    "df_train_jibun.head()"
   ]
  },
  {
   "cell_type": "markdown",
   "id": "atomic-extraction",
   "metadata": {
    "id": "atomic-extraction"
   },
   "source": [
    "### apt : 아파트 단지 이름"
   ]
  },
  {
   "cell_type": "code",
   "execution_count": null,
   "id": "underlying-effort",
   "metadata": {
    "colab": {
     "base_uri": "https://localhost:8080/"
    },
    "executionInfo": {
     "elapsed": 9,
     "status": "ok",
     "timestamp": 1645122504969,
     "user": {
      "displayName": "최윤성",
      "photoUrl": "https://lh3.googleusercontent.com/a-/AOh14GhPE9xSgYvruTxaBI1PrRZRNWn21DzdbLmy5HR0Xg=s64",
      "userId": "17937737491555296546"
     },
     "user_tz": -540
    },
    "id": "underlying-effort",
    "outputId": "070f453e-a05e-4b4c-83d7-45e7d4d00faf"
   },
   "outputs": [
    {
     "data": {
      "text/plain": [
       "6917"
      ]
     },
     "execution_count": 36,
     "metadata": {},
     "output_type": "execute_result"
    }
   ],
   "source": [
    "len(df_train['apt'].unique())"
   ]
  },
  {
   "cell_type": "code",
   "execution_count": null,
   "id": "confused-central",
   "metadata": {
    "colab": {
     "base_uri": "https://localhost:8080/"
    },
    "executionInfo": {
     "elapsed": 561,
     "status": "ok",
     "timestamp": 1645122505521,
     "user": {
      "displayName": "최윤성",
      "photoUrl": "https://lh3.googleusercontent.com/a-/AOh14GhPE9xSgYvruTxaBI1PrRZRNWn21DzdbLmy5HR0Xg=s64",
      "userId": "17937737491555296546"
     },
     "user_tz": -540
    },
    "id": "confused-central",
    "outputId": "e9ff1452-216b-43f7-ea3b-0447d58bb8e6"
   },
   "outputs": [
    {
     "data": {
      "text/html": [
       "<div>\n",
       "<style scoped>\n",
       "    .dataframe tbody tr th:only-of-type {\n",
       "        vertical-align: middle;\n",
       "    }\n",
       "\n",
       "    .dataframe tbody tr th {\n",
       "        vertical-align: top;\n",
       "    }\n",
       "\n",
       "    .dataframe thead th {\n",
       "        text-align: right;\n",
       "    }\n",
       "</style>\n",
       "<table border=\"1\" class=\"dataframe\">\n",
       "  <thead>\n",
       "    <tr style=\"text-align: right;\">\n",
       "      <th></th>\n",
       "      <th>apt</th>\n",
       "      <th>transaction_real_price</th>\n",
       "    </tr>\n",
       "  </thead>\n",
       "  <tbody>\n",
       "    <tr>\n",
       "      <th>0</th>\n",
       "      <td>상지리츠빌카일룸2차</td>\n",
       "      <td>530000.000000</td>\n",
       "    </tr>\n",
       "    <tr>\n",
       "      <th>1</th>\n",
       "      <td>트라움하우스3</td>\n",
       "      <td>490000.000000</td>\n",
       "    </tr>\n",
       "    <tr>\n",
       "      <th>2</th>\n",
       "      <td>아펠바움</td>\n",
       "      <td>465860.500000</td>\n",
       "    </tr>\n",
       "    <tr>\n",
       "      <th>3</th>\n",
       "      <td>상지리츠빌카일룸3차</td>\n",
       "      <td>427125.000000</td>\n",
       "    </tr>\n",
       "    <tr>\n",
       "      <th>4</th>\n",
       "      <td>삼성동상지리츠빌카일룸</td>\n",
       "      <td>418992.666667</td>\n",
       "    </tr>\n",
       "  </tbody>\n",
       "</table>\n",
       "</div>"
      ],
      "text/plain": [
       "           apt  transaction_real_price\n",
       "0   상지리츠빌카일룸2차           530000.000000\n",
       "1      트라움하우스3           490000.000000\n",
       "2         아펠바움           465860.500000\n",
       "3   상지리츠빌카일룸3차           427125.000000\n",
       "4  삼성동상지리츠빌카일룸           418992.666667"
      ]
     },
     "execution_count": 37,
     "metadata": {},
     "output_type": "execute_result"
    }
   ],
   "source": [
    "df_train_apt = df_train[['transaction_real_price','apt']].groupby('apt').mean().sort_values('transaction_real_price',ascending=False).reset_index()\n",
    "df_train_apt.head()"
   ]
  },
  {
   "cell_type": "markdown",
   "id": "opposite-lying",
   "metadata": {
    "id": "opposite-lying"
   },
   "source": [
    "### transaction_date : 거래 날짜"
   ]
  },
  {
   "cell_type": "code",
   "execution_count": null,
   "id": "civil-timing",
   "metadata": {
    "colab": {
     "base_uri": "https://localhost:8080/"
    },
    "executionInfo": {
     "elapsed": 6,
     "status": "ok",
     "timestamp": 1645122505521,
     "user": {
      "displayName": "최윤성",
      "photoUrl": "https://lh3.googleusercontent.com/a-/AOh14GhPE9xSgYvruTxaBI1PrRZRNWn21DzdbLmy5HR0Xg=s64",
      "userId": "17937737491555296546"
     },
     "user_tz": -540
    },
    "id": "civil-timing",
    "outputId": "36b70834-420a-4d7e-84ad-361af5e3abf2"
   },
   "outputs": [
    {
     "data": {
      "text/plain": [
       "6"
      ]
     },
     "execution_count": 38,
     "metadata": {},
     "output_type": "execute_result"
    }
   ],
   "source": [
    "len(df_train['transaction_date'].unique())"
   ]
  },
  {
   "cell_type": "code",
   "execution_count": null,
   "id": "clinical-disney",
   "metadata": {
    "colab": {
     "base_uri": "https://localhost:8080/",
     "height": 206
    },
    "executionInfo": {
     "elapsed": 5,
     "status": "ok",
     "timestamp": 1645122505522,
     "user": {
      "displayName": "최윤성",
      "photoUrl": "https://lh3.googleusercontent.com/a-/AOh14GhPE9xSgYvruTxaBI1PrRZRNWn21DzdbLmy5HR0Xg=s64",
      "userId": "17937737491555296546"
     },
     "user_tz": -540
    },
    "id": "clinical-disney",
    "outputId": "9f41c1c4-a735-4c4d-f305-2ace1eb825d4"
   },
   "outputs": [
    {
     "data": {
      "text/html": [
       "<div>\n",
       "<style scoped>\n",
       "    .dataframe tbody tr th:only-of-type {\n",
       "        vertical-align: middle;\n",
       "    }\n",
       "\n",
       "    .dataframe tbody tr th {\n",
       "        vertical-align: top;\n",
       "    }\n",
       "\n",
       "    .dataframe thead th {\n",
       "        text-align: right;\n",
       "    }\n",
       "</style>\n",
       "<table border=\"1\" class=\"dataframe\">\n",
       "  <thead>\n",
       "    <tr style=\"text-align: right;\">\n",
       "      <th></th>\n",
       "      <th>transaction_date</th>\n",
       "      <th>transaction_real_price</th>\n",
       "    </tr>\n",
       "  </thead>\n",
       "  <tbody>\n",
       "    <tr>\n",
       "      <th>0</th>\n",
       "      <td>21~30</td>\n",
       "      <td>50726.147638</td>\n",
       "    </tr>\n",
       "    <tr>\n",
       "      <th>1</th>\n",
       "      <td>21~31</td>\n",
       "      <td>49846.663000</td>\n",
       "    </tr>\n",
       "    <tr>\n",
       "      <th>2</th>\n",
       "      <td>11~20</td>\n",
       "      <td>49007.913348</td>\n",
       "    </tr>\n",
       "    <tr>\n",
       "      <th>3</th>\n",
       "      <td>1~10</td>\n",
       "      <td>48672.423850</td>\n",
       "    </tr>\n",
       "    <tr>\n",
       "      <th>4</th>\n",
       "      <td>21~28</td>\n",
       "      <td>47659.191556</td>\n",
       "    </tr>\n",
       "  </tbody>\n",
       "</table>\n",
       "</div>"
      ],
      "text/plain": [
       "  transaction_date  transaction_real_price\n",
       "0            21~30            50726.147638\n",
       "1            21~31            49846.663000\n",
       "2            11~20            49007.913348\n",
       "3             1~10            48672.423850\n",
       "4            21~28            47659.191556"
      ]
     },
     "execution_count": 39,
     "metadata": {},
     "output_type": "execute_result"
    }
   ],
   "source": [
    "df_train_date = df_train[['transaction_real_price','transaction_date']].groupby('transaction_date').mean().sort_values('transaction_real_price',ascending=False).reset_index()\n",
    "df_train_date.head()"
   ]
  },
  {
   "cell_type": "markdown",
   "id": "blessed-spain",
   "metadata": {
    "id": "blessed-spain"
   },
   "source": [
    "### park 동별 파생변수 만들기"
   ]
  },
  {
   "cell_type": "code",
   "execution_count": null,
   "id": "nonprofit-midnight",
   "metadata": {
    "colab": {
     "base_uri": "https://localhost:8080/",
     "height": 336
    },
    "executionInfo": {
     "elapsed": 5,
     "status": "ok",
     "timestamp": 1645122505522,
     "user": {
      "displayName": "최윤성",
      "photoUrl": "https://lh3.googleusercontent.com/a-/AOh14GhPE9xSgYvruTxaBI1PrRZRNWn21DzdbLmy5HR0Xg=s64",
      "userId": "17937737491555296546"
     },
     "user_tz": -540
    },
    "id": "nonprofit-midnight",
    "outputId": "4fa3e08e-74ea-46c1-afd2-005931f904a9"
   },
   "outputs": [
    {
     "data": {
      "text/html": [
       "<div>\n",
       "<style scoped>\n",
       "    .dataframe tbody tr th:only-of-type {\n",
       "        vertical-align: middle;\n",
       "    }\n",
       "\n",
       "    .dataframe tbody tr th {\n",
       "        vertical-align: top;\n",
       "    }\n",
       "\n",
       "    .dataframe thead th {\n",
       "        text-align: right;\n",
       "    }\n",
       "</style>\n",
       "<table border=\"1\" class=\"dataframe\">\n",
       "  <thead>\n",
       "    <tr style=\"text-align: right;\">\n",
       "      <th></th>\n",
       "      <th>apartment_id</th>\n",
       "      <th>city</th>\n",
       "      <th>dong</th>\n",
       "      <th>jibun</th>\n",
       "      <th>apt</th>\n",
       "      <th>exclusive_use_area</th>\n",
       "      <th>year_of_completion</th>\n",
       "      <th>transaction_year_month</th>\n",
       "      <th>transaction_date</th>\n",
       "      <th>floor</th>\n",
       "      <th>transaction_real_price</th>\n",
       "      <th>year</th>\n",
       "      <th>month</th>\n",
       "      <th>hangang</th>\n",
       "    </tr>\n",
       "  </thead>\n",
       "  <tbody>\n",
       "    <tr>\n",
       "      <th>0</th>\n",
       "      <td>7622</td>\n",
       "      <td>서울특별시</td>\n",
       "      <td>신교동</td>\n",
       "      <td>6-13</td>\n",
       "      <td>신현(101동)</td>\n",
       "      <td>84.82</td>\n",
       "      <td>2002</td>\n",
       "      <td>200801</td>\n",
       "      <td>21~31</td>\n",
       "      <td>2</td>\n",
       "      <td>37500</td>\n",
       "      <td>2008</td>\n",
       "      <td>1</td>\n",
       "      <td>0</td>\n",
       "    </tr>\n",
       "    <tr>\n",
       "      <th>1</th>\n",
       "      <td>5399</td>\n",
       "      <td>서울특별시</td>\n",
       "      <td>필운동</td>\n",
       "      <td>142</td>\n",
       "      <td>사직파크맨션</td>\n",
       "      <td>99.17</td>\n",
       "      <td>1973</td>\n",
       "      <td>200801</td>\n",
       "      <td>1~10</td>\n",
       "      <td>6</td>\n",
       "      <td>20000</td>\n",
       "      <td>2008</td>\n",
       "      <td>1</td>\n",
       "      <td>0</td>\n",
       "    </tr>\n",
       "    <tr>\n",
       "      <th>2</th>\n",
       "      <td>3578</td>\n",
       "      <td>서울특별시</td>\n",
       "      <td>필운동</td>\n",
       "      <td>174-1</td>\n",
       "      <td>두레엘리시안</td>\n",
       "      <td>84.74</td>\n",
       "      <td>2007</td>\n",
       "      <td>200801</td>\n",
       "      <td>1~10</td>\n",
       "      <td>6</td>\n",
       "      <td>38500</td>\n",
       "      <td>2008</td>\n",
       "      <td>1</td>\n",
       "      <td>0</td>\n",
       "    </tr>\n",
       "    <tr>\n",
       "      <th>3</th>\n",
       "      <td>10957</td>\n",
       "      <td>서울특별시</td>\n",
       "      <td>내수동</td>\n",
       "      <td>95</td>\n",
       "      <td>파크팰리스</td>\n",
       "      <td>146.39</td>\n",
       "      <td>2003</td>\n",
       "      <td>200801</td>\n",
       "      <td>11~20</td>\n",
       "      <td>15</td>\n",
       "      <td>118000</td>\n",
       "      <td>2008</td>\n",
       "      <td>1</td>\n",
       "      <td>0</td>\n",
       "    </tr>\n",
       "    <tr>\n",
       "      <th>4</th>\n",
       "      <td>10639</td>\n",
       "      <td>서울특별시</td>\n",
       "      <td>내수동</td>\n",
       "      <td>110-15</td>\n",
       "      <td>킹스매너</td>\n",
       "      <td>194.43</td>\n",
       "      <td>2004</td>\n",
       "      <td>200801</td>\n",
       "      <td>21~31</td>\n",
       "      <td>3</td>\n",
       "      <td>120000</td>\n",
       "      <td>2008</td>\n",
       "      <td>1</td>\n",
       "      <td>0</td>\n",
       "    </tr>\n",
       "  </tbody>\n",
       "</table>\n",
       "</div>"
      ],
      "text/plain": [
       "   apartment_id   city dong   jibun       apt  exclusive_use_area  \\\n",
       "0          7622  서울특별시  신교동    6-13  신현(101동)               84.82   \n",
       "1          5399  서울특별시  필운동     142    사직파크맨션               99.17   \n",
       "2          3578  서울특별시  필운동   174-1    두레엘리시안               84.74   \n",
       "3         10957  서울특별시  내수동      95     파크팰리스              146.39   \n",
       "4         10639  서울특별시  내수동  110-15      킹스매너              194.43   \n",
       "\n",
       "   year_of_completion  transaction_year_month transaction_date  floor  \\\n",
       "0                2002                  200801            21~31      2   \n",
       "1                1973                  200801             1~10      6   \n",
       "2                2007                  200801             1~10      6   \n",
       "3                2003                  200801            11~20     15   \n",
       "4                2004                  200801            21~31      3   \n",
       "\n",
       "   transaction_real_price  year  month  hangang  \n",
       "0                   37500  2008      1        0  \n",
       "1                   20000  2008      1        0  \n",
       "2                   38500  2008      1        0  \n",
       "3                  118000  2008      1        0  \n",
       "4                  120000  2008      1        0  "
      ]
     },
     "execution_count": 40,
     "metadata": {},
     "output_type": "execute_result"
    }
   ],
   "source": [
    "df_train.head()"
   ]
  },
  {
   "cell_type": "code",
   "execution_count": null,
   "id": "played-belgium",
   "metadata": {
    "colab": {
     "base_uri": "https://localhost:8080/",
     "height": 443
    },
    "executionInfo": {
     "elapsed": 304,
     "status": "ok",
     "timestamp": 1645122505822,
     "user": {
      "displayName": "최윤성",
      "photoUrl": "https://lh3.googleusercontent.com/a-/AOh14GhPE9xSgYvruTxaBI1PrRZRNWn21DzdbLmy5HR0Xg=s64",
      "userId": "17937737491555296546"
     },
     "user_tz": -540
    },
    "id": "played-belgium",
    "outputId": "bd1e898f-83d8-4a56-e0aa-7c27c9c0fef8"
   },
   "outputs": [
    {
     "data": {
      "text/html": [
       "<div>\n",
       "<style scoped>\n",
       "    .dataframe tbody tr th:only-of-type {\n",
       "        vertical-align: middle;\n",
       "    }\n",
       "\n",
       "    .dataframe tbody tr th {\n",
       "        vertical-align: top;\n",
       "    }\n",
       "\n",
       "    .dataframe thead th {\n",
       "        text-align: right;\n",
       "    }\n",
       "</style>\n",
       "<table border=\"1\" class=\"dataframe\">\n",
       "  <thead>\n",
       "    <tr style=\"text-align: right;\">\n",
       "      <th></th>\n",
       "      <th>city</th>\n",
       "      <th>gu</th>\n",
       "      <th>dong</th>\n",
       "      <th>park_name</th>\n",
       "      <th>park_type</th>\n",
       "      <th>park_area</th>\n",
       "      <th>park_exercise_facility</th>\n",
       "      <th>park_entertainment_facility</th>\n",
       "      <th>park_benefit_facility</th>\n",
       "      <th>park_cultural_facitiy</th>\n",
       "      <th>park_facility_other</th>\n",
       "      <th>park_open_year</th>\n",
       "      <th>reference_date</th>\n",
       "    </tr>\n",
       "  </thead>\n",
       "  <tbody>\n",
       "    <tr>\n",
       "      <th>0</th>\n",
       "      <td>부산광역시</td>\n",
       "      <td>남구</td>\n",
       "      <td>대연동</td>\n",
       "      <td>대연공원</td>\n",
       "      <td>근린공원</td>\n",
       "      <td>55227.0</td>\n",
       "      <td>NaN</td>\n",
       "      <td>NaN</td>\n",
       "      <td>NaN</td>\n",
       "      <td>NaN</td>\n",
       "      <td>NaN</td>\n",
       "      <td>1944.0</td>\n",
       "      <td>2018-08-14</td>\n",
       "    </tr>\n",
       "    <tr>\n",
       "      <th>1</th>\n",
       "      <td>부산광역시</td>\n",
       "      <td>남구</td>\n",
       "      <td>대연동</td>\n",
       "      <td>당곡공원</td>\n",
       "      <td>역사공원</td>\n",
       "      <td>75465.0</td>\n",
       "      <td>NaN</td>\n",
       "      <td>NaN</td>\n",
       "      <td>NaN</td>\n",
       "      <td>NaN</td>\n",
       "      <td>NaN</td>\n",
       "      <td>1944.0</td>\n",
       "      <td>2018-08-14</td>\n",
       "    </tr>\n",
       "    <tr>\n",
       "      <th>2</th>\n",
       "      <td>부산광역시</td>\n",
       "      <td>남구</td>\n",
       "      <td>대연동</td>\n",
       "      <td>대일어린이공원</td>\n",
       "      <td>어린이공원</td>\n",
       "      <td>422.1</td>\n",
       "      <td>NaN</td>\n",
       "      <td>NaN</td>\n",
       "      <td>NaN</td>\n",
       "      <td>NaN</td>\n",
       "      <td>NaN</td>\n",
       "      <td>1965.0</td>\n",
       "      <td>2018-08-14</td>\n",
       "    </tr>\n",
       "    <tr>\n",
       "      <th>3</th>\n",
       "      <td>부산광역시</td>\n",
       "      <td>남구</td>\n",
       "      <td>대연동</td>\n",
       "      <td>못골어린이공원</td>\n",
       "      <td>어린이공원</td>\n",
       "      <td>499.8</td>\n",
       "      <td>NaN</td>\n",
       "      <td>NaN</td>\n",
       "      <td>NaN</td>\n",
       "      <td>NaN</td>\n",
       "      <td>NaN</td>\n",
       "      <td>1968.0</td>\n",
       "      <td>2018-08-14</td>\n",
       "    </tr>\n",
       "    <tr>\n",
       "      <th>4</th>\n",
       "      <td>부산광역시</td>\n",
       "      <td>남구</td>\n",
       "      <td>용호동</td>\n",
       "      <td>솔밭어린이공원</td>\n",
       "      <td>어린이공원</td>\n",
       "      <td>1500.2</td>\n",
       "      <td>NaN</td>\n",
       "      <td>NaN</td>\n",
       "      <td>NaN</td>\n",
       "      <td>NaN</td>\n",
       "      <td>NaN</td>\n",
       "      <td>1970.0</td>\n",
       "      <td>2018-08-14</td>\n",
       "    </tr>\n",
       "  </tbody>\n",
       "</table>\n",
       "</div>"
      ],
      "text/plain": [
       "    city  gu dong park_name park_type  park_area park_exercise_facility  \\\n",
       "0  부산광역시  남구  대연동      대연공원      근린공원    55227.0                    NaN   \n",
       "1  부산광역시  남구  대연동      당곡공원      역사공원    75465.0                    NaN   \n",
       "2  부산광역시  남구  대연동   대일어린이공원     어린이공원      422.1                    NaN   \n",
       "3  부산광역시  남구  대연동   못골어린이공원     어린이공원      499.8                    NaN   \n",
       "4  부산광역시  남구  용호동   솔밭어린이공원     어린이공원     1500.2                    NaN   \n",
       "\n",
       "  park_entertainment_facility park_benefit_facility park_cultural_facitiy  \\\n",
       "0                         NaN                   NaN                   NaN   \n",
       "1                         NaN                   NaN                   NaN   \n",
       "2                         NaN                   NaN                   NaN   \n",
       "3                         NaN                   NaN                   NaN   \n",
       "4                         NaN                   NaN                   NaN   \n",
       "\n",
       "  park_facility_other  park_open_year reference_date  \n",
       "0                 NaN          1944.0     2018-08-14  \n",
       "1                 NaN          1944.0     2018-08-14  \n",
       "2                 NaN          1965.0     2018-08-14  \n",
       "3                 NaN          1968.0     2018-08-14  \n",
       "4                 NaN          1970.0     2018-08-14  "
      ]
     },
     "execution_count": 41,
     "metadata": {},
     "output_type": "execute_result"
    }
   ],
   "source": [
    "try:\n",
    "    park = pd.read_csv('/content/drive/MyDrive/park.csv')\n",
    "except:\n",
    "    park = pd.read_csv('park.csv')\n",
    "park.head()"
   ]
  },
  {
   "cell_type": "code",
   "execution_count": null,
   "id": "armed-adelaide",
   "metadata": {
    "colab": {
     "base_uri": "https://localhost:8080/"
    },
    "executionInfo": {
     "elapsed": 9,
     "status": "ok",
     "timestamp": 1645122505822,
     "user": {
      "displayName": "최윤성",
      "photoUrl": "https://lh3.googleusercontent.com/a-/AOh14GhPE9xSgYvruTxaBI1PrRZRNWn21DzdbLmy5HR0Xg=s64",
      "userId": "17937737491555296546"
     },
     "user_tz": -540
    },
    "id": "armed-adelaide",
    "outputId": "4c97c28c-7812-4288-e06a-c05d46df0f6a"
   },
   "outputs": [
    {
     "name": "stdout",
     "output_type": "stream",
     "text": [
      "(1359, 13)\n",
      "<class 'pandas.core.frame.DataFrame'>\n",
      "RangeIndex: 1359 entries, 0 to 1358\n",
      "Data columns (total 13 columns):\n",
      " #   Column                       Non-Null Count  Dtype  \n",
      "---  ------                       --------------  -----  \n",
      " 0   city                         1359 non-null   object \n",
      " 1   gu                           1356 non-null   object \n",
      " 2   dong                         1359 non-null   object \n",
      " 3   park_name                    1359 non-null   object \n",
      " 4   park_type                    1359 non-null   object \n",
      " 5   park_area                    1359 non-null   float64\n",
      " 6   park_exercise_facility       277 non-null    object \n",
      " 7   park_entertainment_facility  435 non-null    object \n",
      " 8   park_benefit_facility        266 non-null    object \n",
      " 9   park_cultural_facitiy        72 non-null     object \n",
      " 10  park_facility_other          175 non-null    object \n",
      " 11  park_open_year               937 non-null    float64\n",
      " 12  reference_date               1359 non-null   object \n",
      "dtypes: float64(2), object(11)\n",
      "memory usage: 138.1+ KB\n"
     ]
    }
   ],
   "source": [
    "print(park.shape)\n",
    "park.info()"
   ]
  },
  {
   "cell_type": "code",
   "execution_count": null,
   "id": "seeing-shepherd",
   "metadata": {
    "colab": {
     "base_uri": "https://localhost:8080/",
     "height": 461
    },
    "executionInfo": {
     "elapsed": 5,
     "status": "ok",
     "timestamp": 1645122505822,
     "user": {
      "displayName": "최윤성",
      "photoUrl": "https://lh3.googleusercontent.com/a-/AOh14GhPE9xSgYvruTxaBI1PrRZRNWn21DzdbLmy5HR0Xg=s64",
      "userId": "17937737491555296546"
     },
     "user_tz": -540
    },
    "id": "seeing-shepherd",
    "outputId": "980aa1dd-d350-445b-dff8-6a536ad75631"
   },
   "outputs": [
    {
     "name": "stdout",
     "output_type": "stream",
     "text": [
      "(930, 13)\n"
     ]
    },
    {
     "data": {
      "text/html": [
       "<div>\n",
       "<style scoped>\n",
       "    .dataframe tbody tr th:only-of-type {\n",
       "        vertical-align: middle;\n",
       "    }\n",
       "\n",
       "    .dataframe tbody tr th {\n",
       "        vertical-align: top;\n",
       "    }\n",
       "\n",
       "    .dataframe thead th {\n",
       "        text-align: right;\n",
       "    }\n",
       "</style>\n",
       "<table border=\"1\" class=\"dataframe\">\n",
       "  <thead>\n",
       "    <tr style=\"text-align: right;\">\n",
       "      <th></th>\n",
       "      <th>city</th>\n",
       "      <th>gu</th>\n",
       "      <th>dong</th>\n",
       "      <th>park_name</th>\n",
       "      <th>park_type</th>\n",
       "      <th>park_area</th>\n",
       "      <th>park_exercise_facility</th>\n",
       "      <th>park_entertainment_facility</th>\n",
       "      <th>park_benefit_facility</th>\n",
       "      <th>park_cultural_facitiy</th>\n",
       "      <th>park_facility_other</th>\n",
       "      <th>park_open_year</th>\n",
       "      <th>reference_date</th>\n",
       "    </tr>\n",
       "  </thead>\n",
       "  <tbody>\n",
       "    <tr>\n",
       "      <th>58</th>\n",
       "      <td>서울특별시</td>\n",
       "      <td>서초구</td>\n",
       "      <td>반포동</td>\n",
       "      <td>반  포</td>\n",
       "      <td>근린공원</td>\n",
       "      <td>26092.2</td>\n",
       "      <td>NaN</td>\n",
       "      <td>NaN</td>\n",
       "      <td>NaN</td>\n",
       "      <td>NaN</td>\n",
       "      <td>NaN</td>\n",
       "      <td>1981.0</td>\n",
       "      <td>2018-06-30</td>\n",
       "    </tr>\n",
       "    <tr>\n",
       "      <th>59</th>\n",
       "      <td>서울특별시</td>\n",
       "      <td>서초구</td>\n",
       "      <td>양재동</td>\n",
       "      <td>방아다리1</td>\n",
       "      <td>근린공원</td>\n",
       "      <td>2870.8</td>\n",
       "      <td>NaN</td>\n",
       "      <td>NaN</td>\n",
       "      <td>NaN</td>\n",
       "      <td>NaN</td>\n",
       "      <td>NaN</td>\n",
       "      <td>1988.0</td>\n",
       "      <td>2018-06-30</td>\n",
       "    </tr>\n",
       "    <tr>\n",
       "      <th>60</th>\n",
       "      <td>서울특별시</td>\n",
       "      <td>서초구</td>\n",
       "      <td>양재동</td>\n",
       "      <td>방아다리2</td>\n",
       "      <td>근린공원</td>\n",
       "      <td>2934.3</td>\n",
       "      <td>NaN</td>\n",
       "      <td>NaN</td>\n",
       "      <td>NaN</td>\n",
       "      <td>NaN</td>\n",
       "      <td>NaN</td>\n",
       "      <td>1988.0</td>\n",
       "      <td>2018-06-30</td>\n",
       "    </tr>\n",
       "    <tr>\n",
       "      <th>61</th>\n",
       "      <td>서울특별시</td>\n",
       "      <td>서초구</td>\n",
       "      <td>양재동</td>\n",
       "      <td>양재천</td>\n",
       "      <td>근린공원</td>\n",
       "      <td>19258.0</td>\n",
       "      <td>NaN</td>\n",
       "      <td>NaN</td>\n",
       "      <td>NaN</td>\n",
       "      <td>NaN</td>\n",
       "      <td>NaN</td>\n",
       "      <td>1988.0</td>\n",
       "      <td>2018-06-30</td>\n",
       "    </tr>\n",
       "    <tr>\n",
       "      <th>62</th>\n",
       "      <td>서울특별시</td>\n",
       "      <td>서초구</td>\n",
       "      <td>양재동</td>\n",
       "      <td>마  방</td>\n",
       "      <td>근린공원</td>\n",
       "      <td>6546.6</td>\n",
       "      <td>NaN</td>\n",
       "      <td>NaN</td>\n",
       "      <td>NaN</td>\n",
       "      <td>NaN</td>\n",
       "      <td>NaN</td>\n",
       "      <td>1983.0</td>\n",
       "      <td>2018-06-30</td>\n",
       "    </tr>\n",
       "  </tbody>\n",
       "</table>\n",
       "</div>"
      ],
      "text/plain": [
       "     city   gu dong park_name park_type  park_area park_exercise_facility  \\\n",
       "58  서울특별시  서초구  반포동      반  포      근린공원    26092.2                    NaN   \n",
       "59  서울특별시  서초구  양재동     방아다리1      근린공원     2870.8                    NaN   \n",
       "60  서울특별시  서초구  양재동     방아다리2      근린공원     2934.3                    NaN   \n",
       "61  서울특별시  서초구  양재동       양재천      근린공원    19258.0                    NaN   \n",
       "62  서울특별시  서초구  양재동      마  방      근린공원     6546.6                    NaN   \n",
       "\n",
       "   park_entertainment_facility park_benefit_facility park_cultural_facitiy  \\\n",
       "58                         NaN                   NaN                   NaN   \n",
       "59                         NaN                   NaN                   NaN   \n",
       "60                         NaN                   NaN                   NaN   \n",
       "61                         NaN                   NaN                   NaN   \n",
       "62                         NaN                   NaN                   NaN   \n",
       "\n",
       "   park_facility_other  park_open_year reference_date  \n",
       "58                 NaN          1981.0     2018-06-30  \n",
       "59                 NaN          1988.0     2018-06-30  \n",
       "60                 NaN          1988.0     2018-06-30  \n",
       "61                 NaN          1988.0     2018-06-30  \n",
       "62                 NaN          1983.0     2018-06-30  "
      ]
     },
     "execution_count": 43,
     "metadata": {},
     "output_type": "execute_result"
    }
   ],
   "source": [
    "busan = park[park['city'] == '부산광역시'].index\n",
    "park=park.drop(busan)\n",
    "print(park.shape)\n",
    "park.head()"
   ]
  },
  {
   "cell_type": "code",
   "execution_count": null,
   "id": "rc9FzC7h_bbS",
   "metadata": {
    "colab": {
     "base_uri": "https://localhost:8080/"
    },
    "executionInfo": {
     "elapsed": 3,
     "status": "ok",
     "timestamp": 1645122505822,
     "user": {
      "displayName": "최윤성",
      "photoUrl": "https://lh3.googleusercontent.com/a-/AOh14GhPE9xSgYvruTxaBI1PrRZRNWn21DzdbLmy5HR0Xg=s64",
      "userId": "17937737491555296546"
     },
     "user_tz": -540
    },
    "id": "rc9FzC7h_bbS",
    "outputId": "4f0ea7d7-46fe-49fe-c739-92219a3be4e5"
   },
   "outputs": [
    {
     "data": {
      "text/plain": [
       "(930, 13)"
      ]
     },
     "execution_count": 44,
     "metadata": {},
     "output_type": "execute_result"
    }
   ],
   "source": [
    "park.shape"
   ]
  },
  {
   "cell_type": "code",
   "execution_count": null,
   "id": "ZWle6R21cDBY",
   "metadata": {
    "id": "ZWle6R21cDBY"
   },
   "outputs": [],
   "source": [
    "unique_dong = np.unique(df_train[\"dong\"]) #park 데이터에 들어있지 않은 동은 0개로 처리해야 해서 df_train의 동 갯수를 불러옴\n",
    "count_dong_park = []\n",
    "\n",
    "for i in unique_dong:\n",
    "  df_temp = park.query(\"dong=='%s'\" %i)\n",
    "  count_dong_park.append(df_temp['dong'].count()) #각 동별 공원의 갯수 세기\n",
    "\n",
    "count_park_df = pd.DataFrame({'dong':unique_dong,'count_park':count_dong_park})"
   ]
  },
  {
   "cell_type": "code",
   "execution_count": null,
   "id": "I0l_5lvWcDBY",
   "metadata": {
    "colab": {
     "base_uri": "https://localhost:8080/"
    },
    "executionInfo": {
     "elapsed": 4,
     "status": "ok",
     "timestamp": 1645122507099,
     "user": {
      "displayName": "최윤성",
      "photoUrl": "https://lh3.googleusercontent.com/a-/AOh14GhPE9xSgYvruTxaBI1PrRZRNWn21DzdbLmy5HR0Xg=s64",
      "userId": "17937737491555296546"
     },
     "user_tz": -540
    },
    "id": "I0l_5lvWcDBY",
    "outputId": "41f76cb5-9c70-4b90-8502-a5f6f7f56f5c"
   },
   "outputs": [
    {
     "data": {
      "text/plain": [
       "923"
      ]
     },
     "execution_count": 46,
     "metadata": {},
     "output_type": "execute_result"
    }
   ],
   "source": [
    "count_park_df['count_park'].sum()"
   ]
  },
  {
   "cell_type": "code",
   "execution_count": null,
   "id": "cezAqAUf-4Zc",
   "metadata": {
    "colab": {
     "base_uri": "https://localhost:8080/"
    },
    "executionInfo": {
     "elapsed": 409,
     "status": "ok",
     "timestamp": 1645122507506,
     "user": {
      "displayName": "최윤성",
      "photoUrl": "https://lh3.googleusercontent.com/a-/AOh14GhPE9xSgYvruTxaBI1PrRZRNWn21DzdbLmy5HR0Xg=s64",
      "userId": "17937737491555296546"
     },
     "user_tz": -540
    },
    "id": "cezAqAUf-4Zc",
    "outputId": "0f4be33f-580b-495e-eb06-6bc9287e1e70"
   },
   "outputs": [
    {
     "name": "stdout",
     "output_type": "stream",
     "text": [
      "청룡동\n"
     ]
    },
    {
     "data": {
      "text/plain": [
       "1"
      ]
     },
     "execution_count": 47,
     "metadata": {},
     "output_type": "execute_result"
    }
   ],
   "source": [
    "#데이터 갯수가 일치하지 않아 park와 train의 동을 비교해 보기로함.\n",
    "\n",
    "aa_train = np.unique(df_train['dong'])\n",
    "aa_park = np.unique(park['dong'])\n",
    "\n",
    "count = 0\n",
    "for i in aa_park:\n",
    "    if i not in aa_train:\n",
    "        count += 1\n",
    "        print(i)\n",
    "\n",
    "count"
   ]
  },
  {
   "cell_type": "code",
   "execution_count": null,
   "id": "WINYdfAt-4Ze",
   "metadata": {
    "colab": {
     "base_uri": "https://localhost:8080/"
    },
    "executionInfo": {
     "elapsed": 3,
     "status": "ok",
     "timestamp": 1645122507506,
     "user": {
      "displayName": "최윤성",
      "photoUrl": "https://lh3.googleusercontent.com/a-/AOh14GhPE9xSgYvruTxaBI1PrRZRNWn21DzdbLmy5HR0Xg=s64",
      "userId": "17937737491555296546"
     },
     "user_tz": -540
    },
    "id": "WINYdfAt-4Ze",
    "outputId": "41ecbfd2-405f-4173-f95f-4de3da617733"
   },
   "outputs": [
    {
     "data": {
      "text/plain": [
       "7"
      ]
     },
     "execution_count": 48,
     "metadata": {},
     "output_type": "execute_result"
    }
   ],
   "source": [
    "#청룡동의 공원 갯수 확인\n",
    "park[park['dong']=='청룡동']['dong'].count()"
   ]
  },
  {
   "cell_type": "code",
   "execution_count": null,
   "id": "h-bPirgz-4Zf",
   "metadata": {
    "colab": {
     "base_uri": "https://localhost:8080/"
    },
    "executionInfo": {
     "elapsed": 519,
     "status": "ok",
     "timestamp": 1645122508024,
     "user": {
      "displayName": "최윤성",
      "photoUrl": "https://lh3.googleusercontent.com/a-/AOh14GhPE9xSgYvruTxaBI1PrRZRNWn21DzdbLmy5HR0Xg=s64",
      "userId": "17937737491555296546"
     },
     "user_tz": -540
    },
    "id": "h-bPirgz-4Zf",
    "outputId": "6c9d4bf9-8844-466a-a318-25901a00e6ee"
   },
   "outputs": [
    {
     "data": {
      "text/plain": [
       "0"
      ]
     },
     "execution_count": 49,
     "metadata": {},
     "output_type": "execute_result"
    }
   ],
   "source": [
    "#청룡동에서의 아파트 거래 건수 확인\n",
    "df_train[df_train['dong']=='청룡동']['dong'].count()"
   ]
  },
  {
   "cell_type": "code",
   "execution_count": null,
   "id": "auxaRoNm-4Zg",
   "metadata": {
    "colab": {
     "base_uri": "https://localhost:8080/"
    },
    "executionInfo": {
     "elapsed": 11,
     "status": "ok",
     "timestamp": 1645122508024,
     "user": {
      "displayName": "최윤성",
      "photoUrl": "https://lh3.googleusercontent.com/a-/AOh14GhPE9xSgYvruTxaBI1PrRZRNWn21DzdbLmy5HR0Xg=s64",
      "userId": "17937737491555296546"
     },
     "user_tz": -540
    },
    "id": "auxaRoNm-4Zg",
    "outputId": "932c1715-c318-4523-ae90-faf455fdefdb"
   },
   "outputs": [
    {
     "data": {
      "text/plain": [
       "(923, 13)"
      ]
     },
     "execution_count": 50,
     "metadata": {},
     "output_type": "execute_result"
    }
   ],
   "source": [
    "#실제 청룡동은 서울시 관악구에 있지만 거래 데이터가 없기 때문에 park 데이터에서 제외\n",
    "\n",
    "cheong = park[park['dong'] == '청룡동'].index #청룡동에 대한 row 삭제\n",
    "park=park.drop(cheong)\n",
    "park.shape\n",
    "\n",
    "#동별 공원 갯수 셌을 때와 같은 값 나옴"
   ]
  },
  {
   "cell_type": "code",
   "execution_count": null,
   "id": "pVMpeuSkcDBZ",
   "metadata": {
    "id": "pVMpeuSkcDBZ"
   },
   "outputs": [],
   "source": [
    "#이제 공원 갯수 순위 구해서 train 데이터에 적용\n",
    "count_park_df['count_park_rank'] = count_park_df.count_park.rank(method='min')"
   ]
  },
  {
   "cell_type": "code",
   "execution_count": null,
   "id": "eHBoaX1YcDBZ",
   "metadata": {
    "colab": {
     "base_uri": "https://localhost:8080/",
     "height": 1000
    },
    "executionInfo": {
     "elapsed": 8,
     "status": "ok",
     "timestamp": 1645122508024,
     "user": {
      "displayName": "최윤성",
      "photoUrl": "https://lh3.googleusercontent.com/a-/AOh14GhPE9xSgYvruTxaBI1PrRZRNWn21DzdbLmy5HR0Xg=s64",
      "userId": "17937737491555296546"
     },
     "user_tz": -540
    },
    "id": "eHBoaX1YcDBZ",
    "outputId": "ce34e062-f977-4221-a527-8fc79ac765d8"
   },
   "outputs": [
    {
     "data": {
      "text/html": [
       "<div>\n",
       "<style scoped>\n",
       "    .dataframe tbody tr th:only-of-type {\n",
       "        vertical-align: middle;\n",
       "    }\n",
       "\n",
       "    .dataframe tbody tr th {\n",
       "        vertical-align: top;\n",
       "    }\n",
       "\n",
       "    .dataframe thead th {\n",
       "        text-align: right;\n",
       "    }\n",
       "</style>\n",
       "<table border=\"1\" class=\"dataframe\">\n",
       "  <thead>\n",
       "    <tr style=\"text-align: right;\">\n",
       "      <th></th>\n",
       "      <th>dong</th>\n",
       "      <th>count_park</th>\n",
       "      <th>count_park_rank</th>\n",
       "    </tr>\n",
       "  </thead>\n",
       "  <tbody>\n",
       "    <tr>\n",
       "      <th>329</th>\n",
       "      <td>흥인동</td>\n",
       "      <td>0</td>\n",
       "      <td>1.0</td>\n",
       "    </tr>\n",
       "    <tr>\n",
       "      <th>155</th>\n",
       "      <td>성북동</td>\n",
       "      <td>0</td>\n",
       "      <td>1.0</td>\n",
       "    </tr>\n",
       "    <tr>\n",
       "      <th>156</th>\n",
       "      <td>성북동1가</td>\n",
       "      <td>0</td>\n",
       "      <td>1.0</td>\n",
       "    </tr>\n",
       "    <tr>\n",
       "      <th>157</th>\n",
       "      <td>성산동</td>\n",
       "      <td>0</td>\n",
       "      <td>1.0</td>\n",
       "    </tr>\n",
       "    <tr>\n",
       "      <th>159</th>\n",
       "      <td>성수동2가</td>\n",
       "      <td>0</td>\n",
       "      <td>1.0</td>\n",
       "    </tr>\n",
       "    <tr>\n",
       "      <th>...</th>\n",
       "      <td>...</td>\n",
       "      <td>...</td>\n",
       "      <td>...</td>\n",
       "    </tr>\n",
       "    <tr>\n",
       "      <th>88</th>\n",
       "      <td>마천동</td>\n",
       "      <td>19</td>\n",
       "      <td>326.0</td>\n",
       "    </tr>\n",
       "    <tr>\n",
       "      <th>109</th>\n",
       "      <td>문정동</td>\n",
       "      <td>20</td>\n",
       "      <td>327.0</td>\n",
       "    </tr>\n",
       "    <tr>\n",
       "      <th>196</th>\n",
       "      <td>양재동</td>\n",
       "      <td>21</td>\n",
       "      <td>328.0</td>\n",
       "    </tr>\n",
       "    <tr>\n",
       "      <th>116</th>\n",
       "      <td>방화동</td>\n",
       "      <td>25</td>\n",
       "      <td>329.0</td>\n",
       "    </tr>\n",
       "    <tr>\n",
       "      <th>318</th>\n",
       "      <td>화곡동</td>\n",
       "      <td>31</td>\n",
       "      <td>330.0</td>\n",
       "    </tr>\n",
       "  </tbody>\n",
       "</table>\n",
       "<p>330 rows × 3 columns</p>\n",
       "</div>"
      ],
      "text/plain": [
       "      dong  count_park  count_park_rank\n",
       "329    흥인동           0              1.0\n",
       "155    성북동           0              1.0\n",
       "156  성북동1가           0              1.0\n",
       "157    성산동           0              1.0\n",
       "159  성수동2가           0              1.0\n",
       "..     ...         ...              ...\n",
       "88     마천동          19            326.0\n",
       "109    문정동          20            327.0\n",
       "196    양재동          21            328.0\n",
       "116    방화동          25            329.0\n",
       "318    화곡동          31            330.0\n",
       "\n",
       "[330 rows x 3 columns]"
      ]
     },
     "execution_count": 52,
     "metadata": {},
     "output_type": "execute_result"
    }
   ],
   "source": [
    "count_park_df.sort_values(['count_park_rank'])"
   ]
  },
  {
   "cell_type": "code",
   "execution_count": null,
   "id": "p45vV8Q5-4Zk",
   "metadata": {
    "id": "p45vV8Q5-4Zk"
   },
   "outputs": [],
   "source": [
    "temp_dict = dict() #행정구역명과 공원 갯수를 딕셔너리로 저장\n",
    "for (i,j) in enumerate(count_park_df['dong']):\n",
    "    temp_dict[j] = count_park_df['count_park'][i]\n",
    "\n",
    "df_train['count_park'] = df_train['dong']\n",
    "df_train['count_park'] = df_train['count_park'].map(temp_dict) #동에다가 갯수를 매칭해서 덮어씌우도록 map적용\n",
    "df_train['count_park'] = df_train['count_park'].astype(int)"
   ]
  },
  {
   "cell_type": "code",
   "execution_count": null,
   "id": "_x_kw9fu-4Zm",
   "metadata": {
    "colab": {
     "base_uri": "https://localhost:8080/",
     "height": 1000
    },
    "executionInfo": {
     "elapsed": 8,
     "status": "ok",
     "timestamp": 1645122508025,
     "user": {
      "displayName": "최윤성",
      "photoUrl": "https://lh3.googleusercontent.com/a-/AOh14GhPE9xSgYvruTxaBI1PrRZRNWn21DzdbLmy5HR0Xg=s64",
      "userId": "17937737491555296546"
     },
     "user_tz": -540
    },
    "id": "_x_kw9fu-4Zm",
    "outputId": "05c85091-7d29-4703-dad9-d8858493f17c"
   },
   "outputs": [
    {
     "data": {
      "text/html": [
       "<div>\n",
       "<style scoped>\n",
       "    .dataframe tbody tr th:only-of-type {\n",
       "        vertical-align: middle;\n",
       "    }\n",
       "\n",
       "    .dataframe tbody tr th {\n",
       "        vertical-align: top;\n",
       "    }\n",
       "\n",
       "    .dataframe thead th {\n",
       "        text-align: right;\n",
       "    }\n",
       "</style>\n",
       "<table border=\"1\" class=\"dataframe\">\n",
       "  <thead>\n",
       "    <tr style=\"text-align: right;\">\n",
       "      <th></th>\n",
       "      <th>apartment_id</th>\n",
       "      <th>city</th>\n",
       "      <th>dong</th>\n",
       "      <th>jibun</th>\n",
       "      <th>apt</th>\n",
       "      <th>exclusive_use_area</th>\n",
       "      <th>year_of_completion</th>\n",
       "      <th>transaction_year_month</th>\n",
       "      <th>transaction_date</th>\n",
       "      <th>floor</th>\n",
       "      <th>transaction_real_price</th>\n",
       "      <th>year</th>\n",
       "      <th>month</th>\n",
       "      <th>hangang</th>\n",
       "      <th>count_park</th>\n",
       "    </tr>\n",
       "  </thead>\n",
       "  <tbody>\n",
       "    <tr>\n",
       "      <th>0</th>\n",
       "      <td>7622</td>\n",
       "      <td>서울특별시</td>\n",
       "      <td>신교동</td>\n",
       "      <td>6-13</td>\n",
       "      <td>신현(101동)</td>\n",
       "      <td>84.82</td>\n",
       "      <td>2002</td>\n",
       "      <td>200801</td>\n",
       "      <td>21~31</td>\n",
       "      <td>2</td>\n",
       "      <td>37500</td>\n",
       "      <td>2008</td>\n",
       "      <td>1</td>\n",
       "      <td>0</td>\n",
       "      <td>0</td>\n",
       "    </tr>\n",
       "    <tr>\n",
       "      <th>1</th>\n",
       "      <td>5399</td>\n",
       "      <td>서울특별시</td>\n",
       "      <td>필운동</td>\n",
       "      <td>142</td>\n",
       "      <td>사직파크맨션</td>\n",
       "      <td>99.17</td>\n",
       "      <td>1973</td>\n",
       "      <td>200801</td>\n",
       "      <td>1~10</td>\n",
       "      <td>6</td>\n",
       "      <td>20000</td>\n",
       "      <td>2008</td>\n",
       "      <td>1</td>\n",
       "      <td>0</td>\n",
       "      <td>0</td>\n",
       "    </tr>\n",
       "    <tr>\n",
       "      <th>2</th>\n",
       "      <td>3578</td>\n",
       "      <td>서울특별시</td>\n",
       "      <td>필운동</td>\n",
       "      <td>174-1</td>\n",
       "      <td>두레엘리시안</td>\n",
       "      <td>84.74</td>\n",
       "      <td>2007</td>\n",
       "      <td>200801</td>\n",
       "      <td>1~10</td>\n",
       "      <td>6</td>\n",
       "      <td>38500</td>\n",
       "      <td>2008</td>\n",
       "      <td>1</td>\n",
       "      <td>0</td>\n",
       "      <td>0</td>\n",
       "    </tr>\n",
       "    <tr>\n",
       "      <th>3</th>\n",
       "      <td>10957</td>\n",
       "      <td>서울특별시</td>\n",
       "      <td>내수동</td>\n",
       "      <td>95</td>\n",
       "      <td>파크팰리스</td>\n",
       "      <td>146.39</td>\n",
       "      <td>2003</td>\n",
       "      <td>200801</td>\n",
       "      <td>11~20</td>\n",
       "      <td>15</td>\n",
       "      <td>118000</td>\n",
       "      <td>2008</td>\n",
       "      <td>1</td>\n",
       "      <td>0</td>\n",
       "      <td>0</td>\n",
       "    </tr>\n",
       "    <tr>\n",
       "      <th>4</th>\n",
       "      <td>10639</td>\n",
       "      <td>서울특별시</td>\n",
       "      <td>내수동</td>\n",
       "      <td>110-15</td>\n",
       "      <td>킹스매너</td>\n",
       "      <td>194.43</td>\n",
       "      <td>2004</td>\n",
       "      <td>200801</td>\n",
       "      <td>21~31</td>\n",
       "      <td>3</td>\n",
       "      <td>120000</td>\n",
       "      <td>2008</td>\n",
       "      <td>1</td>\n",
       "      <td>0</td>\n",
       "      <td>0</td>\n",
       "    </tr>\n",
       "    <tr>\n",
       "      <th>...</th>\n",
       "      <td>...</td>\n",
       "      <td>...</td>\n",
       "      <td>...</td>\n",
       "      <td>...</td>\n",
       "      <td>...</td>\n",
       "      <td>...</td>\n",
       "      <td>...</td>\n",
       "      <td>...</td>\n",
       "      <td>...</td>\n",
       "      <td>...</td>\n",
       "      <td>...</td>\n",
       "      <td>...</td>\n",
       "      <td>...</td>\n",
       "      <td>...</td>\n",
       "      <td>...</td>\n",
       "    </tr>\n",
       "    <tr>\n",
       "      <th>1184014</th>\n",
       "      <td>996</td>\n",
       "      <td>서울특별시</td>\n",
       "      <td>강일동</td>\n",
       "      <td>717</td>\n",
       "      <td>고덕리엔파크2단지</td>\n",
       "      <td>59.72</td>\n",
       "      <td>2011</td>\n",
       "      <td>201711</td>\n",
       "      <td>11~20</td>\n",
       "      <td>9</td>\n",
       "      <td>53000</td>\n",
       "      <td>2017</td>\n",
       "      <td>11</td>\n",
       "      <td>0</td>\n",
       "      <td>9</td>\n",
       "    </tr>\n",
       "    <tr>\n",
       "      <th>1184015</th>\n",
       "      <td>682</td>\n",
       "      <td>서울특별시</td>\n",
       "      <td>강일동</td>\n",
       "      <td>674</td>\n",
       "      <td>강일리버파크3단지</td>\n",
       "      <td>59.87</td>\n",
       "      <td>2009</td>\n",
       "      <td>201711</td>\n",
       "      <td>21~30</td>\n",
       "      <td>12</td>\n",
       "      <td>53000</td>\n",
       "      <td>2017</td>\n",
       "      <td>11</td>\n",
       "      <td>0</td>\n",
       "      <td>9</td>\n",
       "    </tr>\n",
       "    <tr>\n",
       "      <th>1184016</th>\n",
       "      <td>682</td>\n",
       "      <td>서울특별시</td>\n",
       "      <td>강일동</td>\n",
       "      <td>674</td>\n",
       "      <td>강일리버파크3단지</td>\n",
       "      <td>84.74</td>\n",
       "      <td>2009</td>\n",
       "      <td>201711</td>\n",
       "      <td>21~30</td>\n",
       "      <td>3</td>\n",
       "      <td>56500</td>\n",
       "      <td>2017</td>\n",
       "      <td>11</td>\n",
       "      <td>0</td>\n",
       "      <td>9</td>\n",
       "    </tr>\n",
       "    <tr>\n",
       "      <th>1184017</th>\n",
       "      <td>680</td>\n",
       "      <td>서울특별시</td>\n",
       "      <td>강일동</td>\n",
       "      <td>665</td>\n",
       "      <td>강일리버파크1단지</td>\n",
       "      <td>84.74</td>\n",
       "      <td>2009</td>\n",
       "      <td>201711</td>\n",
       "      <td>21~30</td>\n",
       "      <td>9</td>\n",
       "      <td>55500</td>\n",
       "      <td>2017</td>\n",
       "      <td>11</td>\n",
       "      <td>0</td>\n",
       "      <td>9</td>\n",
       "    </tr>\n",
       "    <tr>\n",
       "      <th>1184018</th>\n",
       "      <td>996</td>\n",
       "      <td>서울특별시</td>\n",
       "      <td>강일동</td>\n",
       "      <td>717</td>\n",
       "      <td>고덕리엔파크2단지</td>\n",
       "      <td>84.98</td>\n",
       "      <td>2011</td>\n",
       "      <td>201711</td>\n",
       "      <td>21~30</td>\n",
       "      <td>8</td>\n",
       "      <td>63750</td>\n",
       "      <td>2017</td>\n",
       "      <td>11</td>\n",
       "      <td>0</td>\n",
       "      <td>9</td>\n",
       "    </tr>\n",
       "  </tbody>\n",
       "</table>\n",
       "<p>742285 rows × 15 columns</p>\n",
       "</div>"
      ],
      "text/plain": [
       "         apartment_id   city dong   jibun        apt  exclusive_use_area  \\\n",
       "0                7622  서울특별시  신교동    6-13   신현(101동)               84.82   \n",
       "1                5399  서울특별시  필운동     142     사직파크맨션               99.17   \n",
       "2                3578  서울특별시  필운동   174-1     두레엘리시안               84.74   \n",
       "3               10957  서울특별시  내수동      95      파크팰리스              146.39   \n",
       "4               10639  서울특별시  내수동  110-15       킹스매너              194.43   \n",
       "...               ...    ...  ...     ...        ...                 ...   \n",
       "1184014           996  서울특별시  강일동     717  고덕리엔파크2단지               59.72   \n",
       "1184015           682  서울특별시  강일동     674  강일리버파크3단지               59.87   \n",
       "1184016           682  서울특별시  강일동     674  강일리버파크3단지               84.74   \n",
       "1184017           680  서울특별시  강일동     665  강일리버파크1단지               84.74   \n",
       "1184018           996  서울특별시  강일동     717  고덕리엔파크2단지               84.98   \n",
       "\n",
       "         year_of_completion  transaction_year_month transaction_date  floor  \\\n",
       "0                      2002                  200801            21~31      2   \n",
       "1                      1973                  200801             1~10      6   \n",
       "2                      2007                  200801             1~10      6   \n",
       "3                      2003                  200801            11~20     15   \n",
       "4                      2004                  200801            21~31      3   \n",
       "...                     ...                     ...              ...    ...   \n",
       "1184014                2011                  201711            11~20      9   \n",
       "1184015                2009                  201711            21~30     12   \n",
       "1184016                2009                  201711            21~30      3   \n",
       "1184017                2009                  201711            21~30      9   \n",
       "1184018                2011                  201711            21~30      8   \n",
       "\n",
       "         transaction_real_price  year  month  hangang  count_park  \n",
       "0                         37500  2008      1        0           0  \n",
       "1                         20000  2008      1        0           0  \n",
       "2                         38500  2008      1        0           0  \n",
       "3                        118000  2008      1        0           0  \n",
       "4                        120000  2008      1        0           0  \n",
       "...                         ...   ...    ...      ...         ...  \n",
       "1184014                   53000  2017     11        0           9  \n",
       "1184015                   53000  2017     11        0           9  \n",
       "1184016                   56500  2017     11        0           9  \n",
       "1184017                   55500  2017     11        0           9  \n",
       "1184018                   63750  2017     11        0           9  \n",
       "\n",
       "[742285 rows x 15 columns]"
      ]
     },
     "execution_count": 54,
     "metadata": {},
     "output_type": "execute_result"
    }
   ],
   "source": [
    "df_train"
   ]
  },
  {
   "cell_type": "code",
   "execution_count": null,
   "id": "M-dZEYR49yER",
   "metadata": {
    "colab": {
     "base_uri": "https://localhost:8080/"
    },
    "executionInfo": {
     "elapsed": 7,
     "status": "ok",
     "timestamp": 1645122508025,
     "user": {
      "displayName": "최윤성",
      "photoUrl": "https://lh3.googleusercontent.com/a-/AOh14GhPE9xSgYvruTxaBI1PrRZRNWn21DzdbLmy5HR0Xg=s64",
      "userId": "17937737491555296546"
     },
     "user_tz": -540
    },
    "id": "M-dZEYR49yER",
    "outputId": "ff7c38ef-6eee-471e-cdd6-1de5fa05ddf4"
   },
   "outputs": [
    {
     "data": {
      "text/plain": [
       "array([ 0,  1,  2,  3,  4,  7,  5,  6, 13, 11,  9, 10, 14,  8, 16, 31, 25,\n",
       "       15, 18, 21, 17, 12, 20, 19])"
      ]
     },
     "execution_count": 55,
     "metadata": {},
     "output_type": "execute_result"
    }
   ],
   "source": [
    "df_train['count_park'].unique()"
   ]
  },
  {
   "cell_type": "markdown",
   "id": "df68c5d2",
   "metadata": {
    "id": "df68c5d2"
   },
   "source": [
    "#### train 구 칼럼 추가하기"
   ]
  },
  {
   "cell_type": "code",
   "execution_count": null,
   "id": "a431db0c",
   "metadata": {
    "colab": {
     "base_uri": "https://localhost:8080/"
    },
    "executionInfo": {
     "elapsed": 6,
     "status": "ok",
     "timestamp": 1645122508025,
     "user": {
      "displayName": "최윤성",
      "photoUrl": "https://lh3.googleusercontent.com/a-/AOh14GhPE9xSgYvruTxaBI1PrRZRNWn21DzdbLmy5HR0Xg=s64",
      "userId": "17937737491555296546"
     },
     "user_tz": -540
    },
    "id": "a431db0c",
    "outputId": "aea18bf3-b4fa-441a-ef59-c9b3e73eb56e"
   },
   "outputs": [
    {
     "data": {
      "text/plain": [
       "161"
      ]
     },
     "execution_count": 56,
     "metadata": {},
     "output_type": "execute_result"
    }
   ],
   "source": [
    "len(park['dong'].unique())"
   ]
  },
  {
   "cell_type": "code",
   "execution_count": null,
   "id": "467d3b59",
   "metadata": {
    "colab": {
     "base_uri": "https://localhost:8080/"
    },
    "executionInfo": {
     "elapsed": 5,
     "status": "ok",
     "timestamp": 1645122508025,
     "user": {
      "displayName": "최윤성",
      "photoUrl": "https://lh3.googleusercontent.com/a-/AOh14GhPE9xSgYvruTxaBI1PrRZRNWn21DzdbLmy5HR0Xg=s64",
      "userId": "17937737491555296546"
     },
     "user_tz": -540
    },
    "id": "467d3b59",
    "outputId": "4a74338c-f823-4665-944c-06b3d8a583e9"
   },
   "outputs": [
    {
     "data": {
      "text/plain": [
       "330"
      ]
     },
     "execution_count": 57,
     "metadata": {},
     "output_type": "execute_result"
    }
   ],
   "source": [
    "len(df_train['dong'].unique())"
   ]
  },
  {
   "cell_type": "markdown",
   "id": "c7a37196",
   "metadata": {
    "id": "c7a37196"
   },
   "source": [
    "park의 동 갯수가 절반밖에 안돼서 새롭게 데이터 추가\n",
    "\n",
    "서울 열린 데이터 광장 > 서울시 토지현황 (지목별/법정동별) 통계"
   ]
  },
  {
   "cell_type": "code",
   "execution_count": null,
   "id": "79946f46",
   "metadata": {},
   "outputs": [],
   "source": [
    "temp = pd.read_csv('/content/drive/MyDrive/report.txt', sep='\\t')\n",
    "temp.head(3)"
   ]
  },
  {
   "cell_type": "code",
   "execution_count": null,
   "id": "3babcf53",
   "metadata": {
    "colab": {
     "base_uri": "https://localhost:8080/",
     "height": 328
    },
    "executionInfo": {
     "elapsed": 1247,
     "status": "error",
     "timestamp": 1645122509268,
     "user": {
      "displayName": "최윤성",
      "photoUrl": "https://lh3.googleusercontent.com/a-/AOh14GhPE9xSgYvruTxaBI1PrRZRNWn21DzdbLmy5HR0Xg=s64",
      "userId": "17937737491555296546"
     },
     "user_tz": -540
    },
    "id": "3babcf53",
    "outputId": "cab93b13-8ade-466a-fd49-ff24a585a824"
   },
   "outputs": [
    {
     "data": {
      "text/html": [
       "<div>\n",
       "<style scoped>\n",
       "    .dataframe tbody tr th:only-of-type {\n",
       "        vertical-align: middle;\n",
       "    }\n",
       "\n",
       "    .dataframe tbody tr th {\n",
       "        vertical-align: top;\n",
       "    }\n",
       "\n",
       "    .dataframe thead th {\n",
       "        text-align: right;\n",
       "    }\n",
       "</style>\n",
       "<table border=\"1\" class=\"dataframe\">\n",
       "  <thead>\n",
       "    <tr style=\"text-align: right;\">\n",
       "      <th></th>\n",
       "      <th>기간</th>\n",
       "      <th>자치구</th>\n",
       "      <th>법정동</th>\n",
       "      <th>토지현황(지목별)</th>\n",
       "      <th>토지현황(지목별).1</th>\n",
       "      <th>토지현황(지목별).2</th>\n",
       "      <th>토지현황(지목별).3</th>\n",
       "      <th>토지현황(지목별).4</th>\n",
       "      <th>토지현황(지목별).5</th>\n",
       "      <th>토지현황(지목별).6</th>\n",
       "      <th>...</th>\n",
       "      <th>토지현황(지목별).16</th>\n",
       "      <th>토지현황(지목별).17</th>\n",
       "      <th>토지현황(지목별).18</th>\n",
       "      <th>토지현황(지목별).19</th>\n",
       "      <th>토지현황(지목별).20</th>\n",
       "      <th>토지현황(지목별).21</th>\n",
       "      <th>토지현황(지목별).22</th>\n",
       "      <th>토지현황(지목별).23</th>\n",
       "      <th>토지현황(지목별).24</th>\n",
       "      <th>토지현황(지목별).25</th>\n",
       "    </tr>\n",
       "  </thead>\n",
       "  <tbody>\n",
       "    <tr>\n",
       "      <th>0</th>\n",
       "      <td>기간</td>\n",
       "      <td>자치구</td>\n",
       "      <td>법정동</td>\n",
       "      <td>합계</td>\n",
       "      <td>전</td>\n",
       "      <td>답</td>\n",
       "      <td>과수원</td>\n",
       "      <td>목장용지</td>\n",
       "      <td>임야</td>\n",
       "      <td>대지</td>\n",
       "      <td>...</td>\n",
       "      <td>구거</td>\n",
       "      <td>유지</td>\n",
       "      <td>수도용지</td>\n",
       "      <td>공원</td>\n",
       "      <td>체육용지</td>\n",
       "      <td>유원지</td>\n",
       "      <td>종교용지</td>\n",
       "      <td>사적지</td>\n",
       "      <td>묘지</td>\n",
       "      <td>잡종지</td>\n",
       "    </tr>\n",
       "    <tr>\n",
       "      <th>1</th>\n",
       "      <td>2021</td>\n",
       "      <td>합계</td>\n",
       "      <td>합계</td>\n",
       "      <td>605,243,961.2</td>\n",
       "      <td>9,571,764.2</td>\n",
       "      <td>8,613,908.5</td>\n",
       "      <td>277,255.4</td>\n",
       "      <td>388</td>\n",
       "      <td>137,876,641.4</td>\n",
       "      <td>222,144,293.9</td>\n",
       "      <td>...</td>\n",
       "      <td>3,298,991.7</td>\n",
       "      <td>1,492,995.7</td>\n",
       "      <td>1,579,046.2</td>\n",
       "      <td>23,206,088.2</td>\n",
       "      <td>1,481,948.5</td>\n",
       "      <td>219,119.4</td>\n",
       "      <td>2,360,177.5</td>\n",
       "      <td>1,590,583.2</td>\n",
       "      <td>2,329,188.2</td>\n",
       "      <td>16,397,436.9</td>\n",
       "    </tr>\n",
       "    <tr>\n",
       "      <th>2</th>\n",
       "      <td>2021</td>\n",
       "      <td>종로구</td>\n",
       "      <td>소계</td>\n",
       "      <td>23,912,935.7</td>\n",
       "      <td>800,294.5</td>\n",
       "      <td>-</td>\n",
       "      <td>-</td>\n",
       "      <td>-</td>\n",
       "      <td>9,359,338.5</td>\n",
       "      <td>8,181,175.0</td>\n",
       "      <td>...</td>\n",
       "      <td>164,401.5</td>\n",
       "      <td>-</td>\n",
       "      <td>85.2</td>\n",
       "      <td>319,676.0</td>\n",
       "      <td>-</td>\n",
       "      <td>-</td>\n",
       "      <td>106,967.4</td>\n",
       "      <td>1,244,517.4</td>\n",
       "      <td>11,001.0</td>\n",
       "      <td>104,115.2</td>\n",
       "    </tr>\n",
       "  </tbody>\n",
       "</table>\n",
       "<p>3 rows × 29 columns</p>\n",
       "</div>"
      ],
      "text/plain": [
       "     기간  자치구  법정동      토지현황(지목별)  토지현황(지목별).1  토지현황(지목별).2 토지현황(지목별).3  \\\n",
       "0    기간  자치구  법정동             합계            전            답         과수원   \n",
       "1  2021   합계   합계  605,243,961.2  9,571,764.2  8,613,908.5   277,255.4   \n",
       "2  2021  종로구   소계   23,912,935.7    800,294.5            -           -   \n",
       "\n",
       "  토지현황(지목별).4    토지현황(지목별).5    토지현황(지목별).6  ... 토지현황(지목별).16 토지현황(지목별).17  \\\n",
       "0        목장용지             임야             대지  ...           구거           유지   \n",
       "1         388  137,876,641.4  222,144,293.9  ...  3,298,991.7  1,492,995.7   \n",
       "2           -    9,359,338.5    8,181,175.0  ...    164,401.5            -   \n",
       "\n",
       "  토지현황(지목별).18  토지현황(지목별).19 토지현황(지목별).20 토지현황(지목별).21 토지현황(지목별).22  \\\n",
       "0         수도용지            공원         체육용지          유원지         종교용지   \n",
       "1  1,579,046.2  23,206,088.2  1,481,948.5    219,119.4  2,360,177.5   \n",
       "2         85.2     319,676.0            -            -    106,967.4   \n",
       "\n",
       "  토지현황(지목별).23 토지현황(지목별).24  토지현황(지목별).25  \n",
       "0          사적지           묘지           잡종지  \n",
       "1  1,590,583.2  2,329,188.2  16,397,436.9  \n",
       "2  1,244,517.4     11,001.0     104,115.2  \n",
       "\n",
       "[3 rows x 29 columns]"
      ]
     },
     "execution_count": 59,
     "metadata": {},
     "output_type": "execute_result"
    }
   ],
   "source": [
    "temp = pd.read_csv('report.txt', sep='\\t')\n",
    "temp.head(3)"
   ]
  },
  {
   "cell_type": "markdown",
   "id": "f44efb76",
   "metadata": {
    "id": "f44efb76"
   },
   "source": [
    "0번 행 제거하고 합계랑 소계로 되어있는 행 제거"
   ]
  },
  {
   "cell_type": "code",
   "execution_count": null,
   "id": "9e460f2b",
   "metadata": {
    "id": "9e460f2b"
   },
   "outputs": [],
   "source": [
    "temp = temp[['자치구','법정동']]\n",
    "temp.drop(0, inplace=True)"
   ]
  },
  {
   "cell_type": "code",
   "execution_count": null,
   "id": "28619042",
   "metadata": {
    "id": "28619042"
   },
   "outputs": [],
   "source": [
    "temp_index = temp[temp['자치구']==\"합계\"].index\n",
    "temp.drop(temp_index, inplace=True)\n",
    "temp_index = temp[temp['법정동']==\"합계\"].index\n",
    "temp.drop(temp_index, inplace=True)\n",
    "temp_index = temp[temp['법정동']==\"소계\"].index\n",
    "temp.drop(temp_index, inplace=True)"
   ]
  },
  {
   "cell_type": "markdown",
   "id": "1dcafe13",
   "metadata": {
    "id": "1dcafe13"
   },
   "source": [
    "column이름 변경"
   ]
  },
  {
   "cell_type": "code",
   "execution_count": null,
   "id": "df01af12",
   "metadata": {
    "id": "df01af12"
   },
   "outputs": [],
   "source": [
    "temp.rename(columns={'법정동':'dong','자치구':'gu'},inplace=True)\n",
    "temp.set_index('dong',inplace=True)"
   ]
  },
  {
   "cell_type": "code",
   "execution_count": null,
   "id": "a1547955",
   "metadata": {
    "id": "a1547955"
   },
   "outputs": [],
   "source": [
    "temp = temp.to_dict()"
   ]
  },
  {
   "cell_type": "code",
   "execution_count": null,
   "id": "ded9a785",
   "metadata": {
    "colab": {
     "base_uri": "https://localhost:8080/",
     "height": 1000
    },
    "executionInfo": {
     "elapsed": 541,
     "status": "ok",
     "timestamp": 1645122561684,
     "user": {
      "displayName": "최윤성",
      "photoUrl": "https://lh3.googleusercontent.com/a-/AOh14GhPE9xSgYvruTxaBI1PrRZRNWn21DzdbLmy5HR0Xg=s64",
      "userId": "17937737491555296546"
     },
     "user_tz": -540
    },
    "id": "ded9a785",
    "outputId": "e86e0c57-1f50-4267-acdd-856ece75bf8e",
    "scrolled": true
   },
   "outputs": [
    {
     "data": {
      "text/html": [
       "<div>\n",
       "<style scoped>\n",
       "    .dataframe tbody tr th:only-of-type {\n",
       "        vertical-align: middle;\n",
       "    }\n",
       "\n",
       "    .dataframe tbody tr th {\n",
       "        vertical-align: top;\n",
       "    }\n",
       "\n",
       "    .dataframe thead th {\n",
       "        text-align: right;\n",
       "    }\n",
       "</style>\n",
       "<table border=\"1\" class=\"dataframe\">\n",
       "  <thead>\n",
       "    <tr style=\"text-align: right;\">\n",
       "      <th></th>\n",
       "      <th>apartment_id</th>\n",
       "      <th>city</th>\n",
       "      <th>dong</th>\n",
       "      <th>jibun</th>\n",
       "      <th>apt</th>\n",
       "      <th>exclusive_use_area</th>\n",
       "      <th>year_of_completion</th>\n",
       "      <th>transaction_year_month</th>\n",
       "      <th>transaction_date</th>\n",
       "      <th>floor</th>\n",
       "      <th>transaction_real_price</th>\n",
       "      <th>year</th>\n",
       "      <th>month</th>\n",
       "      <th>hangang</th>\n",
       "      <th>count_park</th>\n",
       "      <th>gu</th>\n",
       "    </tr>\n",
       "  </thead>\n",
       "  <tbody>\n",
       "    <tr>\n",
       "      <th>0</th>\n",
       "      <td>7622</td>\n",
       "      <td>서울특별시</td>\n",
       "      <td>신교동</td>\n",
       "      <td>6-13</td>\n",
       "      <td>신현(101동)</td>\n",
       "      <td>84.82</td>\n",
       "      <td>2002</td>\n",
       "      <td>200801</td>\n",
       "      <td>21~31</td>\n",
       "      <td>2</td>\n",
       "      <td>37500</td>\n",
       "      <td>2008</td>\n",
       "      <td>1</td>\n",
       "      <td>0</td>\n",
       "      <td>0</td>\n",
       "      <td>종로구</td>\n",
       "    </tr>\n",
       "    <tr>\n",
       "      <th>1</th>\n",
       "      <td>5399</td>\n",
       "      <td>서울특별시</td>\n",
       "      <td>필운동</td>\n",
       "      <td>142</td>\n",
       "      <td>사직파크맨션</td>\n",
       "      <td>99.17</td>\n",
       "      <td>1973</td>\n",
       "      <td>200801</td>\n",
       "      <td>1~10</td>\n",
       "      <td>6</td>\n",
       "      <td>20000</td>\n",
       "      <td>2008</td>\n",
       "      <td>1</td>\n",
       "      <td>0</td>\n",
       "      <td>0</td>\n",
       "      <td>종로구</td>\n",
       "    </tr>\n",
       "    <tr>\n",
       "      <th>2</th>\n",
       "      <td>3578</td>\n",
       "      <td>서울특별시</td>\n",
       "      <td>필운동</td>\n",
       "      <td>174-1</td>\n",
       "      <td>두레엘리시안</td>\n",
       "      <td>84.74</td>\n",
       "      <td>2007</td>\n",
       "      <td>200801</td>\n",
       "      <td>1~10</td>\n",
       "      <td>6</td>\n",
       "      <td>38500</td>\n",
       "      <td>2008</td>\n",
       "      <td>1</td>\n",
       "      <td>0</td>\n",
       "      <td>0</td>\n",
       "      <td>종로구</td>\n",
       "    </tr>\n",
       "    <tr>\n",
       "      <th>3</th>\n",
       "      <td>10957</td>\n",
       "      <td>서울특별시</td>\n",
       "      <td>내수동</td>\n",
       "      <td>95</td>\n",
       "      <td>파크팰리스</td>\n",
       "      <td>146.39</td>\n",
       "      <td>2003</td>\n",
       "      <td>200801</td>\n",
       "      <td>11~20</td>\n",
       "      <td>15</td>\n",
       "      <td>118000</td>\n",
       "      <td>2008</td>\n",
       "      <td>1</td>\n",
       "      <td>0</td>\n",
       "      <td>0</td>\n",
       "      <td>종로구</td>\n",
       "    </tr>\n",
       "    <tr>\n",
       "      <th>4</th>\n",
       "      <td>10639</td>\n",
       "      <td>서울특별시</td>\n",
       "      <td>내수동</td>\n",
       "      <td>110-15</td>\n",
       "      <td>킹스매너</td>\n",
       "      <td>194.43</td>\n",
       "      <td>2004</td>\n",
       "      <td>200801</td>\n",
       "      <td>21~31</td>\n",
       "      <td>3</td>\n",
       "      <td>120000</td>\n",
       "      <td>2008</td>\n",
       "      <td>1</td>\n",
       "      <td>0</td>\n",
       "      <td>0</td>\n",
       "      <td>종로구</td>\n",
       "    </tr>\n",
       "    <tr>\n",
       "      <th>...</th>\n",
       "      <td>...</td>\n",
       "      <td>...</td>\n",
       "      <td>...</td>\n",
       "      <td>...</td>\n",
       "      <td>...</td>\n",
       "      <td>...</td>\n",
       "      <td>...</td>\n",
       "      <td>...</td>\n",
       "      <td>...</td>\n",
       "      <td>...</td>\n",
       "      <td>...</td>\n",
       "      <td>...</td>\n",
       "      <td>...</td>\n",
       "      <td>...</td>\n",
       "      <td>...</td>\n",
       "      <td>...</td>\n",
       "    </tr>\n",
       "    <tr>\n",
       "      <th>1184014</th>\n",
       "      <td>996</td>\n",
       "      <td>서울특별시</td>\n",
       "      <td>강일동</td>\n",
       "      <td>717</td>\n",
       "      <td>고덕리엔파크2단지</td>\n",
       "      <td>59.72</td>\n",
       "      <td>2011</td>\n",
       "      <td>201711</td>\n",
       "      <td>11~20</td>\n",
       "      <td>9</td>\n",
       "      <td>53000</td>\n",
       "      <td>2017</td>\n",
       "      <td>11</td>\n",
       "      <td>0</td>\n",
       "      <td>9</td>\n",
       "      <td>강동구</td>\n",
       "    </tr>\n",
       "    <tr>\n",
       "      <th>1184015</th>\n",
       "      <td>682</td>\n",
       "      <td>서울특별시</td>\n",
       "      <td>강일동</td>\n",
       "      <td>674</td>\n",
       "      <td>강일리버파크3단지</td>\n",
       "      <td>59.87</td>\n",
       "      <td>2009</td>\n",
       "      <td>201711</td>\n",
       "      <td>21~30</td>\n",
       "      <td>12</td>\n",
       "      <td>53000</td>\n",
       "      <td>2017</td>\n",
       "      <td>11</td>\n",
       "      <td>0</td>\n",
       "      <td>9</td>\n",
       "      <td>강동구</td>\n",
       "    </tr>\n",
       "    <tr>\n",
       "      <th>1184016</th>\n",
       "      <td>682</td>\n",
       "      <td>서울특별시</td>\n",
       "      <td>강일동</td>\n",
       "      <td>674</td>\n",
       "      <td>강일리버파크3단지</td>\n",
       "      <td>84.74</td>\n",
       "      <td>2009</td>\n",
       "      <td>201711</td>\n",
       "      <td>21~30</td>\n",
       "      <td>3</td>\n",
       "      <td>56500</td>\n",
       "      <td>2017</td>\n",
       "      <td>11</td>\n",
       "      <td>0</td>\n",
       "      <td>9</td>\n",
       "      <td>강동구</td>\n",
       "    </tr>\n",
       "    <tr>\n",
       "      <th>1184017</th>\n",
       "      <td>680</td>\n",
       "      <td>서울특별시</td>\n",
       "      <td>강일동</td>\n",
       "      <td>665</td>\n",
       "      <td>강일리버파크1단지</td>\n",
       "      <td>84.74</td>\n",
       "      <td>2009</td>\n",
       "      <td>201711</td>\n",
       "      <td>21~30</td>\n",
       "      <td>9</td>\n",
       "      <td>55500</td>\n",
       "      <td>2017</td>\n",
       "      <td>11</td>\n",
       "      <td>0</td>\n",
       "      <td>9</td>\n",
       "      <td>강동구</td>\n",
       "    </tr>\n",
       "    <tr>\n",
       "      <th>1184018</th>\n",
       "      <td>996</td>\n",
       "      <td>서울특별시</td>\n",
       "      <td>강일동</td>\n",
       "      <td>717</td>\n",
       "      <td>고덕리엔파크2단지</td>\n",
       "      <td>84.98</td>\n",
       "      <td>2011</td>\n",
       "      <td>201711</td>\n",
       "      <td>21~30</td>\n",
       "      <td>8</td>\n",
       "      <td>63750</td>\n",
       "      <td>2017</td>\n",
       "      <td>11</td>\n",
       "      <td>0</td>\n",
       "      <td>9</td>\n",
       "      <td>강동구</td>\n",
       "    </tr>\n",
       "  </tbody>\n",
       "</table>\n",
       "<p>742285 rows × 16 columns</p>\n",
       "</div>"
      ],
      "text/plain": [
       "         apartment_id   city dong   jibun        apt  exclusive_use_area  \\\n",
       "0                7622  서울특별시  신교동    6-13   신현(101동)               84.82   \n",
       "1                5399  서울특별시  필운동     142     사직파크맨션               99.17   \n",
       "2                3578  서울특별시  필운동   174-1     두레엘리시안               84.74   \n",
       "3               10957  서울특별시  내수동      95      파크팰리스              146.39   \n",
       "4               10639  서울특별시  내수동  110-15       킹스매너              194.43   \n",
       "...               ...    ...  ...     ...        ...                 ...   \n",
       "1184014           996  서울특별시  강일동     717  고덕리엔파크2단지               59.72   \n",
       "1184015           682  서울특별시  강일동     674  강일리버파크3단지               59.87   \n",
       "1184016           682  서울특별시  강일동     674  강일리버파크3단지               84.74   \n",
       "1184017           680  서울특별시  강일동     665  강일리버파크1단지               84.74   \n",
       "1184018           996  서울특별시  강일동     717  고덕리엔파크2단지               84.98   \n",
       "\n",
       "         year_of_completion  transaction_year_month transaction_date  floor  \\\n",
       "0                      2002                  200801            21~31      2   \n",
       "1                      1973                  200801             1~10      6   \n",
       "2                      2007                  200801             1~10      6   \n",
       "3                      2003                  200801            11~20     15   \n",
       "4                      2004                  200801            21~31      3   \n",
       "...                     ...                     ...              ...    ...   \n",
       "1184014                2011                  201711            11~20      9   \n",
       "1184015                2009                  201711            21~30     12   \n",
       "1184016                2009                  201711            21~30      3   \n",
       "1184017                2009                  201711            21~30      9   \n",
       "1184018                2011                  201711            21~30      8   \n",
       "\n",
       "         transaction_real_price  year  month  hangang  count_park   gu  \n",
       "0                         37500  2008      1        0           0  종로구  \n",
       "1                         20000  2008      1        0           0  종로구  \n",
       "2                         38500  2008      1        0           0  종로구  \n",
       "3                        118000  2008      1        0           0  종로구  \n",
       "4                        120000  2008      1        0           0  종로구  \n",
       "...                         ...   ...    ...      ...         ...  ...  \n",
       "1184014                   53000  2017     11        0           9  강동구  \n",
       "1184015                   53000  2017     11        0           9  강동구  \n",
       "1184016                   56500  2017     11        0           9  강동구  \n",
       "1184017                   55500  2017     11        0           9  강동구  \n",
       "1184018                   63750  2017     11        0           9  강동구  \n",
       "\n",
       "[742285 rows x 16 columns]"
      ]
     },
     "execution_count": 64,
     "metadata": {},
     "output_type": "execute_result"
    }
   ],
   "source": [
    "df_train['gu'] = df_train['dong']\n",
    "df_train['gu'] = df_train['gu'].map(temp['gu'])\n",
    "df_train"
   ]
  },
  {
   "cell_type": "markdown",
   "id": "d28fd1d6",
   "metadata": {
    "id": "d28fd1d6"
   },
   "source": [
    "### park 구별 데이터 파생변수"
   ]
  },
  {
   "cell_type": "code",
   "execution_count": null,
   "id": "8bfe1f82",
   "metadata": {
    "colab": {
     "base_uri": "https://localhost:8080/",
     "height": 311
    },
    "executionInfo": {
     "elapsed": 9,
     "status": "ok",
     "timestamp": 1645122561684,
     "user": {
      "displayName": "최윤성",
      "photoUrl": "https://lh3.googleusercontent.com/a-/AOh14GhPE9xSgYvruTxaBI1PrRZRNWn21DzdbLmy5HR0Xg=s64",
      "userId": "17937737491555296546"
     },
     "user_tz": -540
    },
    "id": "8bfe1f82",
    "outputId": "81101f38-8509-44ec-bad6-6179efa2475b"
   },
   "outputs": [
    {
     "data": {
      "text/html": [
       "<div>\n",
       "<style scoped>\n",
       "    .dataframe tbody tr th:only-of-type {\n",
       "        vertical-align: middle;\n",
       "    }\n",
       "\n",
       "    .dataframe tbody tr th {\n",
       "        vertical-align: top;\n",
       "    }\n",
       "\n",
       "    .dataframe thead th {\n",
       "        text-align: right;\n",
       "    }\n",
       "</style>\n",
       "<table border=\"1\" class=\"dataframe\">\n",
       "  <thead>\n",
       "    <tr style=\"text-align: right;\">\n",
       "      <th></th>\n",
       "      <th>city</th>\n",
       "      <th>gu</th>\n",
       "      <th>dong</th>\n",
       "      <th>park_name</th>\n",
       "      <th>park_type</th>\n",
       "      <th>park_area</th>\n",
       "      <th>park_exercise_facility</th>\n",
       "      <th>park_entertainment_facility</th>\n",
       "      <th>park_benefit_facility</th>\n",
       "      <th>park_cultural_facitiy</th>\n",
       "      <th>park_facility_other</th>\n",
       "      <th>park_open_year</th>\n",
       "      <th>reference_date</th>\n",
       "    </tr>\n",
       "  </thead>\n",
       "  <tbody>\n",
       "    <tr>\n",
       "      <th>58</th>\n",
       "      <td>서울특별시</td>\n",
       "      <td>서초구</td>\n",
       "      <td>반포동</td>\n",
       "      <td>반  포</td>\n",
       "      <td>근린공원</td>\n",
       "      <td>26092.2</td>\n",
       "      <td>NaN</td>\n",
       "      <td>NaN</td>\n",
       "      <td>NaN</td>\n",
       "      <td>NaN</td>\n",
       "      <td>NaN</td>\n",
       "      <td>1981.0</td>\n",
       "      <td>2018-06-30</td>\n",
       "    </tr>\n",
       "    <tr>\n",
       "      <th>59</th>\n",
       "      <td>서울특별시</td>\n",
       "      <td>서초구</td>\n",
       "      <td>양재동</td>\n",
       "      <td>방아다리1</td>\n",
       "      <td>근린공원</td>\n",
       "      <td>2870.8</td>\n",
       "      <td>NaN</td>\n",
       "      <td>NaN</td>\n",
       "      <td>NaN</td>\n",
       "      <td>NaN</td>\n",
       "      <td>NaN</td>\n",
       "      <td>1988.0</td>\n",
       "      <td>2018-06-30</td>\n",
       "    </tr>\n",
       "    <tr>\n",
       "      <th>60</th>\n",
       "      <td>서울특별시</td>\n",
       "      <td>서초구</td>\n",
       "      <td>양재동</td>\n",
       "      <td>방아다리2</td>\n",
       "      <td>근린공원</td>\n",
       "      <td>2934.3</td>\n",
       "      <td>NaN</td>\n",
       "      <td>NaN</td>\n",
       "      <td>NaN</td>\n",
       "      <td>NaN</td>\n",
       "      <td>NaN</td>\n",
       "      <td>1988.0</td>\n",
       "      <td>2018-06-30</td>\n",
       "    </tr>\n",
       "  </tbody>\n",
       "</table>\n",
       "</div>"
      ],
      "text/plain": [
       "     city   gu dong park_name park_type  park_area park_exercise_facility  \\\n",
       "58  서울특별시  서초구  반포동      반  포      근린공원    26092.2                    NaN   \n",
       "59  서울특별시  서초구  양재동     방아다리1      근린공원     2870.8                    NaN   \n",
       "60  서울특별시  서초구  양재동     방아다리2      근린공원     2934.3                    NaN   \n",
       "\n",
       "   park_entertainment_facility park_benefit_facility park_cultural_facitiy  \\\n",
       "58                         NaN                   NaN                   NaN   \n",
       "59                         NaN                   NaN                   NaN   \n",
       "60                         NaN                   NaN                   NaN   \n",
       "\n",
       "   park_facility_other  park_open_year reference_date  \n",
       "58                 NaN          1981.0     2018-06-30  \n",
       "59                 NaN          1988.0     2018-06-30  \n",
       "60                 NaN          1988.0     2018-06-30  "
      ]
     },
     "execution_count": 65,
     "metadata": {},
     "output_type": "execute_result"
    }
   ],
   "source": [
    "park.head(3)"
   ]
  },
  {
   "cell_type": "code",
   "execution_count": null,
   "id": "89c4ac52",
   "metadata": {
    "colab": {
     "base_uri": "https://localhost:8080/",
     "height": 206
    },
    "executionInfo": {
     "elapsed": 8,
     "status": "ok",
     "timestamp": 1645122561684,
     "user": {
      "displayName": "최윤성",
      "photoUrl": "https://lh3.googleusercontent.com/a-/AOh14GhPE9xSgYvruTxaBI1PrRZRNWn21DzdbLmy5HR0Xg=s64",
      "userId": "17937737491555296546"
     },
     "user_tz": -540
    },
    "id": "89c4ac52",
    "outputId": "c381f4de-ad4d-40e8-99d5-dacbc71f3861"
   },
   "outputs": [
    {
     "data": {
      "text/html": [
       "<div>\n",
       "<style scoped>\n",
       "    .dataframe tbody tr th:only-of-type {\n",
       "        vertical-align: middle;\n",
       "    }\n",
       "\n",
       "    .dataframe tbody tr th {\n",
       "        vertical-align: top;\n",
       "    }\n",
       "\n",
       "    .dataframe thead th {\n",
       "        text-align: right;\n",
       "    }\n",
       "</style>\n",
       "<table border=\"1\" class=\"dataframe\">\n",
       "  <thead>\n",
       "    <tr style=\"text-align: right;\">\n",
       "      <th></th>\n",
       "      <th>gu</th>\n",
       "      <th>park_gu_count</th>\n",
       "    </tr>\n",
       "  </thead>\n",
       "  <tbody>\n",
       "    <tr>\n",
       "      <th>0</th>\n",
       "      <td>강남구</td>\n",
       "      <td>132</td>\n",
       "    </tr>\n",
       "    <tr>\n",
       "      <th>1</th>\n",
       "      <td>강동구</td>\n",
       "      <td>23</td>\n",
       "    </tr>\n",
       "    <tr>\n",
       "      <th>2</th>\n",
       "      <td>강북구</td>\n",
       "      <td>9</td>\n",
       "    </tr>\n",
       "    <tr>\n",
       "      <th>3</th>\n",
       "      <td>강서구</td>\n",
       "      <td>109</td>\n",
       "    </tr>\n",
       "    <tr>\n",
       "      <th>4</th>\n",
       "      <td>관악구</td>\n",
       "      <td>14</td>\n",
       "    </tr>\n",
       "  </tbody>\n",
       "</table>\n",
       "</div>"
      ],
      "text/plain": [
       "    gu  park_gu_count\n",
       "0  강남구            132\n",
       "1  강동구             23\n",
       "2  강북구              9\n",
       "3  강서구            109\n",
       "4  관악구             14"
      ]
     },
     "execution_count": 66,
     "metadata": {},
     "output_type": "execute_result"
    }
   ],
   "source": [
    "park_num = park[['gu','park_name']].groupby('gu').count().sort_values('gu').reset_index()\n",
    "park_num = park_num.rename(columns={'park_name':'park_gu_count'})\n",
    "park_num.head()"
   ]
  },
  {
   "cell_type": "code",
   "execution_count": null,
   "id": "e4373101",
   "metadata": {
    "id": "e4373101"
   },
   "outputs": [],
   "source": [
    "park_num.set_index('gu',inplace=True)\n"
   ]
  },
  {
   "cell_type": "code",
   "execution_count": null,
   "id": "0422d689",
   "metadata": {
    "colab": {
     "base_uri": "https://localhost:8080/"
    },
    "executionInfo": {
     "elapsed": 8,
     "status": "ok",
     "timestamp": 1645122561684,
     "user": {
      "displayName": "최윤성",
      "photoUrl": "https://lh3.googleusercontent.com/a-/AOh14GhPE9xSgYvruTxaBI1PrRZRNWn21DzdbLmy5HR0Xg=s64",
      "userId": "17937737491555296546"
     },
     "user_tz": -540
    },
    "id": "0422d689",
    "outputId": "37c3d6ea-df02-4257-c5f7-51bcb93e6e26"
   },
   "outputs": [
    {
     "data": {
      "text/plain": [
       "gu\n",
       "강남구     132\n",
       "강동구      23\n",
       "강북구       9\n",
       "강서구     109\n",
       "관악구      14\n",
       "광진구      11\n",
       "구로구      47\n",
       "금천구      10\n",
       "노원구       2\n",
       "도봉구       2\n",
       "동대문구     41\n",
       "동작구      46\n",
       "서대문구     50\n",
       "서초구     107\n",
       "성동구      23\n",
       "송파구     147\n",
       "양천구       1\n",
       "영등포구      8\n",
       "용산구      32\n",
       "은평구      79\n",
       "종로구       5\n",
       "중구       14\n",
       "중랑구      11\n",
       "Name: park_gu_count, dtype: int32"
      ]
     },
     "execution_count": 68,
     "metadata": {},
     "output_type": "execute_result"
    }
   ],
   "source": [
    "park_num['park_gu_count'].astype(int)"
   ]
  },
  {
   "cell_type": "code",
   "execution_count": null,
   "id": "d639cfc0",
   "metadata": {
    "id": "d639cfc0"
   },
   "outputs": [],
   "source": [
    "park_num = park_num.to_dict()"
   ]
  },
  {
   "cell_type": "code",
   "execution_count": null,
   "id": "eda2469f",
   "metadata": {
    "id": "eda2469f"
   },
   "outputs": [],
   "source": [
    "df_train['count_gu_park'] = df_train['gu']\n",
    "df_train['count_gu_park'] = df_train['count_gu_park'].map(park_num['park_gu_count'])"
   ]
  },
  {
   "cell_type": "code",
   "execution_count": null,
   "id": "de595e30",
   "metadata": {
    "colab": {
     "base_uri": "https://localhost:8080/"
    },
    "executionInfo": {
     "elapsed": 276,
     "status": "ok",
     "timestamp": 1645122562231,
     "user": {
      "displayName": "최윤성",
      "photoUrl": "https://lh3.googleusercontent.com/a-/AOh14GhPE9xSgYvruTxaBI1PrRZRNWn21DzdbLmy5HR0Xg=s64",
      "userId": "17937737491555296546"
     },
     "user_tz": -540
    },
    "id": "de595e30",
    "outputId": "eff401a1-9fb8-44c7-e72a-d9d6673af8a1"
   },
   "outputs": [
    {
     "data": {
      "text/plain": [
       "count_gu_park    63499\n",
       "dtype: int64"
      ]
     },
     "execution_count": 71,
     "metadata": {},
     "output_type": "execute_result"
    }
   ],
   "source": [
    "df_train[['count_gu_park']].isnull().sum()"
   ]
  },
  {
   "cell_type": "code",
   "execution_count": null,
   "id": "2bad1c73",
   "metadata": {
    "id": "2bad1c73"
   },
   "outputs": [],
   "source": [
    "#시간 되면 호선 별 거리 별 역 있는지"
   ]
  },
  {
   "cell_type": "markdown",
   "id": "RemIRVY8D36-",
   "metadata": {
    "id": "RemIRVY8D36-"
   },
   "source": [
    "#### park 개수에 따른 동별 실거래가"
   ]
  },
  {
   "cell_type": "code",
   "execution_count": null,
   "id": "proprietary-apple",
   "metadata": {
    "colab": {
     "base_uri": "https://localhost:8080/"
    },
    "executionInfo": {
     "elapsed": 2098,
     "status": "ok",
     "timestamp": 1645122564328,
     "user": {
      "displayName": "최윤성",
      "photoUrl": "https://lh3.googleusercontent.com/a-/AOh14GhPE9xSgYvruTxaBI1PrRZRNWn21DzdbLmy5HR0Xg=s64",
      "userId": "17937737491555296546"
     },
     "user_tz": -540
    },
    "id": "proprietary-apple",
    "outputId": "25ac4f50-44b6-4dbd-b178-46e9a588e42f",
    "scrolled": true
   },
   "outputs": [
    {
     "data": {
      "text/plain": [
       "array(['가락동', '가리봉동', '가산동', '가양동', '갈월동', '갈현동', '강일동', '개봉동', '개포동',\n",
       "       '거여동', '견지동', '고덕동', '고척동', '공덕동', '공릉동', '공항동', '광장동', '교남동',\n",
       "       '교북동', '구기동', '구로동', '구산동', '구수동', '구의동', '군자동', '궁동', '금호동1가',\n",
       "       '금호동2가', '금호동3가', '금호동4가', '길동', '길음동', '낙원동', '남가좌동', '남대문로5가',\n",
       "       '남산동2가', '남창동', '남현동', '내곡동', '내발산동', '내수동', '냉천동', '노고산동', '노량진동',\n",
       "       '녹번동', '논현동', '누상동', '능동', '답십리동', '당산동', '당산동1가', '당산동2가',\n",
       "       '당산동3가', '당산동4가', '당산동5가', '당산동6가', '당주동', '대림동', '대방동', '대조동',\n",
       "       '대치동', '대현동', '대흥동', '도곡동', '도림동', '도봉동', '도선동', '도원동', '도화동',\n",
       "       '독산동', '돈암동', '동교동', '동빙고동', '동선동1가', '동선동3가', '동선동4가', '동선동5가',\n",
       "       '동소문동4가', '동소문동5가', '동소문동6가', '동소문동7가', '동숭동', '동자동', '동작동', '둔촌동',\n",
       "       '등촌동', '마곡동', '마장동', '마천동', '마포동', '만리동1가', '만리동2가', '망우동', '망원동',\n",
       "       '면목동', '명륜1가', '명륜2가', '명륜3가', '명일동', '목동', '무악동', '묵동', '묵정동',\n",
       "       '문래동2가', '문래동3가', '문래동4가', '문래동5가', '문래동6가', '문배동', '문정동', '미근동',\n",
       "       '미아동', '반포동', '방배동', '방이동', '방학동', '방화동', '번동', '보광동', '보문동2가',\n",
       "       '보문동3가', '보문동4가', '보문동6가', '본동', '봉천동', '부암동', '북가좌동', '북아현동',\n",
       "       '불광동', '사근동', '사당동', '사직동', '산림동', '산천동', '삼선동2가', '삼선동3가',\n",
       "       '삼선동4가', '삼선동5가', '삼성동', '삼전동', '상계동', '상도1동', '상도동', '상봉동', '상수동',\n",
       "       '상암동', '상왕십리동', '상월곡동', '상일동', '서교동', '서빙고동', '서초동', '석관동', '석촌동',\n",
       "       '성내동', '성북동', '성북동1가', '성산동', '성수동1가', '성수동2가', '세곡동', '송정동',\n",
       "       '송파동', '수색동', '수서동', '수송동', '수유동', '순화동', '숭인동', '시흥동', '신계동',\n",
       "       '신공덕동', '신교동', '신길동', '신내동', '신당동', '신대방동', '신도림동', '신림동', '신문로1가',\n",
       "       '신사동', '신설동', '신수동', '신영동', '신원동', '신월동', '신정동', '신창동', '신천동',\n",
       "       '쌍문동', '아현동', '안암동1가', '안암동3가', '안암동4가', '암사동', '압구정동', '양재동',\n",
       "       '양평동1가', '양평동2가', '양평동3가', '양평동4가', '양평동5가', '양평동6가', '여의도동',\n",
       "       '역삼동', '역촌동', '연건동', '연남동', '연희동', '염리동', '염창동', '영등포동', '영등포동1가',\n",
       "       '영등포동2가', '영등포동3가', '영등포동4가', '영등포동5가', '영등포동7가', '영등포동8가', '영천동',\n",
       "       '예장동', '오금동', '오류동', '오장동', '옥수동', '옥인동', '온수동', '용강동', '용답동',\n",
       "       '용두동', '용문동', '용산동2가', '용산동5가', '우면동', '우이동', '원효로1가', '원효로2가',\n",
       "       '원효로3가', '원효로4가', '월계동', '율현동', '을지로5가', '응봉동', '응암동', '이문동',\n",
       "       '이촌동', '이태원동', '이화동', '익선동', '인의동', '인현동2가', '일원동', '자곡동', '자양동',\n",
       "       '잠실동', '잠원동', '장안동', '장위동', '장지동', '장충동1가', '장충동2가', '전농동', '정동',\n",
       "       '정릉동', '제기동', '종암동', '주성동', '중계동', '중곡동', '중동', '중림동', '중화동',\n",
       "       '증산동', '진관동', '창동', '창신동', '창전동', '창천동', '천연동', '천왕동', '천호동',\n",
       "       '청담동', '청량리동', '청암동', '청운동', '청파동1가', '청파동3가', '충무로4가', '충무로5가',\n",
       "       '충신동', '충정로2가', '충정로3가', '토정동', '통인동', '평창동', '풍납동', '필동1가',\n",
       "       '필동3가', '필운동', '하계동', '하왕십리동', '하월곡동', '하중동', '한강로1가', '한강로2가',\n",
       "       '한강로3가', '한남동', '합동', '합정동', '항동', '행당동', '행촌동', '현석동', '현저동',\n",
       "       '혜화동', '홍은동', '홍익동', '홍제동', '화곡동', '화양동', '황학동', '회기동', '회현동1가',\n",
       "       '회현동2가', '효제동', '효창동', '후암동', '휘경동', '흑석동', '흥인동'], dtype=object)"
      ]
     },
     "execution_count": 73,
     "metadata": {},
     "output_type": "execute_result"
    }
   ],
   "source": [
    "park_num = df_train.loc[:, ['dong','transaction_real_price', 'count_park']]\n",
    "\n",
    "unique_dong = np.unique(park_num[\"dong\"])\n",
    "unique_dong"
   ]
  },
  {
   "cell_type": "code",
   "execution_count": null,
   "id": "mediterranean-insurance",
   "metadata": {
    "id": "mediterranean-insurance"
   },
   "outputs": [],
   "source": [
    "mean_dong_df = df_train[['dong','transaction_real_price']].groupby('dong').mean().sort_values('transaction_real_price').reset_index()\n",
    "mean_dong_df.rename(columns={'transaction_real_price':'mean_dong_price'},inplace=True)"
   ]
  },
  {
   "cell_type": "code",
   "execution_count": null,
   "id": "spare-chess",
   "metadata": {
    "colab": {
     "base_uri": "https://localhost:8080/",
     "height": 1000
    },
    "executionInfo": {
     "elapsed": 4,
     "status": "ok",
     "timestamp": 1645122564933,
     "user": {
      "displayName": "최윤성",
      "photoUrl": "https://lh3.googleusercontent.com/a-/AOh14GhPE9xSgYvruTxaBI1PrRZRNWn21DzdbLmy5HR0Xg=s64",
      "userId": "17937737491555296546"
     },
     "user_tz": -540
    },
    "id": "spare-chess",
    "outputId": "49b9580c-5095-45af-e65b-04cb479c2b16"
   },
   "outputs": [
    {
     "data": {
      "text/html": [
       "<div>\n",
       "<style scoped>\n",
       "    .dataframe tbody tr th:only-of-type {\n",
       "        vertical-align: middle;\n",
       "    }\n",
       "\n",
       "    .dataframe tbody tr th {\n",
       "        vertical-align: top;\n",
       "    }\n",
       "\n",
       "    .dataframe thead th {\n",
       "        text-align: right;\n",
       "    }\n",
       "</style>\n",
       "<table border=\"1\" class=\"dataframe\">\n",
       "  <thead>\n",
       "    <tr style=\"text-align: right;\">\n",
       "      <th></th>\n",
       "      <th>dong</th>\n",
       "      <th>mean_dong_price</th>\n",
       "    </tr>\n",
       "  </thead>\n",
       "  <tbody>\n",
       "    <tr>\n",
       "      <th>0</th>\n",
       "      <td>장충동2가</td>\n",
       "      <td>6628.421053</td>\n",
       "    </tr>\n",
       "    <tr>\n",
       "      <th>1</th>\n",
       "      <td>필동1가</td>\n",
       "      <td>8466.666667</td>\n",
       "    </tr>\n",
       "    <tr>\n",
       "      <th>2</th>\n",
       "      <td>누상동</td>\n",
       "      <td>10650.000000</td>\n",
       "    </tr>\n",
       "    <tr>\n",
       "      <th>3</th>\n",
       "      <td>영등포동3가</td>\n",
       "      <td>11515.652174</td>\n",
       "    </tr>\n",
       "    <tr>\n",
       "      <th>4</th>\n",
       "      <td>영등포동2가</td>\n",
       "      <td>12402.040816</td>\n",
       "    </tr>\n",
       "    <tr>\n",
       "      <th>...</th>\n",
       "      <td>...</td>\n",
       "      <td>...</td>\n",
       "    </tr>\n",
       "    <tr>\n",
       "      <th>325</th>\n",
       "      <td>회현동2가</td>\n",
       "      <td>139906.140351</td>\n",
       "    </tr>\n",
       "    <tr>\n",
       "      <th>326</th>\n",
       "      <td>용산동5가</td>\n",
       "      <td>153497.331633</td>\n",
       "    </tr>\n",
       "    <tr>\n",
       "      <th>327</th>\n",
       "      <td>청암동</td>\n",
       "      <td>161403.700000</td>\n",
       "    </tr>\n",
       "    <tr>\n",
       "      <th>328</th>\n",
       "      <td>압구정동</td>\n",
       "      <td>164534.722914</td>\n",
       "    </tr>\n",
       "    <tr>\n",
       "      <th>329</th>\n",
       "      <td>장충동1가</td>\n",
       "      <td>269888.888889</td>\n",
       "    </tr>\n",
       "  </tbody>\n",
       "</table>\n",
       "<p>330 rows × 2 columns</p>\n",
       "</div>"
      ],
      "text/plain": [
       "       dong  mean_dong_price\n",
       "0     장충동2가      6628.421053\n",
       "1      필동1가      8466.666667\n",
       "2       누상동     10650.000000\n",
       "3    영등포동3가     11515.652174\n",
       "4    영등포동2가     12402.040816\n",
       "..      ...              ...\n",
       "325   회현동2가    139906.140351\n",
       "326   용산동5가    153497.331633\n",
       "327     청암동    161403.700000\n",
       "328    압구정동    164534.722914\n",
       "329   장충동1가    269888.888889\n",
       "\n",
       "[330 rows x 2 columns]"
      ]
     },
     "execution_count": 75,
     "metadata": {},
     "output_type": "execute_result"
    }
   ],
   "source": [
    "mean_dong_df"
   ]
  },
  {
   "cell_type": "code",
   "execution_count": null,
   "id": "DgjIVapGEP7f",
   "metadata": {
    "colab": {
     "base_uri": "https://localhost:8080/",
     "height": 1000
    },
    "executionInfo": {
     "elapsed": 564,
     "status": "ok",
     "timestamp": 1645122565494,
     "user": {
      "displayName": "최윤성",
      "photoUrl": "https://lh3.googleusercontent.com/a-/AOh14GhPE9xSgYvruTxaBI1PrRZRNWn21DzdbLmy5HR0Xg=s64",
      "userId": "17937737491555296546"
     },
     "user_tz": -540
    },
    "id": "DgjIVapGEP7f",
    "outputId": "6cc08198-1f5a-43f7-bcc1-2023c3496e4b"
   },
   "outputs": [
    {
     "data": {
      "text/html": [
       "<div>\n",
       "<style scoped>\n",
       "    .dataframe tbody tr th:only-of-type {\n",
       "        vertical-align: middle;\n",
       "    }\n",
       "\n",
       "    .dataframe tbody tr th {\n",
       "        vertical-align: top;\n",
       "    }\n",
       "\n",
       "    .dataframe thead th {\n",
       "        text-align: right;\n",
       "    }\n",
       "</style>\n",
       "<table border=\"1\" class=\"dataframe\">\n",
       "  <thead>\n",
       "    <tr style=\"text-align: right;\">\n",
       "      <th></th>\n",
       "      <th>dong</th>\n",
       "      <th>count_park</th>\n",
       "      <th>count_park_rank</th>\n",
       "      <th>mean_dong_price</th>\n",
       "    </tr>\n",
       "  </thead>\n",
       "  <tbody>\n",
       "    <tr>\n",
       "      <th>329</th>\n",
       "      <td>흥인동</td>\n",
       "      <td>0</td>\n",
       "      <td>1.0</td>\n",
       "      <td>74039.456432</td>\n",
       "    </tr>\n",
       "    <tr>\n",
       "      <th>155</th>\n",
       "      <td>성북동</td>\n",
       "      <td>0</td>\n",
       "      <td>1.0</td>\n",
       "      <td>18747.027027</td>\n",
       "    </tr>\n",
       "    <tr>\n",
       "      <th>156</th>\n",
       "      <td>성북동1가</td>\n",
       "      <td>0</td>\n",
       "      <td>1.0</td>\n",
       "      <td>41638.000000</td>\n",
       "    </tr>\n",
       "    <tr>\n",
       "      <th>157</th>\n",
       "      <td>성산동</td>\n",
       "      <td>0</td>\n",
       "      <td>1.0</td>\n",
       "      <td>39997.691616</td>\n",
       "    </tr>\n",
       "    <tr>\n",
       "      <th>159</th>\n",
       "      <td>성수동2가</td>\n",
       "      <td>0</td>\n",
       "      <td>1.0</td>\n",
       "      <td>58204.548035</td>\n",
       "    </tr>\n",
       "    <tr>\n",
       "      <th>...</th>\n",
       "      <td>...</td>\n",
       "      <td>...</td>\n",
       "      <td>...</td>\n",
       "      <td>...</td>\n",
       "    </tr>\n",
       "    <tr>\n",
       "      <th>88</th>\n",
       "      <td>마천동</td>\n",
       "      <td>19</td>\n",
       "      <td>326.0</td>\n",
       "      <td>42425.215088</td>\n",
       "    </tr>\n",
       "    <tr>\n",
       "      <th>109</th>\n",
       "      <td>문정동</td>\n",
       "      <td>20</td>\n",
       "      <td>327.0</td>\n",
       "      <td>62182.640031</td>\n",
       "    </tr>\n",
       "    <tr>\n",
       "      <th>196</th>\n",
       "      <td>양재동</td>\n",
       "      <td>21</td>\n",
       "      <td>328.0</td>\n",
       "      <td>52965.720034</td>\n",
       "    </tr>\n",
       "    <tr>\n",
       "      <th>116</th>\n",
       "      <td>방화동</td>\n",
       "      <td>25</td>\n",
       "      <td>329.0</td>\n",
       "      <td>29972.402532</td>\n",
       "    </tr>\n",
       "    <tr>\n",
       "      <th>318</th>\n",
       "      <td>화곡동</td>\n",
       "      <td>31</td>\n",
       "      <td>330.0</td>\n",
       "      <td>39749.194066</td>\n",
       "    </tr>\n",
       "  </tbody>\n",
       "</table>\n",
       "<p>330 rows × 4 columns</p>\n",
       "</div>"
      ],
      "text/plain": [
       "      dong  count_park  count_park_rank  mean_dong_price\n",
       "329    흥인동           0              1.0     74039.456432\n",
       "155    성북동           0              1.0     18747.027027\n",
       "156  성북동1가           0              1.0     41638.000000\n",
       "157    성산동           0              1.0     39997.691616\n",
       "159  성수동2가           0              1.0     58204.548035\n",
       "..     ...         ...              ...              ...\n",
       "88     마천동          19            326.0     42425.215088\n",
       "109    문정동          20            327.0     62182.640031\n",
       "196    양재동          21            328.0     52965.720034\n",
       "116    방화동          25            329.0     29972.402532\n",
       "318    화곡동          31            330.0     39749.194066\n",
       "\n",
       "[330 rows x 4 columns]"
      ]
     },
     "execution_count": 76,
     "metadata": {},
     "output_type": "execute_result"
    }
   ],
   "source": [
    "# mean_dong_df['transaction_real_price'] = df_train['transaction_real_price']/\n",
    "merge_inner = pd.merge(count_park_df,mean_dong_df)\n",
    "merge_inner.sort_values(by = 'count_park_rank')"
   ]
  },
  {
   "cell_type": "code",
   "execution_count": null,
   "id": "rHfEkBUVGSbm",
   "metadata": {
    "colab": {
     "base_uri": "https://localhost:8080/",
     "height": 302
    },
    "executionInfo": {
     "elapsed": 871,
     "status": "ok",
     "timestamp": 1645122566362,
     "user": {
      "displayName": "최윤성",
      "photoUrl": "https://lh3.googleusercontent.com/a-/AOh14GhPE9xSgYvruTxaBI1PrRZRNWn21DzdbLmy5HR0Xg=s64",
      "userId": "17937737491555296546"
     },
     "user_tz": -540
    },
    "id": "rHfEkBUVGSbm",
    "outputId": "fa0f47ed-f00b-4b8f-b400-3fa94adb8f55"
   },
   "outputs": [
    {
     "data": {
      "image/png": "[encoded data removed]",
      "text/plain": [
       "<Figure size 432x288 with 1 Axes>"
      ]
     },
     "metadata": {
      "needs_background": "light"
     },
     "output_type": "display_data"
    }
   ],
   "source": [
    "plt.scatter(merge_inner['count_park_rank'], merge_inner['mean_dong_price'])\n",
    "plt.xlabel('count_park_rank')\n",
    "plt.ylabel('mean_dong_price')\n",
    "plt.show()"
   ]
  },
  {
   "cell_type": "code",
   "execution_count": null,
   "id": "Iu7whOd9G_TB",
   "metadata": {
    "colab": {
     "base_uri": "https://localhost:8080/",
     "height": 143
    },
    "executionInfo": {
     "elapsed": 6,
     "status": "ok",
     "timestamp": 1645122566362,
     "user": {
      "displayName": "최윤성",
      "photoUrl": "https://lh3.googleusercontent.com/a-/AOh14GhPE9xSgYvruTxaBI1PrRZRNWn21DzdbLmy5HR0Xg=s64",
      "userId": "17937737491555296546"
     },
     "user_tz": -540
    },
    "id": "Iu7whOd9G_TB",
    "outputId": "88d3941b-4d35-4f23-8854-4abc841ed90d"
   },
   "outputs": [
    {
     "data": {
      "text/html": [
       "<div>\n",
       "<style scoped>\n",
       "    .dataframe tbody tr th:only-of-type {\n",
       "        vertical-align: middle;\n",
       "    }\n",
       "\n",
       "    .dataframe tbody tr th {\n",
       "        vertical-align: top;\n",
       "    }\n",
       "\n",
       "    .dataframe thead th {\n",
       "        text-align: right;\n",
       "    }\n",
       "</style>\n",
       "<table border=\"1\" class=\"dataframe\">\n",
       "  <thead>\n",
       "    <tr style=\"text-align: right;\">\n",
       "      <th></th>\n",
       "      <th>count_park</th>\n",
       "      <th>count_park_rank</th>\n",
       "      <th>mean_dong_price</th>\n",
       "    </tr>\n",
       "  </thead>\n",
       "  <tbody>\n",
       "    <tr>\n",
       "      <th>count_park</th>\n",
       "      <td>1.000000</td>\n",
       "      <td>0.774814</td>\n",
       "      <td>0.135173</td>\n",
       "    </tr>\n",
       "    <tr>\n",
       "      <th>count_park_rank</th>\n",
       "      <td>0.774814</td>\n",
       "      <td>1.000000</td>\n",
       "      <td>0.118786</td>\n",
       "    </tr>\n",
       "    <tr>\n",
       "      <th>mean_dong_price</th>\n",
       "      <td>0.135173</td>\n",
       "      <td>0.118786</td>\n",
       "      <td>1.000000</td>\n",
       "    </tr>\n",
       "  </tbody>\n",
       "</table>\n",
       "</div>"
      ],
      "text/plain": [
       "                 count_park  count_park_rank  mean_dong_price\n",
       "count_park         1.000000         0.774814         0.135173\n",
       "count_park_rank    0.774814         1.000000         0.118786\n",
       "mean_dong_price    0.135173         0.118786         1.000000"
      ]
     },
     "execution_count": 78,
     "metadata": {},
     "output_type": "execute_result"
    }
   ],
   "source": [
    "merge_inner.corr()"
   ]
  },
  {
   "cell_type": "markdown",
   "id": "JbqEI6ILQbET",
   "metadata": {
    "id": "JbqEI6ILQbET"
   },
   "source": [
    "### 지하철 파생변수 만들기\n"
   ]
  },
  {
   "cell_type": "code",
   "execution_count": null,
   "id": "WgYMA6X8QinS",
   "metadata": {
    "colab": {
     "base_uri": "https://localhost:8080/",
     "height": 433
    },
    "executionInfo": {
     "elapsed": 1502,
     "status": "error",
     "timestamp": 1645122567859,
     "user": {
      "displayName": "최윤성",
      "photoUrl": "https://lh3.googleusercontent.com/a-/AOh14GhPE9xSgYvruTxaBI1PrRZRNWn21DzdbLmy5HR0Xg=s64",
      "userId": "17937737491555296546"
     },
     "user_tz": -540
    },
    "id": "WgYMA6X8QinS",
    "outputId": "7b028cf3-e858-4fe9-ab4d-a3593fe23f5c"
   },
   "outputs": [
    {
     "data": {
      "text/html": [
       "<div>\n",
       "<style scoped>\n",
       "    .dataframe tbody tr th:only-of-type {\n",
       "        vertical-align: middle;\n",
       "    }\n",
       "\n",
       "    .dataframe tbody tr th {\n",
       "        vertical-align: top;\n",
       "    }\n",
       "\n",
       "    .dataframe thead th {\n",
       "        text-align: right;\n",
       "    }\n",
       "</style>\n",
       "<table border=\"1\" class=\"dataframe\">\n",
       "  <thead>\n",
       "    <tr style=\"text-align: right;\">\n",
       "      <th></th>\n",
       "      <th>Unnamed: 0</th>\n",
       "      <th>역이름</th>\n",
       "      <th>y</th>\n",
       "      <th>x</th>\n",
       "      <th>호선</th>\n",
       "      <th>geometry</th>\n",
       "    </tr>\n",
       "  </thead>\n",
       "  <tbody>\n",
       "    <tr>\n",
       "      <th>0</th>\n",
       "      <td>0</td>\n",
       "      <td>가락시장</td>\n",
       "      <td>37.492522</td>\n",
       "      <td>127.118234</td>\n",
       "      <td>['03호선', '08호선']</td>\n",
       "      <td>POINT (127.118234 37.492522)</td>\n",
       "    </tr>\n",
       "    <tr>\n",
       "      <th>1</th>\n",
       "      <td>1</td>\n",
       "      <td>종로3가</td>\n",
       "      <td>37.571607</td>\n",
       "      <td>126.991806</td>\n",
       "      <td>['01호선', '03호선', '05호선']</td>\n",
       "      <td>POINT (126.991806 37.571607)</td>\n",
       "    </tr>\n",
       "    <tr>\n",
       "      <th>2</th>\n",
       "      <td>2</td>\n",
       "      <td>오금</td>\n",
       "      <td>37.502162</td>\n",
       "      <td>127.128111</td>\n",
       "      <td>['03호선', '05호선']</td>\n",
       "      <td>POINT (127.128111 37.502162)</td>\n",
       "    </tr>\n",
       "    <tr>\n",
       "      <th>3</th>\n",
       "      <td>3</td>\n",
       "      <td>동대문</td>\n",
       "      <td>37.571420</td>\n",
       "      <td>127.009745</td>\n",
       "      <td>['01호선', '04호선']</td>\n",
       "      <td>POINT (127.009745 37.57142)</td>\n",
       "    </tr>\n",
       "    <tr>\n",
       "      <th>4</th>\n",
       "      <td>4</td>\n",
       "      <td>동대문역사문화공원</td>\n",
       "      <td>37.565138</td>\n",
       "      <td>127.007896</td>\n",
       "      <td>['02호선', '04호선', '05호선']</td>\n",
       "      <td>POINT (127.007896 37.565138)</td>\n",
       "    </tr>\n",
       "  </tbody>\n",
       "</table>\n",
       "</div>"
      ],
      "text/plain": [
       "   Unnamed: 0        역이름          y           x                        호선  \\\n",
       "0           0       가락시장  37.492522  127.118234          ['03호선', '08호선']   \n",
       "1           1       종로3가  37.571607  126.991806  ['01호선', '03호선', '05호선']   \n",
       "2           2         오금  37.502162  127.128111          ['03호선', '05호선']   \n",
       "3           3        동대문  37.571420  127.009745          ['01호선', '04호선']   \n",
       "4           4  동대문역사문화공원  37.565138  127.007896  ['02호선', '04호선', '05호선']   \n",
       "\n",
       "                       geometry  \n",
       "0  POINT (127.118234 37.492522)  \n",
       "1  POINT (126.991806 37.571607)  \n",
       "2  POINT (127.128111 37.502162)  \n",
       "3   POINT (127.009745 37.57142)  \n",
       "4  POINT (127.007896 37.565138)  "
      ]
     },
     "execution_count": 82,
     "metadata": {},
     "output_type": "execute_result"
    }
   ],
   "source": [
    "try:\n",
    "    subway = pd.read_csv('subway_dist_code.csv')\n",
    "except: \n",
    "    subway = pd.read_csv('subway_dist_code.csv')\n",
    "\n",
    "subway.head()"
   ]
  },
  {
   "cell_type": "code",
   "execution_count": null,
   "id": "d1b83d4a",
   "metadata": {
    "id": "d1b83d4a"
   },
   "outputs": [],
   "source": [
    "df_train2 = pd.read_csv(\"train.csv\")\n",
    "busan = df_train2[df_train2['city'] == '부산광역시'].index\n",
    "df_train2=df_train2.drop(busan)\n",
    "df_train2 = df_train2[['apartment_id','addr_kr']]"
   ]
  },
  {
   "cell_type": "code",
   "execution_count": null,
   "id": "51a5d522",
   "metadata": {
    "colab": {
     "base_uri": "https://localhost:8080/"
    },
    "executionInfo": {
     "elapsed": 16442,
     "status": "ok",
     "timestamp": 1645122708637,
     "user": {
      "displayName": "최윤성",
      "photoUrl": "https://lh3.googleusercontent.com/a-/AOh14GhPE9xSgYvruTxaBI1PrRZRNWn21DzdbLmy5HR0Xg=s64",
      "userId": "17937737491555296546"
     },
     "user_tz": -540
    },
    "id": "51a5d522",
    "outputId": "5a802b24-d5ae-48c0-edd7-606aeee7c50a"
   },
   "outputs": [
    {
     "name": "stdout",
     "output_type": "stream",
     "text": [
      "0\n"
     ]
    }
   ],
   "source": [
    "#아파트 번호가 같을 때 주소가 다른 데이터가 있는지 unique값 확인\n",
    "a=0\n",
    "for i in df_train2['apartment_id'].unique():\n",
    "  if len(np.unique(df_train2[df_train2['apartment_id']==i]['addr_kr'])) > 1:\n",
    "    a += 1\n",
    "    print(i)\n",
    "print(a)"
   ]
  },
  {
   "cell_type": "code",
   "execution_count": null,
   "id": "302bb52d",
   "metadata": {
    "id": "302bb52d"
   },
   "outputs": [],
   "source": [
    "# apartment_addr = df_train2.groupby('apartment_id').first().sort_values('apartment_id',ascending=True).reset_index()\n",
    "# apartment_addr.head()"
   ]
  },
  {
   "cell_type": "code",
   "execution_count": null,
   "id": "01dfd5f8",
   "metadata": {
    "colab": {
     "base_uri": "https://localhost:8080/",
     "height": 206
    },
    "executionInfo": {
     "elapsed": 754,
     "status": "ok",
     "timestamp": 1645122716190,
     "user": {
      "displayName": "최윤성",
      "photoUrl": "https://lh3.googleusercontent.com/a-/AOh14GhPE9xSgYvruTxaBI1PrRZRNWn21DzdbLmy5HR0Xg=s64",
      "userId": "17937737491555296546"
     },
     "user_tz": -540
    },
    "id": "01dfd5f8",
    "outputId": "5451192d-3d85-4baa-ae3a-584d39c9eb7e"
   },
   "outputs": [
    {
     "data": {
      "text/html": [
       "<div>\n",
       "<style scoped>\n",
       "    .dataframe tbody tr th:only-of-type {\n",
       "        vertical-align: middle;\n",
       "    }\n",
       "\n",
       "    .dataframe tbody tr th {\n",
       "        vertical-align: top;\n",
       "    }\n",
       "\n",
       "    .dataframe thead th {\n",
       "        text-align: right;\n",
       "    }\n",
       "</style>\n",
       "<table border=\"1\" class=\"dataframe\">\n",
       "  <thead>\n",
       "    <tr style=\"text-align: right;\">\n",
       "      <th></th>\n",
       "      <th>apartment_id</th>\n",
       "      <th>addr_kr</th>\n",
       "      <th>lat</th>\n",
       "      <th>lng</th>\n",
       "    </tr>\n",
       "  </thead>\n",
       "  <tbody>\n",
       "    <tr>\n",
       "      <th>0</th>\n",
       "      <td>0</td>\n",
       "      <td>행당동 1-10</td>\n",
       "      <td>37.561427</td>\n",
       "      <td>127.039210</td>\n",
       "    </tr>\n",
       "    <tr>\n",
       "      <th>1</th>\n",
       "      <td>1</td>\n",
       "      <td>명륜3가 1-102</td>\n",
       "      <td>37.589464</td>\n",
       "      <td>126.995256</td>\n",
       "    </tr>\n",
       "    <tr>\n",
       "      <th>2</th>\n",
       "      <td>2</td>\n",
       "      <td>한남동 1-35</td>\n",
       "      <td>37.535891</td>\n",
       "      <td>127.011677</td>\n",
       "    </tr>\n",
       "    <tr>\n",
       "      <th>3</th>\n",
       "      <td>3</td>\n",
       "      <td>진관동 101</td>\n",
       "      <td>37.632139</td>\n",
       "      <td>126.920108</td>\n",
       "    </tr>\n",
       "    <tr>\n",
       "      <th>4</th>\n",
       "      <td>4</td>\n",
       "      <td>진관동 102</td>\n",
       "      <td>37.633038</td>\n",
       "      <td>126.922288</td>\n",
       "    </tr>\n",
       "  </tbody>\n",
       "</table>\n",
       "</div>"
      ],
      "text/plain": [
       "   apartment_id     addr_kr        lat         lng\n",
       "0             0    행당동 1-10  37.561427  127.039210\n",
       "1             1  명륜3가 1-102  37.589464  126.995256\n",
       "2             2    한남동 1-35  37.535891  127.011677\n",
       "3             3     진관동 101  37.632139  126.920108\n",
       "4             4     진관동 102  37.633038  126.922288"
      ]
     },
     "execution_count": 87,
     "metadata": {},
     "output_type": "execute_result"
    }
   ],
   "source": [
    "try:\n",
    "    apartment_addr = pd.read_csv(\"/content/drive/MyDrive/apartment_addr.csv\")\n",
    "except:\n",
    "    apartment_addr = pd.read_csv(\"apartment_addr.csv\")\n",
    "apartment_addr.head()"
   ]
  },
  {
   "cell_type": "markdown",
   "id": "f774e56a",
   "metadata": {
    "id": "f774e56a"
   },
   "source": [
    "아래의 코드는 api 이용 횟수에 제한이 있으므로 사용 시 주의"
   ]
  },
  {
   "cell_type": "code",
   "execution_count": null,
   "id": "AndcJVSXQiPW",
   "metadata": {
    "id": "AndcJVSXQiPW",
    "scrolled": true
   },
   "outputs": [],
   "source": [
    "# import requests\n",
    "# import json\n",
    "\n",
    "\n",
    "# apartment_addr['lat'] = 0\n",
    "# apartment_addr['lng'] = 0\n",
    "# a = 0\n",
    "\n",
    "# # 데이터 가져오기\n",
    "# for i in range(len(apartment_addr)):\n",
    "#     a += 1\n",
    "#     if a % 100 == 0:\n",
    "#         print(a)\n",
    "\n",
    "#     try:\n",
    "#         # geocoder 호출\n",
    "#         r = requests.get(\"http://api.vworld.kr/req/address?service=address&request=getcoord&version=2.0&crs=epsg:4326&address=\" + apartment_addr['addr_kr'][i] + \"&refine=true&simple=false&format=json&type=parcel&key=5487A850-A214-3BA4-9D49-35A3CD2BC66D\")\n",
    "\n",
    "#         # 데이터 추가\n",
    "#         apartment_addr['lat'][i] = r.json()[\"response\"]['result']['point']['y']\n",
    "#         apartment_addr['lng'][i] = r.json()[\"response\"]['result']['point']['x']\n",
    "#     except:\n",
    "#         pass\n",
    "\n",
    "# apartment_addr.to_csv(\"apartment_addr.csv\", mode='w')\n",
    "# apartment_addr.head()"
   ]
  },
  {
   "cell_type": "code",
   "execution_count": null,
   "id": "5e1aa742",
   "metadata": {
    "colab": {
     "base_uri": "https://localhost:8080/"
    },
    "executionInfo": {
     "elapsed": 3,
     "status": "ok",
     "timestamp": 1645122716190,
     "user": {
      "displayName": "최윤성",
      "photoUrl": "https://lh3.googleusercontent.com/a-/AOh14GhPE9xSgYvruTxaBI1PrRZRNWn21DzdbLmy5HR0Xg=s64",
      "userId": "17937737491555296546"
     },
     "user_tz": -540
    },
    "id": "5e1aa742",
    "outputId": "497771c0-0253-4c4d-f3cf-34c0b310fba6"
   },
   "outputs": [
    {
     "data": {
      "text/plain": [
       "apartment_id    81\n",
       "addr_kr         81\n",
       "lat             81\n",
       "lng             81\n",
       "dtype: int64"
      ]
     },
     "execution_count": 89,
     "metadata": {},
     "output_type": "execute_result"
    }
   ],
   "source": [
    "apartment_addr[apartment_addr['lat'] == 0].count()"
   ]
  },
  {
   "cell_type": "code",
   "execution_count": null,
   "id": "b1e22a47",
   "metadata": {
    "colab": {
     "base_uri": "https://localhost:8080/",
     "height": 270
    },
    "executionInfo": {
     "elapsed": 70787,
     "status": "ok",
     "timestamp": 1645122786976,
     "user": {
      "displayName": "최윤성",
      "photoUrl": "https://lh3.googleusercontent.com/a-/AOh14GhPE9xSgYvruTxaBI1PrRZRNWn21DzdbLmy5HR0Xg=s64",
      "userId": "17937737491555296546"
     },
     "user_tz": -540
    },
    "id": "b1e22a47",
    "outputId": "28eef5c2-c2d7-412d-d91d-9fe585dabdef"
   },
   "outputs": [
    {
     "data": {
      "text/html": [
       "<div>\n",
       "<style scoped>\n",
       "    .dataframe tbody tr th:only-of-type {\n",
       "        vertical-align: middle;\n",
       "    }\n",
       "\n",
       "    .dataframe tbody tr th {\n",
       "        vertical-align: top;\n",
       "    }\n",
       "\n",
       "    .dataframe thead th {\n",
       "        text-align: right;\n",
       "    }\n",
       "</style>\n",
       "<table border=\"1\" class=\"dataframe\">\n",
       "  <thead>\n",
       "    <tr style=\"text-align: right;\">\n",
       "      <th></th>\n",
       "      <th>line1_0.2km</th>\n",
       "      <th>line1_0.5km</th>\n",
       "      <th>line1_1km</th>\n",
       "      <th>line2_0.2km</th>\n",
       "      <th>line2_0.5km</th>\n",
       "      <th>line2_1km</th>\n",
       "      <th>line3_0.2km</th>\n",
       "      <th>line3_0.5km</th>\n",
       "      <th>line3_1km</th>\n",
       "      <th>line4_0.2km</th>\n",
       "      <th>...</th>\n",
       "      <th>line6_1km</th>\n",
       "      <th>line7_0.2km</th>\n",
       "      <th>line7_0.5km</th>\n",
       "      <th>line7_1km</th>\n",
       "      <th>line8_0.2km</th>\n",
       "      <th>line8_0.5km</th>\n",
       "      <th>line8_1km</th>\n",
       "      <th>line9_0.2km</th>\n",
       "      <th>line9_0.5km</th>\n",
       "      <th>line9_1km</th>\n",
       "    </tr>\n",
       "  </thead>\n",
       "  <tbody>\n",
       "    <tr>\n",
       "      <th>1</th>\n",
       "      <td>0</td>\n",
       "      <td>0</td>\n",
       "      <td>0</td>\n",
       "      <td>1</td>\n",
       "      <td>0</td>\n",
       "      <td>1</td>\n",
       "      <td>0</td>\n",
       "      <td>0</td>\n",
       "      <td>0</td>\n",
       "      <td>0</td>\n",
       "      <td>...</td>\n",
       "      <td>0</td>\n",
       "      <td>0</td>\n",
       "      <td>0</td>\n",
       "      <td>0</td>\n",
       "      <td>0</td>\n",
       "      <td>0</td>\n",
       "      <td>0</td>\n",
       "      <td>0</td>\n",
       "      <td>0</td>\n",
       "      <td>0</td>\n",
       "    </tr>\n",
       "    <tr>\n",
       "      <th>2</th>\n",
       "      <td>0</td>\n",
       "      <td>0</td>\n",
       "      <td>0</td>\n",
       "      <td>0</td>\n",
       "      <td>0</td>\n",
       "      <td>0</td>\n",
       "      <td>0</td>\n",
       "      <td>0</td>\n",
       "      <td>0</td>\n",
       "      <td>0</td>\n",
       "      <td>...</td>\n",
       "      <td>0</td>\n",
       "      <td>0</td>\n",
       "      <td>0</td>\n",
       "      <td>0</td>\n",
       "      <td>0</td>\n",
       "      <td>0</td>\n",
       "      <td>0</td>\n",
       "      <td>0</td>\n",
       "      <td>0</td>\n",
       "      <td>0</td>\n",
       "    </tr>\n",
       "    <tr>\n",
       "      <th>3</th>\n",
       "      <td>0</td>\n",
       "      <td>0</td>\n",
       "      <td>0</td>\n",
       "      <td>0</td>\n",
       "      <td>0</td>\n",
       "      <td>0</td>\n",
       "      <td>0</td>\n",
       "      <td>0</td>\n",
       "      <td>1</td>\n",
       "      <td>0</td>\n",
       "      <td>...</td>\n",
       "      <td>0</td>\n",
       "      <td>0</td>\n",
       "      <td>0</td>\n",
       "      <td>0</td>\n",
       "      <td>0</td>\n",
       "      <td>0</td>\n",
       "      <td>0</td>\n",
       "      <td>0</td>\n",
       "      <td>0</td>\n",
       "      <td>0</td>\n",
       "    </tr>\n",
       "    <tr>\n",
       "      <th>4</th>\n",
       "      <td>0</td>\n",
       "      <td>0</td>\n",
       "      <td>0</td>\n",
       "      <td>0</td>\n",
       "      <td>0</td>\n",
       "      <td>0</td>\n",
       "      <td>0</td>\n",
       "      <td>0</td>\n",
       "      <td>1</td>\n",
       "      <td>0</td>\n",
       "      <td>...</td>\n",
       "      <td>0</td>\n",
       "      <td>0</td>\n",
       "      <td>0</td>\n",
       "      <td>0</td>\n",
       "      <td>0</td>\n",
       "      <td>0</td>\n",
       "      <td>0</td>\n",
       "      <td>0</td>\n",
       "      <td>0</td>\n",
       "      <td>0</td>\n",
       "    </tr>\n",
       "    <tr>\n",
       "      <th>5</th>\n",
       "      <td>0</td>\n",
       "      <td>0</td>\n",
       "      <td>0</td>\n",
       "      <td>0</td>\n",
       "      <td>0</td>\n",
       "      <td>0</td>\n",
       "      <td>0</td>\n",
       "      <td>0</td>\n",
       "      <td>1</td>\n",
       "      <td>0</td>\n",
       "      <td>...</td>\n",
       "      <td>0</td>\n",
       "      <td>0</td>\n",
       "      <td>0</td>\n",
       "      <td>0</td>\n",
       "      <td>0</td>\n",
       "      <td>0</td>\n",
       "      <td>0</td>\n",
       "      <td>0</td>\n",
       "      <td>0</td>\n",
       "      <td>0</td>\n",
       "    </tr>\n",
       "  </tbody>\n",
       "</table>\n",
       "<p>5 rows × 27 columns</p>\n",
       "</div>"
      ],
      "text/plain": [
       "   line1_0.2km  line1_0.5km  line1_1km  line2_0.2km  line2_0.5km  line2_1km  \\\n",
       "1            0            0          0            1            0          1   \n",
       "2            0            0          0            0            0          0   \n",
       "3            0            0          0            0            0          0   \n",
       "4            0            0          0            0            0          0   \n",
       "5            0            0          0            0            0          0   \n",
       "\n",
       "   line3_0.2km  line3_0.5km  line3_1km  line4_0.2km  ...  line6_1km  \\\n",
       "1            0            0          0            0  ...          0   \n",
       "2            0            0          0            0  ...          0   \n",
       "3            0            0          1            0  ...          0   \n",
       "4            0            0          1            0  ...          0   \n",
       "5            0            0          1            0  ...          0   \n",
       "\n",
       "   line7_0.2km  line7_0.5km  line7_1km  line8_0.2km  line8_0.5km  line8_1km  \\\n",
       "1            0            0          0            0            0          0   \n",
       "2            0            0          0            0            0          0   \n",
       "3            0            0          0            0            0          0   \n",
       "4            0            0          0            0            0          0   \n",
       "5            0            0          0            0            0          0   \n",
       "\n",
       "   line9_0.2km  line9_0.5km  line9_1km  \n",
       "1            0            0          0  \n",
       "2            0            0          0  \n",
       "3            0            0          0  \n",
       "4            0            0          0  \n",
       "5            0            0          0  \n",
       "\n",
       "[5 rows x 27 columns]"
      ]
     },
     "execution_count": 90,
     "metadata": {},
     "output_type": "execute_result"
    }
   ],
   "source": [
    "# 거리구해서 반경 1km이내에 있는 지하철역 개수 세기\n",
    "# 환승역일 경우 노선 개수만큼 중복으로 더함\n",
    "max_distance = 1 #km\n",
    "\n",
    "temp = dict()\n",
    "\n",
    "#변수 추가\n",
    "for i in range(1,10):\n",
    "    for j in [0.2,0.5,1]:\n",
    "        temp[\"line\" + str(i) + \"_\" + str(j) + \"km\"] = [0]\n",
    "\n",
    "#임의의 row 하나 만들어둠\n",
    "df_line = pd.DataFrame().from_dict(temp)\n",
    "del temp\n",
    "\n",
    "for i in range(apartment_addr.shape[0]):\n",
    "    \n",
    "    #변수가 9개 호선 3개의 거리 범위로 27개임\n",
    "    line = [0]*27\n",
    "    \n",
    "    for j in range(subway.shape[0]):\n",
    "        \n",
    "        #거리 구하기\n",
    "        aptY = float(apartment_addr['lat'][i])\n",
    "        aptX = float(apartment_addr['lng'][i])\n",
    "        \n",
    "        subY = float(subway['y'][j])\n",
    "        subX = float(subway['x'][j])\n",
    "        \n",
    "        deltaY = (aptY - subY) * 6400 * 2 * np.pi / 360\n",
    "        deltaX = (aptX - subX) * 6400 * 2 * np.pi * np.cos(aptY) / 360\n",
    "        \n",
    "        if abs(deltaY) > max_distance or abs(deltaX) > max_distance:\n",
    "            continue\n",
    "        \n",
    "        distance = np.sqrt(deltaX ** 2 + deltaY ** 2)\n",
    "        \n",
    "        #거리에 대한 인덱스 계산 표시\n",
    "        if distance <= 0.2:\n",
    "            index = 0\n",
    "            \n",
    "        elif distance <= 0.5:\n",
    "            index = 1\n",
    "            \n",
    "        elif distance <= 1:\n",
    "            index = 2\n",
    "        \n",
    "        #호선에 대한 정보 표시\n",
    "        lines = subway['호선'][j]\n",
    "        lines = lines.replace(\"[\",\"\")\n",
    "        lines = lines.replace(\"]\",\"\")\n",
    "        lines = lines.replace(\" \",\"\")\n",
    "        lines = lines.split(\",\")\n",
    "        for k in lines:\n",
    "            a = int(k[2]) - 1\n",
    "            line[a*3 + index] = 1\n",
    "\n",
    "    df_line = df_line.append(df_line.iloc[-1], ignore_index=True)\n",
    "    df_line.iloc[-1] = line\n",
    "\n",
    "#임의로 만들어둔 행은 제거\n",
    "df_line.drop(0,inplace=True)        \n",
    "df_line.head()"
   ]
  },
  {
   "cell_type": "code",
   "execution_count": null,
   "id": "d2aec2d1",
   "metadata": {
    "colab": {
     "base_uri": "https://localhost:8080/",
     "height": 487
    },
    "executionInfo": {
     "elapsed": 11,
     "status": "ok",
     "timestamp": 1645122786977,
     "user": {
      "displayName": "최윤성",
      "photoUrl": "https://lh3.googleusercontent.com/a-/AOh14GhPE9xSgYvruTxaBI1PrRZRNWn21DzdbLmy5HR0Xg=s64",
      "userId": "17937737491555296546"
     },
     "user_tz": -540
    },
    "id": "d2aec2d1",
    "outputId": "b4a70f90-adce-41f2-cf35-d2a28dcf20b6"
   },
   "outputs": [
    {
     "data": {
      "text/html": [
       "<div>\n",
       "<style scoped>\n",
       "    .dataframe tbody tr th:only-of-type {\n",
       "        vertical-align: middle;\n",
       "    }\n",
       "\n",
       "    .dataframe tbody tr th {\n",
       "        vertical-align: top;\n",
       "    }\n",
       "\n",
       "    .dataframe thead th {\n",
       "        text-align: right;\n",
       "    }\n",
       "</style>\n",
       "<table border=\"1\" class=\"dataframe\">\n",
       "  <thead>\n",
       "    <tr style=\"text-align: right;\">\n",
       "      <th></th>\n",
       "      <th>line1_0.2km</th>\n",
       "      <th>line1_0.5km</th>\n",
       "      <th>line1_1km</th>\n",
       "      <th>line2_0.2km</th>\n",
       "      <th>line2_0.5km</th>\n",
       "      <th>line2_1km</th>\n",
       "      <th>line3_0.2km</th>\n",
       "      <th>line3_0.5km</th>\n",
       "      <th>line3_1km</th>\n",
       "      <th>line4_0.2km</th>\n",
       "      <th>...</th>\n",
       "      <th>line6_1km</th>\n",
       "      <th>line7_0.2km</th>\n",
       "      <th>line7_0.5km</th>\n",
       "      <th>line7_1km</th>\n",
       "      <th>line8_0.2km</th>\n",
       "      <th>line8_0.5km</th>\n",
       "      <th>line8_1km</th>\n",
       "      <th>line9_0.2km</th>\n",
       "      <th>line9_0.5km</th>\n",
       "      <th>line9_1km</th>\n",
       "    </tr>\n",
       "  </thead>\n",
       "  <tbody>\n",
       "    <tr>\n",
       "      <th>0</th>\n",
       "      <td>0</td>\n",
       "      <td>0</td>\n",
       "      <td>0</td>\n",
       "      <td>1</td>\n",
       "      <td>0</td>\n",
       "      <td>1</td>\n",
       "      <td>0</td>\n",
       "      <td>0</td>\n",
       "      <td>0</td>\n",
       "      <td>0</td>\n",
       "      <td>...</td>\n",
       "      <td>0</td>\n",
       "      <td>0</td>\n",
       "      <td>0</td>\n",
       "      <td>0</td>\n",
       "      <td>0</td>\n",
       "      <td>0</td>\n",
       "      <td>0</td>\n",
       "      <td>0</td>\n",
       "      <td>0</td>\n",
       "      <td>0</td>\n",
       "    </tr>\n",
       "    <tr>\n",
       "      <th>1</th>\n",
       "      <td>0</td>\n",
       "      <td>0</td>\n",
       "      <td>0</td>\n",
       "      <td>0</td>\n",
       "      <td>0</td>\n",
       "      <td>0</td>\n",
       "      <td>0</td>\n",
       "      <td>0</td>\n",
       "      <td>0</td>\n",
       "      <td>0</td>\n",
       "      <td>...</td>\n",
       "      <td>0</td>\n",
       "      <td>0</td>\n",
       "      <td>0</td>\n",
       "      <td>0</td>\n",
       "      <td>0</td>\n",
       "      <td>0</td>\n",
       "      <td>0</td>\n",
       "      <td>0</td>\n",
       "      <td>0</td>\n",
       "      <td>0</td>\n",
       "    </tr>\n",
       "    <tr>\n",
       "      <th>2</th>\n",
       "      <td>0</td>\n",
       "      <td>0</td>\n",
       "      <td>0</td>\n",
       "      <td>0</td>\n",
       "      <td>0</td>\n",
       "      <td>0</td>\n",
       "      <td>0</td>\n",
       "      <td>0</td>\n",
       "      <td>1</td>\n",
       "      <td>0</td>\n",
       "      <td>...</td>\n",
       "      <td>0</td>\n",
       "      <td>0</td>\n",
       "      <td>0</td>\n",
       "      <td>0</td>\n",
       "      <td>0</td>\n",
       "      <td>0</td>\n",
       "      <td>0</td>\n",
       "      <td>0</td>\n",
       "      <td>0</td>\n",
       "      <td>0</td>\n",
       "    </tr>\n",
       "    <tr>\n",
       "      <th>3</th>\n",
       "      <td>0</td>\n",
       "      <td>0</td>\n",
       "      <td>0</td>\n",
       "      <td>0</td>\n",
       "      <td>0</td>\n",
       "      <td>0</td>\n",
       "      <td>0</td>\n",
       "      <td>0</td>\n",
       "      <td>1</td>\n",
       "      <td>0</td>\n",
       "      <td>...</td>\n",
       "      <td>0</td>\n",
       "      <td>0</td>\n",
       "      <td>0</td>\n",
       "      <td>0</td>\n",
       "      <td>0</td>\n",
       "      <td>0</td>\n",
       "      <td>0</td>\n",
       "      <td>0</td>\n",
       "      <td>0</td>\n",
       "      <td>0</td>\n",
       "    </tr>\n",
       "    <tr>\n",
       "      <th>4</th>\n",
       "      <td>0</td>\n",
       "      <td>0</td>\n",
       "      <td>0</td>\n",
       "      <td>0</td>\n",
       "      <td>0</td>\n",
       "      <td>0</td>\n",
       "      <td>0</td>\n",
       "      <td>0</td>\n",
       "      <td>1</td>\n",
       "      <td>0</td>\n",
       "      <td>...</td>\n",
       "      <td>0</td>\n",
       "      <td>0</td>\n",
       "      <td>0</td>\n",
       "      <td>0</td>\n",
       "      <td>0</td>\n",
       "      <td>0</td>\n",
       "      <td>0</td>\n",
       "      <td>0</td>\n",
       "      <td>0</td>\n",
       "      <td>0</td>\n",
       "    </tr>\n",
       "    <tr>\n",
       "      <th>...</th>\n",
       "      <td>...</td>\n",
       "      <td>...</td>\n",
       "      <td>...</td>\n",
       "      <td>...</td>\n",
       "      <td>...</td>\n",
       "      <td>...</td>\n",
       "      <td>...</td>\n",
       "      <td>...</td>\n",
       "      <td>...</td>\n",
       "      <td>...</td>\n",
       "      <td>...</td>\n",
       "      <td>...</td>\n",
       "      <td>...</td>\n",
       "      <td>...</td>\n",
       "      <td>...</td>\n",
       "      <td>...</td>\n",
       "      <td>...</td>\n",
       "      <td>...</td>\n",
       "      <td>...</td>\n",
       "      <td>...</td>\n",
       "      <td>...</td>\n",
       "    </tr>\n",
       "    <tr>\n",
       "      <th>8246</th>\n",
       "      <td>0</td>\n",
       "      <td>0</td>\n",
       "      <td>0</td>\n",
       "      <td>0</td>\n",
       "      <td>0</td>\n",
       "      <td>0</td>\n",
       "      <td>0</td>\n",
       "      <td>0</td>\n",
       "      <td>0</td>\n",
       "      <td>0</td>\n",
       "      <td>...</td>\n",
       "      <td>0</td>\n",
       "      <td>0</td>\n",
       "      <td>0</td>\n",
       "      <td>0</td>\n",
       "      <td>0</td>\n",
       "      <td>0</td>\n",
       "      <td>0</td>\n",
       "      <td>0</td>\n",
       "      <td>0</td>\n",
       "      <td>0</td>\n",
       "    </tr>\n",
       "    <tr>\n",
       "      <th>8247</th>\n",
       "      <td>0</td>\n",
       "      <td>0</td>\n",
       "      <td>0</td>\n",
       "      <td>0</td>\n",
       "      <td>0</td>\n",
       "      <td>1</td>\n",
       "      <td>0</td>\n",
       "      <td>0</td>\n",
       "      <td>0</td>\n",
       "      <td>0</td>\n",
       "      <td>...</td>\n",
       "      <td>0</td>\n",
       "      <td>0</td>\n",
       "      <td>0</td>\n",
       "      <td>1</td>\n",
       "      <td>0</td>\n",
       "      <td>0</td>\n",
       "      <td>0</td>\n",
       "      <td>0</td>\n",
       "      <td>0</td>\n",
       "      <td>0</td>\n",
       "    </tr>\n",
       "    <tr>\n",
       "      <th>8248</th>\n",
       "      <td>0</td>\n",
       "      <td>0</td>\n",
       "      <td>0</td>\n",
       "      <td>0</td>\n",
       "      <td>0</td>\n",
       "      <td>0</td>\n",
       "      <td>0</td>\n",
       "      <td>0</td>\n",
       "      <td>0</td>\n",
       "      <td>0</td>\n",
       "      <td>...</td>\n",
       "      <td>0</td>\n",
       "      <td>0</td>\n",
       "      <td>0</td>\n",
       "      <td>1</td>\n",
       "      <td>0</td>\n",
       "      <td>0</td>\n",
       "      <td>0</td>\n",
       "      <td>0</td>\n",
       "      <td>0</td>\n",
       "      <td>0</td>\n",
       "    </tr>\n",
       "    <tr>\n",
       "      <th>8249</th>\n",
       "      <td>0</td>\n",
       "      <td>0</td>\n",
       "      <td>0</td>\n",
       "      <td>0</td>\n",
       "      <td>0</td>\n",
       "      <td>0</td>\n",
       "      <td>0</td>\n",
       "      <td>0</td>\n",
       "      <td>0</td>\n",
       "      <td>0</td>\n",
       "      <td>...</td>\n",
       "      <td>1</td>\n",
       "      <td>0</td>\n",
       "      <td>0</td>\n",
       "      <td>0</td>\n",
       "      <td>0</td>\n",
       "      <td>0</td>\n",
       "      <td>0</td>\n",
       "      <td>0</td>\n",
       "      <td>0</td>\n",
       "      <td>0</td>\n",
       "    </tr>\n",
       "    <tr>\n",
       "      <th>8250</th>\n",
       "      <td>0</td>\n",
       "      <td>0</td>\n",
       "      <td>0</td>\n",
       "      <td>0</td>\n",
       "      <td>0</td>\n",
       "      <td>0</td>\n",
       "      <td>0</td>\n",
       "      <td>0</td>\n",
       "      <td>0</td>\n",
       "      <td>0</td>\n",
       "      <td>...</td>\n",
       "      <td>0</td>\n",
       "      <td>0</td>\n",
       "      <td>0</td>\n",
       "      <td>0</td>\n",
       "      <td>0</td>\n",
       "      <td>0</td>\n",
       "      <td>0</td>\n",
       "      <td>0</td>\n",
       "      <td>0</td>\n",
       "      <td>0</td>\n",
       "    </tr>\n",
       "  </tbody>\n",
       "</table>\n",
       "<p>8251 rows × 27 columns</p>\n",
       "</div>"
      ],
      "text/plain": [
       "      line1_0.2km  line1_0.5km  line1_1km  line2_0.2km  line2_0.5km  \\\n",
       "0               0            0          0            1            0   \n",
       "1               0            0          0            0            0   \n",
       "2               0            0          0            0            0   \n",
       "3               0            0          0            0            0   \n",
       "4               0            0          0            0            0   \n",
       "...           ...          ...        ...          ...          ...   \n",
       "8246            0            0          0            0            0   \n",
       "8247            0            0          0            0            0   \n",
       "8248            0            0          0            0            0   \n",
       "8249            0            0          0            0            0   \n",
       "8250            0            0          0            0            0   \n",
       "\n",
       "      line2_1km  line3_0.2km  line3_0.5km  line3_1km  line4_0.2km  ...  \\\n",
       "0             1            0            0          0            0  ...   \n",
       "1             0            0            0          0            0  ...   \n",
       "2             0            0            0          1            0  ...   \n",
       "3             0            0            0          1            0  ...   \n",
       "4             0            0            0          1            0  ...   \n",
       "...         ...          ...          ...        ...          ...  ...   \n",
       "8246          0            0            0          0            0  ...   \n",
       "8247          1            0            0          0            0  ...   \n",
       "8248          0            0            0          0            0  ...   \n",
       "8249          0            0            0          0            0  ...   \n",
       "8250          0            0            0          0            0  ...   \n",
       "\n",
       "      line6_1km  line7_0.2km  line7_0.5km  line7_1km  line8_0.2km  \\\n",
       "0             0            0            0          0            0   \n",
       "1             0            0            0          0            0   \n",
       "2             0            0            0          0            0   \n",
       "3             0            0            0          0            0   \n",
       "4             0            0            0          0            0   \n",
       "...         ...          ...          ...        ...          ...   \n",
       "8246          0            0            0          0            0   \n",
       "8247          0            0            0          1            0   \n",
       "8248          0            0            0          1            0   \n",
       "8249          1            0            0          0            0   \n",
       "8250          0            0            0          0            0   \n",
       "\n",
       "      line8_0.5km  line8_1km  line9_0.2km  line9_0.5km  line9_1km  \n",
       "0               0          0            0            0          0  \n",
       "1               0          0            0            0          0  \n",
       "2               0          0            0            0          0  \n",
       "3               0          0            0            0          0  \n",
       "4               0          0            0            0          0  \n",
       "...           ...        ...          ...          ...        ...  \n",
       "8246            0          0            0            0          0  \n",
       "8247            0          0            0            0          0  \n",
       "8248            0          0            0            0          0  \n",
       "8249            0          0            0            0          0  \n",
       "8250            0          0            0            0          0  \n",
       "\n",
       "[8251 rows x 27 columns]"
      ]
     },
     "execution_count": 91,
     "metadata": {},
     "output_type": "execute_result"
    }
   ],
   "source": [
    "df_line = df_line.reset_index()\n",
    "df_line.drop('index',axis=1,inplace=True)\n",
    "df_line.astype(int)"
   ]
  },
  {
   "cell_type": "code",
   "execution_count": null,
   "id": "3fd72b29",
   "metadata": {
    "id": "3fd72b29"
   },
   "outputs": [],
   "source": [
    "apartment_addr = pd.concat([apartment_addr,df_line],axis=1)"
   ]
  },
  {
   "cell_type": "code",
   "execution_count": null,
   "id": "441914d5",
   "metadata": {
    "colab": {
     "base_uri": "https://localhost:8080/",
     "height": 643
    },
    "executionInfo": {
     "elapsed": 10,
     "status": "ok",
     "timestamp": 1645122786977,
     "user": {
      "displayName": "최윤성",
      "photoUrl": "https://lh3.googleusercontent.com/a-/AOh14GhPE9xSgYvruTxaBI1PrRZRNWn21DzdbLmy5HR0Xg=s64",
      "userId": "17937737491555296546"
     },
     "user_tz": -540
    },
    "id": "441914d5",
    "outputId": "d757f212-5b15-424b-b3a3-dd9eb6b2a4af"
   },
   "outputs": [
    {
     "data": {
      "text/html": [
       "<div>\n",
       "<style scoped>\n",
       "    .dataframe tbody tr th:only-of-type {\n",
       "        vertical-align: middle;\n",
       "    }\n",
       "\n",
       "    .dataframe tbody tr th {\n",
       "        vertical-align: top;\n",
       "    }\n",
       "\n",
       "    .dataframe thead th {\n",
       "        text-align: right;\n",
       "    }\n",
       "</style>\n",
       "<table border=\"1\" class=\"dataframe\">\n",
       "  <thead>\n",
       "    <tr style=\"text-align: right;\">\n",
       "      <th></th>\n",
       "      <th>apartment_id</th>\n",
       "      <th>addr_kr</th>\n",
       "      <th>lat</th>\n",
       "      <th>lng</th>\n",
       "      <th>line1_0.2km</th>\n",
       "      <th>line1_0.5km</th>\n",
       "      <th>line1_1km</th>\n",
       "      <th>line2_0.2km</th>\n",
       "      <th>line2_0.5km</th>\n",
       "      <th>line2_1km</th>\n",
       "      <th>...</th>\n",
       "      <th>line6_1km</th>\n",
       "      <th>line7_0.2km</th>\n",
       "      <th>line7_0.5km</th>\n",
       "      <th>line7_1km</th>\n",
       "      <th>line8_0.2km</th>\n",
       "      <th>line8_0.5km</th>\n",
       "      <th>line8_1km</th>\n",
       "      <th>line9_0.2km</th>\n",
       "      <th>line9_0.5km</th>\n",
       "      <th>line9_1km</th>\n",
       "    </tr>\n",
       "  </thead>\n",
       "  <tbody>\n",
       "    <tr>\n",
       "      <th>0</th>\n",
       "      <td>0</td>\n",
       "      <td>행당동 1-10</td>\n",
       "      <td>37.561427</td>\n",
       "      <td>127.039210</td>\n",
       "      <td>0</td>\n",
       "      <td>0</td>\n",
       "      <td>0</td>\n",
       "      <td>1</td>\n",
       "      <td>0</td>\n",
       "      <td>1</td>\n",
       "      <td>...</td>\n",
       "      <td>0</td>\n",
       "      <td>0</td>\n",
       "      <td>0</td>\n",
       "      <td>0</td>\n",
       "      <td>0</td>\n",
       "      <td>0</td>\n",
       "      <td>0</td>\n",
       "      <td>0</td>\n",
       "      <td>0</td>\n",
       "      <td>0</td>\n",
       "    </tr>\n",
       "    <tr>\n",
       "      <th>1</th>\n",
       "      <td>1</td>\n",
       "      <td>명륜3가 1-102</td>\n",
       "      <td>37.589464</td>\n",
       "      <td>126.995256</td>\n",
       "      <td>0</td>\n",
       "      <td>0</td>\n",
       "      <td>0</td>\n",
       "      <td>0</td>\n",
       "      <td>0</td>\n",
       "      <td>0</td>\n",
       "      <td>...</td>\n",
       "      <td>0</td>\n",
       "      <td>0</td>\n",
       "      <td>0</td>\n",
       "      <td>0</td>\n",
       "      <td>0</td>\n",
       "      <td>0</td>\n",
       "      <td>0</td>\n",
       "      <td>0</td>\n",
       "      <td>0</td>\n",
       "      <td>0</td>\n",
       "    </tr>\n",
       "    <tr>\n",
       "      <th>2</th>\n",
       "      <td>2</td>\n",
       "      <td>한남동 1-35</td>\n",
       "      <td>37.535891</td>\n",
       "      <td>127.011677</td>\n",
       "      <td>0</td>\n",
       "      <td>0</td>\n",
       "      <td>0</td>\n",
       "      <td>0</td>\n",
       "      <td>0</td>\n",
       "      <td>0</td>\n",
       "      <td>...</td>\n",
       "      <td>0</td>\n",
       "      <td>0</td>\n",
       "      <td>0</td>\n",
       "      <td>0</td>\n",
       "      <td>0</td>\n",
       "      <td>0</td>\n",
       "      <td>0</td>\n",
       "      <td>0</td>\n",
       "      <td>0</td>\n",
       "      <td>0</td>\n",
       "    </tr>\n",
       "    <tr>\n",
       "      <th>3</th>\n",
       "      <td>3</td>\n",
       "      <td>진관동 101</td>\n",
       "      <td>37.632139</td>\n",
       "      <td>126.920108</td>\n",
       "      <td>0</td>\n",
       "      <td>0</td>\n",
       "      <td>0</td>\n",
       "      <td>0</td>\n",
       "      <td>0</td>\n",
       "      <td>0</td>\n",
       "      <td>...</td>\n",
       "      <td>0</td>\n",
       "      <td>0</td>\n",
       "      <td>0</td>\n",
       "      <td>0</td>\n",
       "      <td>0</td>\n",
       "      <td>0</td>\n",
       "      <td>0</td>\n",
       "      <td>0</td>\n",
       "      <td>0</td>\n",
       "      <td>0</td>\n",
       "    </tr>\n",
       "    <tr>\n",
       "      <th>4</th>\n",
       "      <td>4</td>\n",
       "      <td>진관동 102</td>\n",
       "      <td>37.633038</td>\n",
       "      <td>126.922288</td>\n",
       "      <td>0</td>\n",
       "      <td>0</td>\n",
       "      <td>0</td>\n",
       "      <td>0</td>\n",
       "      <td>0</td>\n",
       "      <td>0</td>\n",
       "      <td>...</td>\n",
       "      <td>0</td>\n",
       "      <td>0</td>\n",
       "      <td>0</td>\n",
       "      <td>0</td>\n",
       "      <td>0</td>\n",
       "      <td>0</td>\n",
       "      <td>0</td>\n",
       "      <td>0</td>\n",
       "      <td>0</td>\n",
       "      <td>0</td>\n",
       "    </tr>\n",
       "    <tr>\n",
       "      <th>...</th>\n",
       "      <td>...</td>\n",
       "      <td>...</td>\n",
       "      <td>...</td>\n",
       "      <td>...</td>\n",
       "      <td>...</td>\n",
       "      <td>...</td>\n",
       "      <td>...</td>\n",
       "      <td>...</td>\n",
       "      <td>...</td>\n",
       "      <td>...</td>\n",
       "      <td>...</td>\n",
       "      <td>...</td>\n",
       "      <td>...</td>\n",
       "      <td>...</td>\n",
       "      <td>...</td>\n",
       "      <td>...</td>\n",
       "      <td>...</td>\n",
       "      <td>...</td>\n",
       "      <td>...</td>\n",
       "      <td>...</td>\n",
       "      <td>...</td>\n",
       "    </tr>\n",
       "    <tr>\n",
       "      <th>8246</th>\n",
       "      <td>12654</td>\n",
       "      <td>후암동 244-88</td>\n",
       "      <td>37.549406</td>\n",
       "      <td>126.978228</td>\n",
       "      <td>0</td>\n",
       "      <td>0</td>\n",
       "      <td>0</td>\n",
       "      <td>0</td>\n",
       "      <td>0</td>\n",
       "      <td>0</td>\n",
       "      <td>...</td>\n",
       "      <td>0</td>\n",
       "      <td>0</td>\n",
       "      <td>0</td>\n",
       "      <td>0</td>\n",
       "      <td>0</td>\n",
       "      <td>0</td>\n",
       "      <td>0</td>\n",
       "      <td>0</td>\n",
       "      <td>0</td>\n",
       "      <td>0</td>\n",
       "    </tr>\n",
       "    <tr>\n",
       "      <th>8247</th>\n",
       "      <td>12655</td>\n",
       "      <td>반포동 577-79</td>\n",
       "      <td>37.493554</td>\n",
       "      <td>127.001104</td>\n",
       "      <td>0</td>\n",
       "      <td>0</td>\n",
       "      <td>0</td>\n",
       "      <td>0</td>\n",
       "      <td>0</td>\n",
       "      <td>1</td>\n",
       "      <td>...</td>\n",
       "      <td>0</td>\n",
       "      <td>0</td>\n",
       "      <td>0</td>\n",
       "      <td>1</td>\n",
       "      <td>0</td>\n",
       "      <td>0</td>\n",
       "      <td>0</td>\n",
       "      <td>0</td>\n",
       "      <td>0</td>\n",
       "      <td>0</td>\n",
       "    </tr>\n",
       "    <tr>\n",
       "      <th>8248</th>\n",
       "      <td>12656</td>\n",
       "      <td>방배동 802-3</td>\n",
       "      <td>37.493293</td>\n",
       "      <td>126.995482</td>\n",
       "      <td>0</td>\n",
       "      <td>0</td>\n",
       "      <td>0</td>\n",
       "      <td>0</td>\n",
       "      <td>0</td>\n",
       "      <td>0</td>\n",
       "      <td>...</td>\n",
       "      <td>0</td>\n",
       "      <td>0</td>\n",
       "      <td>0</td>\n",
       "      <td>1</td>\n",
       "      <td>0</td>\n",
       "      <td>0</td>\n",
       "      <td>0</td>\n",
       "      <td>0</td>\n",
       "      <td>0</td>\n",
       "      <td>0</td>\n",
       "    </tr>\n",
       "    <tr>\n",
       "      <th>8249</th>\n",
       "      <td>12657</td>\n",
       "      <td>동빙고동 1-30</td>\n",
       "      <td>37.526971</td>\n",
       "      <td>126.996401</td>\n",
       "      <td>0</td>\n",
       "      <td>0</td>\n",
       "      <td>0</td>\n",
       "      <td>0</td>\n",
       "      <td>0</td>\n",
       "      <td>0</td>\n",
       "      <td>...</td>\n",
       "      <td>1</td>\n",
       "      <td>0</td>\n",
       "      <td>0</td>\n",
       "      <td>0</td>\n",
       "      <td>0</td>\n",
       "      <td>0</td>\n",
       "      <td>0</td>\n",
       "      <td>0</td>\n",
       "      <td>0</td>\n",
       "      <td>0</td>\n",
       "    </tr>\n",
       "    <tr>\n",
       "      <th>8250</th>\n",
       "      <td>12658</td>\n",
       "      <td>양재동 378-1</td>\n",
       "      <td>37.471467</td>\n",
       "      <td>127.045747</td>\n",
       "      <td>0</td>\n",
       "      <td>0</td>\n",
       "      <td>0</td>\n",
       "      <td>0</td>\n",
       "      <td>0</td>\n",
       "      <td>0</td>\n",
       "      <td>...</td>\n",
       "      <td>0</td>\n",
       "      <td>0</td>\n",
       "      <td>0</td>\n",
       "      <td>0</td>\n",
       "      <td>0</td>\n",
       "      <td>0</td>\n",
       "      <td>0</td>\n",
       "      <td>0</td>\n",
       "      <td>0</td>\n",
       "      <td>0</td>\n",
       "    </tr>\n",
       "  </tbody>\n",
       "</table>\n",
       "<p>8251 rows × 31 columns</p>\n",
       "</div>"
      ],
      "text/plain": [
       "      apartment_id     addr_kr        lat         lng  line1_0.2km  \\\n",
       "0                0    행당동 1-10  37.561427  127.039210            0   \n",
       "1                1  명륜3가 1-102  37.589464  126.995256            0   \n",
       "2                2    한남동 1-35  37.535891  127.011677            0   \n",
       "3                3     진관동 101  37.632139  126.920108            0   \n",
       "4                4     진관동 102  37.633038  126.922288            0   \n",
       "...            ...         ...        ...         ...          ...   \n",
       "8246         12654  후암동 244-88  37.549406  126.978228            0   \n",
       "8247         12655  반포동 577-79  37.493554  127.001104            0   \n",
       "8248         12656   방배동 802-3  37.493293  126.995482            0   \n",
       "8249         12657   동빙고동 1-30  37.526971  126.996401            0   \n",
       "8250         12658   양재동 378-1  37.471467  127.045747            0   \n",
       "\n",
       "      line1_0.5km  line1_1km  line2_0.2km  line2_0.5km  line2_1km  ...  \\\n",
       "0               0          0            1            0          1  ...   \n",
       "1               0          0            0            0          0  ...   \n",
       "2               0          0            0            0          0  ...   \n",
       "3               0          0            0            0          0  ...   \n",
       "4               0          0            0            0          0  ...   \n",
       "...           ...        ...          ...          ...        ...  ...   \n",
       "8246            0          0            0            0          0  ...   \n",
       "8247            0          0            0            0          1  ...   \n",
       "8248            0          0            0            0          0  ...   \n",
       "8249            0          0            0            0          0  ...   \n",
       "8250            0          0            0            0          0  ...   \n",
       "\n",
       "      line6_1km  line7_0.2km  line7_0.5km  line7_1km  line8_0.2km  \\\n",
       "0             0            0            0          0            0   \n",
       "1             0            0            0          0            0   \n",
       "2             0            0            0          0            0   \n",
       "3             0            0            0          0            0   \n",
       "4             0            0            0          0            0   \n",
       "...         ...          ...          ...        ...          ...   \n",
       "8246          0            0            0          0            0   \n",
       "8247          0            0            0          1            0   \n",
       "8248          0            0            0          1            0   \n",
       "8249          1            0            0          0            0   \n",
       "8250          0            0            0          0            0   \n",
       "\n",
       "      line8_0.5km  line8_1km  line9_0.2km  line9_0.5km  line9_1km  \n",
       "0               0          0            0            0          0  \n",
       "1               0          0            0            0          0  \n",
       "2               0          0            0            0          0  \n",
       "3               0          0            0            0          0  \n",
       "4               0          0            0            0          0  \n",
       "...           ...        ...          ...          ...        ...  \n",
       "8246            0          0            0            0          0  \n",
       "8247            0          0            0            0          0  \n",
       "8248            0          0            0            0          0  \n",
       "8249            0          0            0            0          0  \n",
       "8250            0          0            0            0          0  \n",
       "\n",
       "[8251 rows x 31 columns]"
      ]
     },
     "execution_count": 93,
     "metadata": {},
     "output_type": "execute_result"
    }
   ],
   "source": [
    "apartment_addr"
   ]
  },
  {
   "cell_type": "code",
   "execution_count": null,
   "id": "8c2743e8",
   "metadata": {
    "colab": {
     "base_uri": "https://localhost:8080/",
     "height": 750
    },
    "executionInfo": {
     "elapsed": 9,
     "status": "ok",
     "timestamp": 1645122786977,
     "user": {
      "displayName": "최윤성",
      "photoUrl": "https://lh3.googleusercontent.com/a-/AOh14GhPE9xSgYvruTxaBI1PrRZRNWn21DzdbLmy5HR0Xg=s64",
      "userId": "17937737491555296546"
     },
     "user_tz": -540
    },
    "id": "8c2743e8",
    "outputId": "bbe1cfea-1b63-48b1-e4f7-5ae5b458eba3"
   },
   "outputs": [
    {
     "data": {
      "text/html": [
       "<div>\n",
       "<style scoped>\n",
       "    .dataframe tbody tr th:only-of-type {\n",
       "        vertical-align: middle;\n",
       "    }\n",
       "\n",
       "    .dataframe tbody tr th {\n",
       "        vertical-align: top;\n",
       "    }\n",
       "\n",
       "    .dataframe thead th {\n",
       "        text-align: right;\n",
       "    }\n",
       "</style>\n",
       "<table border=\"1\" class=\"dataframe\">\n",
       "  <thead>\n",
       "    <tr style=\"text-align: right;\">\n",
       "      <th></th>\n",
       "      <th>apartment_id</th>\n",
       "      <th>addr_kr</th>\n",
       "      <th>lat</th>\n",
       "      <th>lng</th>\n",
       "      <th>line1_0.2km</th>\n",
       "      <th>line1_0.5km</th>\n",
       "      <th>line1_1km</th>\n",
       "      <th>line2_0.2km</th>\n",
       "      <th>line2_0.5km</th>\n",
       "      <th>line2_1km</th>\n",
       "      <th>...</th>\n",
       "      <th>line6_1km</th>\n",
       "      <th>line7_0.2km</th>\n",
       "      <th>line7_0.5km</th>\n",
       "      <th>line7_1km</th>\n",
       "      <th>line8_0.2km</th>\n",
       "      <th>line8_0.5km</th>\n",
       "      <th>line8_1km</th>\n",
       "      <th>line9_0.2km</th>\n",
       "      <th>line9_0.5km</th>\n",
       "      <th>line9_1km</th>\n",
       "    </tr>\n",
       "  </thead>\n",
       "  <tbody>\n",
       "    <tr>\n",
       "      <th>36</th>\n",
       "      <td>45</td>\n",
       "      <td>창신동 436-79</td>\n",
       "      <td>37.570071</td>\n",
       "      <td>127.010647</td>\n",
       "      <td>1</td>\n",
       "      <td>0</td>\n",
       "      <td>1</td>\n",
       "      <td>0</td>\n",
       "      <td>0</td>\n",
       "      <td>1</td>\n",
       "      <td>...</td>\n",
       "      <td>1</td>\n",
       "      <td>0</td>\n",
       "      <td>0</td>\n",
       "      <td>0</td>\n",
       "      <td>0</td>\n",
       "      <td>0</td>\n",
       "      <td>0</td>\n",
       "      <td>0</td>\n",
       "      <td>0</td>\n",
       "      <td>0</td>\n",
       "    </tr>\n",
       "    <tr>\n",
       "      <th>42</th>\n",
       "      <td>52</td>\n",
       "      <td>창신동 578-5 (578-5)201호</td>\n",
       "      <td>37.572368</td>\n",
       "      <td>127.011049</td>\n",
       "      <td>1</td>\n",
       "      <td>0</td>\n",
       "      <td>1</td>\n",
       "      <td>0</td>\n",
       "      <td>0</td>\n",
       "      <td>1</td>\n",
       "      <td>...</td>\n",
       "      <td>1</td>\n",
       "      <td>0</td>\n",
       "      <td>0</td>\n",
       "      <td>0</td>\n",
       "      <td>0</td>\n",
       "      <td>0</td>\n",
       "      <td>0</td>\n",
       "      <td>0</td>\n",
       "      <td>0</td>\n",
       "      <td>0</td>\n",
       "    </tr>\n",
       "    <tr>\n",
       "      <th>723</th>\n",
       "      <td>905</td>\n",
       "      <td>제기동 892-68</td>\n",
       "      <td>37.579183</td>\n",
       "      <td>127.035580</td>\n",
       "      <td>1</td>\n",
       "      <td>0</td>\n",
       "      <td>0</td>\n",
       "      <td>0</td>\n",
       "      <td>0</td>\n",
       "      <td>1</td>\n",
       "      <td>...</td>\n",
       "      <td>1</td>\n",
       "      <td>0</td>\n",
       "      <td>0</td>\n",
       "      <td>0</td>\n",
       "      <td>0</td>\n",
       "      <td>0</td>\n",
       "      <td>0</td>\n",
       "      <td>0</td>\n",
       "      <td>0</td>\n",
       "      <td>0</td>\n",
       "    </tr>\n",
       "    <tr>\n",
       "      <th>1970</th>\n",
       "      <td>3077</td>\n",
       "      <td>창신동 578-5</td>\n",
       "      <td>37.572368</td>\n",
       "      <td>127.011049</td>\n",
       "      <td>1</td>\n",
       "      <td>0</td>\n",
       "      <td>1</td>\n",
       "      <td>0</td>\n",
       "      <td>0</td>\n",
       "      <td>1</td>\n",
       "      <td>...</td>\n",
       "      <td>1</td>\n",
       "      <td>0</td>\n",
       "      <td>0</td>\n",
       "      <td>0</td>\n",
       "      <td>0</td>\n",
       "      <td>0</td>\n",
       "      <td>0</td>\n",
       "      <td>0</td>\n",
       "      <td>0</td>\n",
       "      <td>0</td>\n",
       "    </tr>\n",
       "    <tr>\n",
       "      <th>1971</th>\n",
       "      <td>3078</td>\n",
       "      <td>창신동 436-79</td>\n",
       "      <td>37.570071</td>\n",
       "      <td>127.010647</td>\n",
       "      <td>1</td>\n",
       "      <td>0</td>\n",
       "      <td>1</td>\n",
       "      <td>0</td>\n",
       "      <td>0</td>\n",
       "      <td>1</td>\n",
       "      <td>...</td>\n",
       "      <td>1</td>\n",
       "      <td>0</td>\n",
       "      <td>0</td>\n",
       "      <td>0</td>\n",
       "      <td>0</td>\n",
       "      <td>0</td>\n",
       "      <td>0</td>\n",
       "      <td>0</td>\n",
       "      <td>0</td>\n",
       "      <td>0</td>\n",
       "    </tr>\n",
       "    <tr>\n",
       "      <th>1973</th>\n",
       "      <td>3080</td>\n",
       "      <td>창신동 328-17</td>\n",
       "      <td>37.572265</td>\n",
       "      <td>127.015190</td>\n",
       "      <td>1</td>\n",
       "      <td>0</td>\n",
       "      <td>1</td>\n",
       "      <td>0</td>\n",
       "      <td>0</td>\n",
       "      <td>1</td>\n",
       "      <td>...</td>\n",
       "      <td>1</td>\n",
       "      <td>0</td>\n",
       "      <td>0</td>\n",
       "      <td>0</td>\n",
       "      <td>0</td>\n",
       "      <td>0</td>\n",
       "      <td>0</td>\n",
       "      <td>0</td>\n",
       "      <td>0</td>\n",
       "      <td>0</td>\n",
       "    </tr>\n",
       "    <tr>\n",
       "      <th>3744</th>\n",
       "      <td>5782</td>\n",
       "      <td>숭인동 296-19</td>\n",
       "      <td>37.572354</td>\n",
       "      <td>127.016733</td>\n",
       "      <td>1</td>\n",
       "      <td>0</td>\n",
       "      <td>1</td>\n",
       "      <td>0</td>\n",
       "      <td>0</td>\n",
       "      <td>1</td>\n",
       "      <td>...</td>\n",
       "      <td>1</td>\n",
       "      <td>0</td>\n",
       "      <td>0</td>\n",
       "      <td>0</td>\n",
       "      <td>0</td>\n",
       "      <td>0</td>\n",
       "      <td>0</td>\n",
       "      <td>0</td>\n",
       "      <td>0</td>\n",
       "      <td>0</td>\n",
       "    </tr>\n",
       "    <tr>\n",
       "      <th>3746</th>\n",
       "      <td>5784</td>\n",
       "      <td>숭인동 318-2</td>\n",
       "      <td>37.571352</td>\n",
       "      <td>127.016717</td>\n",
       "      <td>1</td>\n",
       "      <td>0</td>\n",
       "      <td>1</td>\n",
       "      <td>0</td>\n",
       "      <td>0</td>\n",
       "      <td>1</td>\n",
       "      <td>...</td>\n",
       "      <td>1</td>\n",
       "      <td>0</td>\n",
       "      <td>0</td>\n",
       "      <td>0</td>\n",
       "      <td>0</td>\n",
       "      <td>0</td>\n",
       "      <td>0</td>\n",
       "      <td>0</td>\n",
       "      <td>0</td>\n",
       "      <td>0</td>\n",
       "    </tr>\n",
       "    <tr>\n",
       "      <th>5153</th>\n",
       "      <td>7972</td>\n",
       "      <td>제기동 1158-40</td>\n",
       "      <td>37.578817</td>\n",
       "      <td>127.033702</td>\n",
       "      <td>1</td>\n",
       "      <td>0</td>\n",
       "      <td>0</td>\n",
       "      <td>1</td>\n",
       "      <td>0</td>\n",
       "      <td>1</td>\n",
       "      <td>...</td>\n",
       "      <td>1</td>\n",
       "      <td>0</td>\n",
       "      <td>0</td>\n",
       "      <td>0</td>\n",
       "      <td>0</td>\n",
       "      <td>0</td>\n",
       "      <td>0</td>\n",
       "      <td>0</td>\n",
       "      <td>0</td>\n",
       "      <td>0</td>\n",
       "    </tr>\n",
       "    <tr>\n",
       "      <th>6568</th>\n",
       "      <td>10147</td>\n",
       "      <td>창신동 703</td>\n",
       "      <td>37.580227</td>\n",
       "      <td>127.011758</td>\n",
       "      <td>1</td>\n",
       "      <td>0</td>\n",
       "      <td>1</td>\n",
       "      <td>0</td>\n",
       "      <td>0</td>\n",
       "      <td>0</td>\n",
       "      <td>...</td>\n",
       "      <td>1</td>\n",
       "      <td>0</td>\n",
       "      <td>0</td>\n",
       "      <td>0</td>\n",
       "      <td>0</td>\n",
       "      <td>0</td>\n",
       "      <td>0</td>\n",
       "      <td>0</td>\n",
       "      <td>0</td>\n",
       "      <td>0</td>\n",
       "    </tr>\n",
       "    <tr>\n",
       "      <th>7317</th>\n",
       "      <td>11226</td>\n",
       "      <td>신당동 113-5 하이 1</td>\n",
       "      <td>37.564201</td>\n",
       "      <td>127.017652</td>\n",
       "      <td>1</td>\n",
       "      <td>0</td>\n",
       "      <td>1</td>\n",
       "      <td>1</td>\n",
       "      <td>0</td>\n",
       "      <td>0</td>\n",
       "      <td>...</td>\n",
       "      <td>1</td>\n",
       "      <td>0</td>\n",
       "      <td>0</td>\n",
       "      <td>0</td>\n",
       "      <td>0</td>\n",
       "      <td>0</td>\n",
       "      <td>0</td>\n",
       "      <td>0</td>\n",
       "      <td>0</td>\n",
       "      <td>0</td>\n",
       "    </tr>\n",
       "    <tr>\n",
       "      <th>8072</th>\n",
       "      <td>12354</td>\n",
       "      <td>용두동 102-172</td>\n",
       "      <td>37.577349</td>\n",
       "      <td>127.033605</td>\n",
       "      <td>1</td>\n",
       "      <td>0</td>\n",
       "      <td>1</td>\n",
       "      <td>0</td>\n",
       "      <td>0</td>\n",
       "      <td>1</td>\n",
       "      <td>...</td>\n",
       "      <td>1</td>\n",
       "      <td>0</td>\n",
       "      <td>0</td>\n",
       "      <td>0</td>\n",
       "      <td>0</td>\n",
       "      <td>0</td>\n",
       "      <td>0</td>\n",
       "      <td>0</td>\n",
       "      <td>0</td>\n",
       "      <td>0</td>\n",
       "    </tr>\n",
       "  </tbody>\n",
       "</table>\n",
       "<p>12 rows × 31 columns</p>\n",
       "</div>"
      ],
      "text/plain": [
       "      apartment_id                addr_kr        lat         lng  line1_0.2km  \\\n",
       "36              45             창신동 436-79  37.570071  127.010647            1   \n",
       "42              52  창신동 578-5 (578-5)201호  37.572368  127.011049            1   \n",
       "723            905             제기동 892-68  37.579183  127.035580            1   \n",
       "1970          3077              창신동 578-5  37.572368  127.011049            1   \n",
       "1971          3078             창신동 436-79  37.570071  127.010647            1   \n",
       "1973          3080             창신동 328-17  37.572265  127.015190            1   \n",
       "3744          5782             숭인동 296-19  37.572354  127.016733            1   \n",
       "3746          5784              숭인동 318-2  37.571352  127.016717            1   \n",
       "5153          7972            제기동 1158-40  37.578817  127.033702            1   \n",
       "6568         10147                창신동 703  37.580227  127.011758            1   \n",
       "7317         11226         신당동 113-5 하이 1  37.564201  127.017652            1   \n",
       "8072         12354            용두동 102-172  37.577349  127.033605            1   \n",
       "\n",
       "      line1_0.5km  line1_1km  line2_0.2km  line2_0.5km  line2_1km  ...  \\\n",
       "36              0          1            0            0          1  ...   \n",
       "42              0          1            0            0          1  ...   \n",
       "723             0          0            0            0          1  ...   \n",
       "1970            0          1            0            0          1  ...   \n",
       "1971            0          1            0            0          1  ...   \n",
       "1973            0          1            0            0          1  ...   \n",
       "3744            0          1            0            0          1  ...   \n",
       "3746            0          1            0            0          1  ...   \n",
       "5153            0          0            1            0          1  ...   \n",
       "6568            0          1            0            0          0  ...   \n",
       "7317            0          1            1            0          0  ...   \n",
       "8072            0          1            0            0          1  ...   \n",
       "\n",
       "      line6_1km  line7_0.2km  line7_0.5km  line7_1km  line8_0.2km  \\\n",
       "36            1            0            0          0            0   \n",
       "42            1            0            0          0            0   \n",
       "723           1            0            0          0            0   \n",
       "1970          1            0            0          0            0   \n",
       "1971          1            0            0          0            0   \n",
       "1973          1            0            0          0            0   \n",
       "3744          1            0            0          0            0   \n",
       "3746          1            0            0          0            0   \n",
       "5153          1            0            0          0            0   \n",
       "6568          1            0            0          0            0   \n",
       "7317          1            0            0          0            0   \n",
       "8072          1            0            0          0            0   \n",
       "\n",
       "      line8_0.5km  line8_1km  line9_0.2km  line9_0.5km  line9_1km  \n",
       "36              0          0            0            0          0  \n",
       "42              0          0            0            0          0  \n",
       "723             0          0            0            0          0  \n",
       "1970            0          0            0            0          0  \n",
       "1971            0          0            0            0          0  \n",
       "1973            0          0            0            0          0  \n",
       "3744            0          0            0            0          0  \n",
       "3746            0          0            0            0          0  \n",
       "5153            0          0            0            0          0  \n",
       "6568            0          0            0            0          0  \n",
       "7317            0          0            0            0          0  \n",
       "8072            0          0            0            0          0  \n",
       "\n",
       "[12 rows x 31 columns]"
      ]
     },
     "execution_count": 94,
     "metadata": {},
     "output_type": "execute_result"
    }
   ],
   "source": [
    "apartment_addr[apartment_addr['line1_0.2km']==1]"
   ]
  },
  {
   "cell_type": "code",
   "execution_count": null,
   "id": "cfd7d9b4",
   "metadata": {
    "id": "cfd7d9b4"
   },
   "outputs": [],
   "source": [
    "apartment_addr.set_index('apartment_id',inplace=True)"
   ]
  },
  {
   "cell_type": "code",
   "execution_count": null,
   "id": "f1d69281",
   "metadata": {
    "colab": {
     "base_uri": "https://localhost:8080/",
     "height": 518
    },
    "executionInfo": {
     "elapsed": 9,
     "status": "ok",
     "timestamp": 1645122786977,
     "user": {
      "displayName": "최윤성",
      "photoUrl": "https://lh3.googleusercontent.com/a-/AOh14GhPE9xSgYvruTxaBI1PrRZRNWn21DzdbLmy5HR0Xg=s64",
      "userId": "17937737491555296546"
     },
     "user_tz": -540
    },
    "id": "f1d69281",
    "outputId": "7f656e9a-27f9-4033-d9a2-1ccfb15836a2"
   },
   "outputs": [
    {
     "data": {
      "text/html": [
       "<div>\n",
       "<style scoped>\n",
       "    .dataframe tbody tr th:only-of-type {\n",
       "        vertical-align: middle;\n",
       "    }\n",
       "\n",
       "    .dataframe tbody tr th {\n",
       "        vertical-align: top;\n",
       "    }\n",
       "\n",
       "    .dataframe thead th {\n",
       "        text-align: right;\n",
       "    }\n",
       "</style>\n",
       "<table border=\"1\" class=\"dataframe\">\n",
       "  <thead>\n",
       "    <tr style=\"text-align: right;\">\n",
       "      <th></th>\n",
       "      <th>line1_0.2km</th>\n",
       "      <th>line1_0.5km</th>\n",
       "      <th>line1_1km</th>\n",
       "      <th>line2_0.2km</th>\n",
       "      <th>line2_0.5km</th>\n",
       "      <th>line2_1km</th>\n",
       "      <th>line3_0.2km</th>\n",
       "      <th>line3_0.5km</th>\n",
       "      <th>line3_1km</th>\n",
       "      <th>line4_0.2km</th>\n",
       "      <th>...</th>\n",
       "      <th>line6_1km</th>\n",
       "      <th>line7_0.2km</th>\n",
       "      <th>line7_0.5km</th>\n",
       "      <th>line7_1km</th>\n",
       "      <th>line8_0.2km</th>\n",
       "      <th>line8_0.5km</th>\n",
       "      <th>line8_1km</th>\n",
       "      <th>line9_0.2km</th>\n",
       "      <th>line9_0.5km</th>\n",
       "      <th>line9_1km</th>\n",
       "    </tr>\n",
       "    <tr>\n",
       "      <th>apartment_id</th>\n",
       "      <th></th>\n",
       "      <th></th>\n",
       "      <th></th>\n",
       "      <th></th>\n",
       "      <th></th>\n",
       "      <th></th>\n",
       "      <th></th>\n",
       "      <th></th>\n",
       "      <th></th>\n",
       "      <th></th>\n",
       "      <th></th>\n",
       "      <th></th>\n",
       "      <th></th>\n",
       "      <th></th>\n",
       "      <th></th>\n",
       "      <th></th>\n",
       "      <th></th>\n",
       "      <th></th>\n",
       "      <th></th>\n",
       "      <th></th>\n",
       "      <th></th>\n",
       "    </tr>\n",
       "  </thead>\n",
       "  <tbody>\n",
       "    <tr>\n",
       "      <th>0</th>\n",
       "      <td>0</td>\n",
       "      <td>0</td>\n",
       "      <td>0</td>\n",
       "      <td>1</td>\n",
       "      <td>0</td>\n",
       "      <td>1</td>\n",
       "      <td>0</td>\n",
       "      <td>0</td>\n",
       "      <td>0</td>\n",
       "      <td>0</td>\n",
       "      <td>...</td>\n",
       "      <td>0</td>\n",
       "      <td>0</td>\n",
       "      <td>0</td>\n",
       "      <td>0</td>\n",
       "      <td>0</td>\n",
       "      <td>0</td>\n",
       "      <td>0</td>\n",
       "      <td>0</td>\n",
       "      <td>0</td>\n",
       "      <td>0</td>\n",
       "    </tr>\n",
       "    <tr>\n",
       "      <th>1</th>\n",
       "      <td>0</td>\n",
       "      <td>0</td>\n",
       "      <td>0</td>\n",
       "      <td>0</td>\n",
       "      <td>0</td>\n",
       "      <td>0</td>\n",
       "      <td>0</td>\n",
       "      <td>0</td>\n",
       "      <td>0</td>\n",
       "      <td>0</td>\n",
       "      <td>...</td>\n",
       "      <td>0</td>\n",
       "      <td>0</td>\n",
       "      <td>0</td>\n",
       "      <td>0</td>\n",
       "      <td>0</td>\n",
       "      <td>0</td>\n",
       "      <td>0</td>\n",
       "      <td>0</td>\n",
       "      <td>0</td>\n",
       "      <td>0</td>\n",
       "    </tr>\n",
       "    <tr>\n",
       "      <th>2</th>\n",
       "      <td>0</td>\n",
       "      <td>0</td>\n",
       "      <td>0</td>\n",
       "      <td>0</td>\n",
       "      <td>0</td>\n",
       "      <td>0</td>\n",
       "      <td>0</td>\n",
       "      <td>0</td>\n",
       "      <td>1</td>\n",
       "      <td>0</td>\n",
       "      <td>...</td>\n",
       "      <td>0</td>\n",
       "      <td>0</td>\n",
       "      <td>0</td>\n",
       "      <td>0</td>\n",
       "      <td>0</td>\n",
       "      <td>0</td>\n",
       "      <td>0</td>\n",
       "      <td>0</td>\n",
       "      <td>0</td>\n",
       "      <td>0</td>\n",
       "    </tr>\n",
       "    <tr>\n",
       "      <th>3</th>\n",
       "      <td>0</td>\n",
       "      <td>0</td>\n",
       "      <td>0</td>\n",
       "      <td>0</td>\n",
       "      <td>0</td>\n",
       "      <td>0</td>\n",
       "      <td>0</td>\n",
       "      <td>0</td>\n",
       "      <td>1</td>\n",
       "      <td>0</td>\n",
       "      <td>...</td>\n",
       "      <td>0</td>\n",
       "      <td>0</td>\n",
       "      <td>0</td>\n",
       "      <td>0</td>\n",
       "      <td>0</td>\n",
       "      <td>0</td>\n",
       "      <td>0</td>\n",
       "      <td>0</td>\n",
       "      <td>0</td>\n",
       "      <td>0</td>\n",
       "    </tr>\n",
       "    <tr>\n",
       "      <th>4</th>\n",
       "      <td>0</td>\n",
       "      <td>0</td>\n",
       "      <td>0</td>\n",
       "      <td>0</td>\n",
       "      <td>0</td>\n",
       "      <td>0</td>\n",
       "      <td>0</td>\n",
       "      <td>0</td>\n",
       "      <td>1</td>\n",
       "      <td>0</td>\n",
       "      <td>...</td>\n",
       "      <td>0</td>\n",
       "      <td>0</td>\n",
       "      <td>0</td>\n",
       "      <td>0</td>\n",
       "      <td>0</td>\n",
       "      <td>0</td>\n",
       "      <td>0</td>\n",
       "      <td>0</td>\n",
       "      <td>0</td>\n",
       "      <td>0</td>\n",
       "    </tr>\n",
       "    <tr>\n",
       "      <th>...</th>\n",
       "      <td>...</td>\n",
       "      <td>...</td>\n",
       "      <td>...</td>\n",
       "      <td>...</td>\n",
       "      <td>...</td>\n",
       "      <td>...</td>\n",
       "      <td>...</td>\n",
       "      <td>...</td>\n",
       "      <td>...</td>\n",
       "      <td>...</td>\n",
       "      <td>...</td>\n",
       "      <td>...</td>\n",
       "      <td>...</td>\n",
       "      <td>...</td>\n",
       "      <td>...</td>\n",
       "      <td>...</td>\n",
       "      <td>...</td>\n",
       "      <td>...</td>\n",
       "      <td>...</td>\n",
       "      <td>...</td>\n",
       "      <td>...</td>\n",
       "    </tr>\n",
       "    <tr>\n",
       "      <th>12654</th>\n",
       "      <td>0</td>\n",
       "      <td>0</td>\n",
       "      <td>0</td>\n",
       "      <td>0</td>\n",
       "      <td>0</td>\n",
       "      <td>0</td>\n",
       "      <td>0</td>\n",
       "      <td>0</td>\n",
       "      <td>0</td>\n",
       "      <td>0</td>\n",
       "      <td>...</td>\n",
       "      <td>0</td>\n",
       "      <td>0</td>\n",
       "      <td>0</td>\n",
       "      <td>0</td>\n",
       "      <td>0</td>\n",
       "      <td>0</td>\n",
       "      <td>0</td>\n",
       "      <td>0</td>\n",
       "      <td>0</td>\n",
       "      <td>0</td>\n",
       "    </tr>\n",
       "    <tr>\n",
       "      <th>12655</th>\n",
       "      <td>0</td>\n",
       "      <td>0</td>\n",
       "      <td>0</td>\n",
       "      <td>0</td>\n",
       "      <td>0</td>\n",
       "      <td>1</td>\n",
       "      <td>0</td>\n",
       "      <td>0</td>\n",
       "      <td>0</td>\n",
       "      <td>0</td>\n",
       "      <td>...</td>\n",
       "      <td>0</td>\n",
       "      <td>0</td>\n",
       "      <td>0</td>\n",
       "      <td>1</td>\n",
       "      <td>0</td>\n",
       "      <td>0</td>\n",
       "      <td>0</td>\n",
       "      <td>0</td>\n",
       "      <td>0</td>\n",
       "      <td>0</td>\n",
       "    </tr>\n",
       "    <tr>\n",
       "      <th>12656</th>\n",
       "      <td>0</td>\n",
       "      <td>0</td>\n",
       "      <td>0</td>\n",
       "      <td>0</td>\n",
       "      <td>0</td>\n",
       "      <td>0</td>\n",
       "      <td>0</td>\n",
       "      <td>0</td>\n",
       "      <td>0</td>\n",
       "      <td>0</td>\n",
       "      <td>...</td>\n",
       "      <td>0</td>\n",
       "      <td>0</td>\n",
       "      <td>0</td>\n",
       "      <td>1</td>\n",
       "      <td>0</td>\n",
       "      <td>0</td>\n",
       "      <td>0</td>\n",
       "      <td>0</td>\n",
       "      <td>0</td>\n",
       "      <td>0</td>\n",
       "    </tr>\n",
       "    <tr>\n",
       "      <th>12657</th>\n",
       "      <td>0</td>\n",
       "      <td>0</td>\n",
       "      <td>0</td>\n",
       "      <td>0</td>\n",
       "      <td>0</td>\n",
       "      <td>0</td>\n",
       "      <td>0</td>\n",
       "      <td>0</td>\n",
       "      <td>0</td>\n",
       "      <td>0</td>\n",
       "      <td>...</td>\n",
       "      <td>1</td>\n",
       "      <td>0</td>\n",
       "      <td>0</td>\n",
       "      <td>0</td>\n",
       "      <td>0</td>\n",
       "      <td>0</td>\n",
       "      <td>0</td>\n",
       "      <td>0</td>\n",
       "      <td>0</td>\n",
       "      <td>0</td>\n",
       "    </tr>\n",
       "    <tr>\n",
       "      <th>12658</th>\n",
       "      <td>0</td>\n",
       "      <td>0</td>\n",
       "      <td>0</td>\n",
       "      <td>0</td>\n",
       "      <td>0</td>\n",
       "      <td>0</td>\n",
       "      <td>0</td>\n",
       "      <td>0</td>\n",
       "      <td>0</td>\n",
       "      <td>0</td>\n",
       "      <td>...</td>\n",
       "      <td>0</td>\n",
       "      <td>0</td>\n",
       "      <td>0</td>\n",
       "      <td>0</td>\n",
       "      <td>0</td>\n",
       "      <td>0</td>\n",
       "      <td>0</td>\n",
       "      <td>0</td>\n",
       "      <td>0</td>\n",
       "      <td>0</td>\n",
       "    </tr>\n",
       "  </tbody>\n",
       "</table>\n",
       "<p>8251 rows × 27 columns</p>\n",
       "</div>"
      ],
      "text/plain": [
       "              line1_0.2km  line1_0.5km  line1_1km  line2_0.2km  line2_0.5km  \\\n",
       "apartment_id                                                                  \n",
       "0                       0            0          0            1            0   \n",
       "1                       0            0          0            0            0   \n",
       "2                       0            0          0            0            0   \n",
       "3                       0            0          0            0            0   \n",
       "4                       0            0          0            0            0   \n",
       "...                   ...          ...        ...          ...          ...   \n",
       "12654                   0            0          0            0            0   \n",
       "12655                   0            0          0            0            0   \n",
       "12656                   0            0          0            0            0   \n",
       "12657                   0            0          0            0            0   \n",
       "12658                   0            0          0            0            0   \n",
       "\n",
       "              line2_1km  line3_0.2km  line3_0.5km  line3_1km  line4_0.2km  \\\n",
       "apartment_id                                                                \n",
       "0                     1            0            0          0            0   \n",
       "1                     0            0            0          0            0   \n",
       "2                     0            0            0          1            0   \n",
       "3                     0            0            0          1            0   \n",
       "4                     0            0            0          1            0   \n",
       "...                 ...          ...          ...        ...          ...   \n",
       "12654                 0            0            0          0            0   \n",
       "12655                 1            0            0          0            0   \n",
       "12656                 0            0            0          0            0   \n",
       "12657                 0            0            0          0            0   \n",
       "12658                 0            0            0          0            0   \n",
       "\n",
       "              ...  line6_1km  line7_0.2km  line7_0.5km  line7_1km  \\\n",
       "apartment_id  ...                                                   \n",
       "0             ...          0            0            0          0   \n",
       "1             ...          0            0            0          0   \n",
       "2             ...          0            0            0          0   \n",
       "3             ...          0            0            0          0   \n",
       "4             ...          0            0            0          0   \n",
       "...           ...        ...          ...          ...        ...   \n",
       "12654         ...          0            0            0          0   \n",
       "12655         ...          0            0            0          1   \n",
       "12656         ...          0            0            0          1   \n",
       "12657         ...          1            0            0          0   \n",
       "12658         ...          0            0            0          0   \n",
       "\n",
       "              line8_0.2km  line8_0.5km  line8_1km  line9_0.2km  line9_0.5km  \\\n",
       "apartment_id                                                                  \n",
       "0                       0            0          0            0            0   \n",
       "1                       0            0          0            0            0   \n",
       "2                       0            0          0            0            0   \n",
       "3                       0            0          0            0            0   \n",
       "4                       0            0          0            0            0   \n",
       "...                   ...          ...        ...          ...          ...   \n",
       "12654                   0            0          0            0            0   \n",
       "12655                   0            0          0            0            0   \n",
       "12656                   0            0          0            0            0   \n",
       "12657                   0            0          0            0            0   \n",
       "12658                   0            0          0            0            0   \n",
       "\n",
       "              line9_1km  \n",
       "apartment_id             \n",
       "0                     0  \n",
       "1                     0  \n",
       "2                     0  \n",
       "3                     0  \n",
       "4                     0  \n",
       "...                 ...  \n",
       "12654                 0  \n",
       "12655                 0  \n",
       "12656                 0  \n",
       "12657                 0  \n",
       "12658                 0  \n",
       "\n",
       "[8251 rows x 27 columns]"
      ]
     },
     "execution_count": 96,
     "metadata": {},
     "output_type": "execute_result"
    }
   ],
   "source": [
    "apartment_addr.drop(['addr_kr','lat','lng'],axis=1,inplace=True)\n",
    "apartment_addr"
   ]
  },
  {
   "cell_type": "code",
   "execution_count": null,
   "id": "863e3d38",
   "metadata": {
    "id": "863e3d38"
   },
   "outputs": [],
   "source": [
    "for i in apartment_addr.columns:\n",
    "    temp = apartment_addr[[i]].to_dict()\n",
    "    df_train[i] = df_train['apartment_id']\n",
    "    df_train[i] = df_train[i].map(temp[i])"
   ]
  },
  {
   "cell_type": "code",
   "execution_count": null,
   "id": "9258e05b",
   "metadata": {
    "colab": {
     "base_uri": "https://localhost:8080/"
    },
    "executionInfo": {
     "elapsed": 320,
     "status": "ok",
     "timestamp": 1645122788086,
     "user": {
      "displayName": "최윤성",
      "photoUrl": "https://lh3.googleusercontent.com/a-/AOh14GhPE9xSgYvruTxaBI1PrRZRNWn21DzdbLmy5HR0Xg=s64",
      "userId": "17937737491555296546"
     },
     "user_tz": -540
    },
    "id": "9258e05b",
    "outputId": "7e48e5be-7346-4173-aadc-60eb0a269bc9"
   },
   "outputs": [
    {
     "name": "stdout",
     "output_type": "stream",
     "text": [
      "<class 'pandas.core.frame.DataFrame'>\n",
      "Int64Index: 742285 entries, 0 to 1184018\n",
      "Data columns (total 44 columns):\n",
      " #   Column                  Non-Null Count   Dtype  \n",
      "---  ------                  --------------   -----  \n",
      " 0   apartment_id            742285 non-null  int64  \n",
      " 1   city                    742285 non-null  object \n",
      " 2   dong                    742285 non-null  object \n",
      " 3   jibun                   742285 non-null  object \n",
      " 4   apt                     742285 non-null  object \n",
      " 5   exclusive_use_area      742285 non-null  float64\n",
      " 6   year_of_completion      742285 non-null  int64  \n",
      " 7   transaction_year_month  742285 non-null  int32  \n",
      " 8   transaction_date        742285 non-null  object \n",
      " 9   floor                   742285 non-null  int64  \n",
      " 10  transaction_real_price  742285 non-null  int64  \n",
      " 11  year                    742285 non-null  int32  \n",
      " 12  month                   742285 non-null  int32  \n",
      " 13  hangang                 742285 non-null  int32  \n",
      " 14  count_park              742285 non-null  int32  \n",
      " 15  gu                      742285 non-null  object \n",
      " 16  count_gu_park           678786 non-null  float64\n",
      " 17  line1_0.2km             742285 non-null  int64  \n",
      " 18  line1_0.5km             742285 non-null  int64  \n",
      " 19  line1_1km               742285 non-null  int64  \n",
      " 20  line2_0.2km             742285 non-null  int64  \n",
      " 21  line2_0.5km             742285 non-null  int64  \n",
      " 22  line2_1km               742285 non-null  int64  \n",
      " 23  line3_0.2km             742285 non-null  int64  \n",
      " 24  line3_0.5km             742285 non-null  int64  \n",
      " 25  line3_1km               742285 non-null  int64  \n",
      " 26  line4_0.2km             742285 non-null  int64  \n",
      " 27  line4_0.5km             742285 non-null  int64  \n",
      " 28  line4_1km               742285 non-null  int64  \n",
      " 29  line5_0.2km             742285 non-null  int64  \n",
      " 30  line5_0.5km             742285 non-null  int64  \n",
      " 31  line5_1km               742285 non-null  int64  \n",
      " 32  line6_0.2km             742285 non-null  int64  \n",
      " 33  line6_0.5km             742285 non-null  int64  \n",
      " 34  line6_1km               742285 non-null  int64  \n",
      " 35  line7_0.2km             742285 non-null  int64  \n",
      " 36  line7_0.5km             742285 non-null  int64  \n",
      " 37  line7_1km               742285 non-null  int64  \n",
      " 38  line8_0.2km             742285 non-null  int64  \n",
      " 39  line8_0.5km             742285 non-null  int64  \n",
      " 40  line8_1km               742285 non-null  int64  \n",
      " 41  line9_0.2km             742285 non-null  int64  \n",
      " 42  line9_0.5km             742285 non-null  int64  \n",
      " 43  line9_1km               742285 non-null  int64  \n",
      "dtypes: float64(2), int32(5), int64(31), object(6)\n",
      "memory usage: 256.8+ MB\n"
     ]
    }
   ],
   "source": [
    "df_train.info()"
   ]
  },
  {
   "cell_type": "markdown",
   "id": "enhanced-northwest",
   "metadata": {
    "id": "enhanced-northwest"
   },
   "source": [
    "###  어린이집 파생변수 만들기"
   ]
  },
  {
   "cell_type": "code",
   "execution_count": null,
   "id": "optimum-comparative",
   "metadata": {
    "colab": {
     "base_uri": "https://localhost:8080/"
    },
    "executionInfo": {
     "elapsed": 351,
     "status": "ok",
     "timestamp": 1645122788436,
     "user": {
      "displayName": "최윤성",
      "photoUrl": "https://lh3.googleusercontent.com/a-/AOh14GhPE9xSgYvruTxaBI1PrRZRNWn21DzdbLmy5HR0Xg=s64",
      "userId": "17937737491555296546"
     },
     "user_tz": -540
    },
    "id": "optimum-comparative",
    "outputId": "5d0ab959-d35a-441b-9d87-e936c0aa2416"
   },
   "outputs": [
    {
     "data": {
      "text/plain": [
       "(7551, 11)"
      ]
     },
     "execution_count": 99,
     "metadata": {},
     "output_type": "execute_result"
    }
   ],
   "source": [
    "try:\n",
    "    day_care_center = pd.read_csv('/content/drive/MyDrive/day_care_center.csv')\n",
    "except:\n",
    "    day_care_center = pd.read_csv('day_care_center.csv')\n",
    "day_care_center.shape"
   ]
  },
  {
   "cell_type": "code",
   "execution_count": null,
   "id": "hungarian-present",
   "metadata": {
    "colab": {
     "base_uri": "https://localhost:8080/"
    },
    "executionInfo": {
     "elapsed": 7,
     "status": "ok",
     "timestamp": 1645122788436,
     "user": {
      "displayName": "최윤성",
      "photoUrl": "https://lh3.googleusercontent.com/a-/AOh14GhPE9xSgYvruTxaBI1PrRZRNWn21DzdbLmy5HR0Xg=s64",
      "userId": "17937737491555296546"
     },
     "user_tz": -540
    },
    "id": "hungarian-present",
    "outputId": "967f657e-7ca8-4ffb-bfe1-ec7e3c9a4da6"
   },
   "outputs": [
    {
     "data": {
      "text/plain": [
       "(5656, 11)"
      ]
     },
     "execution_count": 100,
     "metadata": {},
     "output_type": "execute_result"
    }
   ],
   "source": [
    "busan = day_care_center[day_care_center['city'] == '부산광역시'].index\n",
    "day_care_center=day_care_center.drop(busan)\n",
    "day_care_center.shape"
   ]
  },
  {
   "cell_type": "code",
   "execution_count": null,
   "id": "c03b3a62",
   "metadata": {
    "colab": {
     "base_uri": "https://localhost:8080/"
    },
    "executionInfo": {
     "elapsed": 7,
     "status": "ok",
     "timestamp": 1645122788436,
     "user": {
      "displayName": "최윤성",
      "photoUrl": "https://lh3.googleusercontent.com/a-/AOh14GhPE9xSgYvruTxaBI1PrRZRNWn21DzdbLmy5HR0Xg=s64",
      "userId": "17937737491555296546"
     },
     "user_tz": -540
    },
    "id": "c03b3a62",
    "outputId": "4bd2e483-ac50-4a69-9990-161ce8c48d74"
   },
   "outputs": [
    {
     "data": {
      "text/html": [
       "<div>\n",
       "<style scoped>\n",
       "    .dataframe tbody tr th:only-of-type {\n",
       "        vertical-align: middle;\n",
       "    }\n",
       "\n",
       "    .dataframe tbody tr th {\n",
       "        vertical-align: top;\n",
       "    }\n",
       "\n",
       "    .dataframe thead th {\n",
       "        text-align: right;\n",
       "    }\n",
       "</style>\n",
       "<table border=\"1\" class=\"dataframe\">\n",
       "  <thead>\n",
       "    <tr style=\"text-align: right;\">\n",
       "      <th></th>\n",
       "      <th>city</th>\n",
       "      <th>gu</th>\n",
       "      <th>day_care_name</th>\n",
       "      <th>day_care_type</th>\n",
       "      <th>day_care_baby_num</th>\n",
       "      <th>teacher_num</th>\n",
       "      <th>nursing_room_num</th>\n",
       "      <th>playground_num</th>\n",
       "      <th>CCTV_num</th>\n",
       "      <th>is_commuting_vehicle</th>\n",
       "      <th>reference_date</th>\n",
       "    </tr>\n",
       "  </thead>\n",
       "  <tbody>\n",
       "    <tr>\n",
       "      <th>0</th>\n",
       "      <td>서울특별시</td>\n",
       "      <td>서대문구</td>\n",
       "      <td>가람어린이집</td>\n",
       "      <td>국공립</td>\n",
       "      <td>70</td>\n",
       "      <td>11.0</td>\n",
       "      <td>5.0</td>\n",
       "      <td>1.0</td>\n",
       "      <td>7.0</td>\n",
       "      <td>N</td>\n",
       "      <td>2018-07-31</td>\n",
       "    </tr>\n",
       "    <tr>\n",
       "      <th>1</th>\n",
       "      <td>서울특별시</td>\n",
       "      <td>서대문구</td>\n",
       "      <td>가좌제일어린이집</td>\n",
       "      <td>국공립</td>\n",
       "      <td>88</td>\n",
       "      <td>22.0</td>\n",
       "      <td>5.0</td>\n",
       "      <td>2.0</td>\n",
       "      <td>10.0</td>\n",
       "      <td>N</td>\n",
       "      <td>2018-07-31</td>\n",
       "    </tr>\n",
       "    <tr>\n",
       "      <th>2</th>\n",
       "      <td>서울특별시</td>\n",
       "      <td>서대문구</td>\n",
       "      <td>경찰청어린이집</td>\n",
       "      <td>직장</td>\n",
       "      <td>90</td>\n",
       "      <td>23.0</td>\n",
       "      <td>6.0</td>\n",
       "      <td>1.0</td>\n",
       "      <td>32.0</td>\n",
       "      <td>N</td>\n",
       "      <td>2018-07-31</td>\n",
       "    </tr>\n",
       "  </tbody>\n",
       "</table>\n",
       "</div>"
      ],
      "text/plain": [
       "    city    gu day_care_name day_care_type  day_care_baby_num  teacher_num  \\\n",
       "0  서울특별시  서대문구        가람어린이집           국공립                 70         11.0   \n",
       "1  서울특별시  서대문구      가좌제일어린이집           국공립                 88         22.0   \n",
       "2  서울특별시  서대문구       경찰청어린이집            직장                 90         23.0   \n",
       "\n",
       "   nursing_room_num  playground_num  CCTV_num is_commuting_vehicle  \\\n",
       "0               5.0             1.0       7.0                    N   \n",
       "1               5.0             2.0      10.0                    N   \n",
       "2               6.0             1.0      32.0                    N   \n",
       "\n",
       "  reference_date  \n",
       "0     2018-07-31  \n",
       "1     2018-07-31  \n",
       "2     2018-07-31  "
      ]
     },
     "execution_count": 101,
     "metadata": {},
     "output_type": "execute_result"
    }
   ],
   "source": [
    "day_care_center.head(3)"
   ]
  },
  {
   "cell_type": "code",
   "execution_count": null,
   "id": "374bfb2b",
   "metadata": {
    "colab": {
     "base_uri": "https://localhost:8080/"
    },
    "executionInfo": {
     "elapsed": 7,
     "status": "ok",
     "timestamp": 1645122788437,
     "user": {
      "displayName": "최윤성",
      "photoUrl": "https://lh3.googleusercontent.com/a-/AOh14GhPE9xSgYvruTxaBI1PrRZRNWn21DzdbLmy5HR0Xg=s64",
      "userId": "17937737491555296546"
     },
     "user_tz": -540
    },
    "id": "374bfb2b",
    "outputId": "2a1e8cc5-6bc0-41cb-ec56-27708bbaf64b"
   },
   "outputs": [
    {
     "data": {
      "text/html": [
       "<div>\n",
       "<style scoped>\n",
       "    .dataframe tbody tr th:only-of-type {\n",
       "        vertical-align: middle;\n",
       "    }\n",
       "\n",
       "    .dataframe tbody tr th {\n",
       "        vertical-align: top;\n",
       "    }\n",
       "\n",
       "    .dataframe thead th {\n",
       "        text-align: right;\n",
       "    }\n",
       "</style>\n",
       "<table border=\"1\" class=\"dataframe\">\n",
       "  <thead>\n",
       "    <tr style=\"text-align: right;\">\n",
       "      <th></th>\n",
       "      <th>city</th>\n",
       "    </tr>\n",
       "    <tr>\n",
       "      <th>gu</th>\n",
       "      <th></th>\n",
       "    </tr>\n",
       "  </thead>\n",
       "  <tbody>\n",
       "    <tr>\n",
       "      <th>강남구</th>\n",
       "      <td>223</td>\n",
       "    </tr>\n",
       "    <tr>\n",
       "      <th>강동구</th>\n",
       "      <td>272</td>\n",
       "    </tr>\n",
       "    <tr>\n",
       "      <th>강북구</th>\n",
       "      <td>167</td>\n",
       "    </tr>\n",
       "  </tbody>\n",
       "</table>\n",
       "</div>"
      ],
      "text/plain": [
       "     city\n",
       "gu       \n",
       "강남구   223\n",
       "강동구   272\n",
       "강북구   167"
      ]
     },
     "execution_count": 102,
     "metadata": {},
     "output_type": "execute_result"
    }
   ],
   "source": [
    "day_care_center_num = day_care_center[['gu','city']].groupby('gu').count()\n",
    "day_care_center_num.head(3)"
   ]
  },
  {
   "cell_type": "code",
   "execution_count": null,
   "id": "eed8a91e",
   "metadata": {
    "id": "eed8a91e"
   },
   "outputs": [],
   "source": [
    "day_care_center_num = day_care_center_num.to_dict()"
   ]
  },
  {
   "cell_type": "code",
   "execution_count": null,
   "id": "3e549eb9",
   "metadata": {
    "colab": {
     "base_uri": "https://localhost:8080/"
    },
    "executionInfo": {
     "elapsed": 7,
     "status": "ok",
     "timestamp": 1645122788437,
     "user": {
      "displayName": "최윤성",
      "photoUrl": "https://lh3.googleusercontent.com/a-/AOh14GhPE9xSgYvruTxaBI1PrRZRNWn21DzdbLmy5HR0Xg=s64",
      "userId": "17937737491555296546"
     },
     "user_tz": -540
    },
    "id": "3e549eb9",
    "outputId": "e68f702f-c70c-46c3-e519-6e1f93e4dd8c"
   },
   "outputs": [
    {
     "data": {
      "text/html": [
       "<div>\n",
       "<style scoped>\n",
       "    .dataframe tbody tr th:only-of-type {\n",
       "        vertical-align: middle;\n",
       "    }\n",
       "\n",
       "    .dataframe tbody tr th {\n",
       "        vertical-align: top;\n",
       "    }\n",
       "\n",
       "    .dataframe thead th {\n",
       "        text-align: right;\n",
       "    }\n",
       "</style>\n",
       "<table border=\"1\" class=\"dataframe\">\n",
       "  <thead>\n",
       "    <tr style=\"text-align: right;\">\n",
       "      <th></th>\n",
       "      <th>apartment_id</th>\n",
       "      <th>city</th>\n",
       "      <th>dong</th>\n",
       "      <th>jibun</th>\n",
       "      <th>apt</th>\n",
       "      <th>exclusive_use_area</th>\n",
       "      <th>year_of_completion</th>\n",
       "      <th>transaction_year_month</th>\n",
       "      <th>transaction_date</th>\n",
       "      <th>floor</th>\n",
       "      <th>...</th>\n",
       "      <th>line7_0.2km</th>\n",
       "      <th>line7_0.5km</th>\n",
       "      <th>line7_1km</th>\n",
       "      <th>line8_0.2km</th>\n",
       "      <th>line8_0.5km</th>\n",
       "      <th>line8_1km</th>\n",
       "      <th>line9_0.2km</th>\n",
       "      <th>line9_0.5km</th>\n",
       "      <th>line9_1km</th>\n",
       "      <th>count_gu_daycare</th>\n",
       "    </tr>\n",
       "  </thead>\n",
       "  <tbody>\n",
       "    <tr>\n",
       "      <th>0</th>\n",
       "      <td>7622</td>\n",
       "      <td>서울특별시</td>\n",
       "      <td>신교동</td>\n",
       "      <td>6-13</td>\n",
       "      <td>신현(101동)</td>\n",
       "      <td>84.82</td>\n",
       "      <td>2002</td>\n",
       "      <td>200801</td>\n",
       "      <td>21~31</td>\n",
       "      <td>2</td>\n",
       "      <td>...</td>\n",
       "      <td>0</td>\n",
       "      <td>0</td>\n",
       "      <td>0</td>\n",
       "      <td>0</td>\n",
       "      <td>0</td>\n",
       "      <td>0</td>\n",
       "      <td>0</td>\n",
       "      <td>0</td>\n",
       "      <td>0</td>\n",
       "      <td>78.0</td>\n",
       "    </tr>\n",
       "    <tr>\n",
       "      <th>1</th>\n",
       "      <td>5399</td>\n",
       "      <td>서울특별시</td>\n",
       "      <td>필운동</td>\n",
       "      <td>142</td>\n",
       "      <td>사직파크맨션</td>\n",
       "      <td>99.17</td>\n",
       "      <td>1973</td>\n",
       "      <td>200801</td>\n",
       "      <td>1~10</td>\n",
       "      <td>6</td>\n",
       "      <td>...</td>\n",
       "      <td>0</td>\n",
       "      <td>0</td>\n",
       "      <td>0</td>\n",
       "      <td>0</td>\n",
       "      <td>0</td>\n",
       "      <td>0</td>\n",
       "      <td>0</td>\n",
       "      <td>0</td>\n",
       "      <td>0</td>\n",
       "      <td>78.0</td>\n",
       "    </tr>\n",
       "    <tr>\n",
       "      <th>2</th>\n",
       "      <td>3578</td>\n",
       "      <td>서울특별시</td>\n",
       "      <td>필운동</td>\n",
       "      <td>174-1</td>\n",
       "      <td>두레엘리시안</td>\n",
       "      <td>84.74</td>\n",
       "      <td>2007</td>\n",
       "      <td>200801</td>\n",
       "      <td>1~10</td>\n",
       "      <td>6</td>\n",
       "      <td>...</td>\n",
       "      <td>0</td>\n",
       "      <td>0</td>\n",
       "      <td>0</td>\n",
       "      <td>0</td>\n",
       "      <td>0</td>\n",
       "      <td>0</td>\n",
       "      <td>0</td>\n",
       "      <td>0</td>\n",
       "      <td>0</td>\n",
       "      <td>78.0</td>\n",
       "    </tr>\n",
       "    <tr>\n",
       "      <th>3</th>\n",
       "      <td>10957</td>\n",
       "      <td>서울특별시</td>\n",
       "      <td>내수동</td>\n",
       "      <td>95</td>\n",
       "      <td>파크팰리스</td>\n",
       "      <td>146.39</td>\n",
       "      <td>2003</td>\n",
       "      <td>200801</td>\n",
       "      <td>11~20</td>\n",
       "      <td>15</td>\n",
       "      <td>...</td>\n",
       "      <td>0</td>\n",
       "      <td>0</td>\n",
       "      <td>0</td>\n",
       "      <td>0</td>\n",
       "      <td>0</td>\n",
       "      <td>0</td>\n",
       "      <td>0</td>\n",
       "      <td>0</td>\n",
       "      <td>0</td>\n",
       "      <td>78.0</td>\n",
       "    </tr>\n",
       "    <tr>\n",
       "      <th>4</th>\n",
       "      <td>10639</td>\n",
       "      <td>서울특별시</td>\n",
       "      <td>내수동</td>\n",
       "      <td>110-15</td>\n",
       "      <td>킹스매너</td>\n",
       "      <td>194.43</td>\n",
       "      <td>2004</td>\n",
       "      <td>200801</td>\n",
       "      <td>21~31</td>\n",
       "      <td>3</td>\n",
       "      <td>...</td>\n",
       "      <td>0</td>\n",
       "      <td>0</td>\n",
       "      <td>0</td>\n",
       "      <td>0</td>\n",
       "      <td>0</td>\n",
       "      <td>0</td>\n",
       "      <td>0</td>\n",
       "      <td>0</td>\n",
       "      <td>0</td>\n",
       "      <td>78.0</td>\n",
       "    </tr>\n",
       "    <tr>\n",
       "      <th>...</th>\n",
       "      <td>...</td>\n",
       "      <td>...</td>\n",
       "      <td>...</td>\n",
       "      <td>...</td>\n",
       "      <td>...</td>\n",
       "      <td>...</td>\n",
       "      <td>...</td>\n",
       "      <td>...</td>\n",
       "      <td>...</td>\n",
       "      <td>...</td>\n",
       "      <td>...</td>\n",
       "      <td>...</td>\n",
       "      <td>...</td>\n",
       "      <td>...</td>\n",
       "      <td>...</td>\n",
       "      <td>...</td>\n",
       "      <td>...</td>\n",
       "      <td>...</td>\n",
       "      <td>...</td>\n",
       "      <td>...</td>\n",
       "      <td>...</td>\n",
       "    </tr>\n",
       "    <tr>\n",
       "      <th>1184014</th>\n",
       "      <td>996</td>\n",
       "      <td>서울특별시</td>\n",
       "      <td>강일동</td>\n",
       "      <td>717</td>\n",
       "      <td>고덕리엔파크2단지</td>\n",
       "      <td>59.72</td>\n",
       "      <td>2011</td>\n",
       "      <td>201711</td>\n",
       "      <td>11~20</td>\n",
       "      <td>9</td>\n",
       "      <td>...</td>\n",
       "      <td>0</td>\n",
       "      <td>0</td>\n",
       "      <td>0</td>\n",
       "      <td>0</td>\n",
       "      <td>0</td>\n",
       "      <td>0</td>\n",
       "      <td>0</td>\n",
       "      <td>0</td>\n",
       "      <td>0</td>\n",
       "      <td>272.0</td>\n",
       "    </tr>\n",
       "    <tr>\n",
       "      <th>1184015</th>\n",
       "      <td>682</td>\n",
       "      <td>서울특별시</td>\n",
       "      <td>강일동</td>\n",
       "      <td>674</td>\n",
       "      <td>강일리버파크3단지</td>\n",
       "      <td>59.87</td>\n",
       "      <td>2009</td>\n",
       "      <td>201711</td>\n",
       "      <td>21~30</td>\n",
       "      <td>12</td>\n",
       "      <td>...</td>\n",
       "      <td>0</td>\n",
       "      <td>0</td>\n",
       "      <td>0</td>\n",
       "      <td>0</td>\n",
       "      <td>0</td>\n",
       "      <td>0</td>\n",
       "      <td>0</td>\n",
       "      <td>0</td>\n",
       "      <td>0</td>\n",
       "      <td>272.0</td>\n",
       "    </tr>\n",
       "    <tr>\n",
       "      <th>1184016</th>\n",
       "      <td>682</td>\n",
       "      <td>서울특별시</td>\n",
       "      <td>강일동</td>\n",
       "      <td>674</td>\n",
       "      <td>강일리버파크3단지</td>\n",
       "      <td>84.74</td>\n",
       "      <td>2009</td>\n",
       "      <td>201711</td>\n",
       "      <td>21~30</td>\n",
       "      <td>3</td>\n",
       "      <td>...</td>\n",
       "      <td>0</td>\n",
       "      <td>0</td>\n",
       "      <td>0</td>\n",
       "      <td>0</td>\n",
       "      <td>0</td>\n",
       "      <td>0</td>\n",
       "      <td>0</td>\n",
       "      <td>0</td>\n",
       "      <td>0</td>\n",
       "      <td>272.0</td>\n",
       "    </tr>\n",
       "    <tr>\n",
       "      <th>1184017</th>\n",
       "      <td>680</td>\n",
       "      <td>서울특별시</td>\n",
       "      <td>강일동</td>\n",
       "      <td>665</td>\n",
       "      <td>강일리버파크1단지</td>\n",
       "      <td>84.74</td>\n",
       "      <td>2009</td>\n",
       "      <td>201711</td>\n",
       "      <td>21~30</td>\n",
       "      <td>9</td>\n",
       "      <td>...</td>\n",
       "      <td>0</td>\n",
       "      <td>0</td>\n",
       "      <td>0</td>\n",
       "      <td>0</td>\n",
       "      <td>0</td>\n",
       "      <td>0</td>\n",
       "      <td>0</td>\n",
       "      <td>0</td>\n",
       "      <td>0</td>\n",
       "      <td>272.0</td>\n",
       "    </tr>\n",
       "    <tr>\n",
       "      <th>1184018</th>\n",
       "      <td>996</td>\n",
       "      <td>서울특별시</td>\n",
       "      <td>강일동</td>\n",
       "      <td>717</td>\n",
       "      <td>고덕리엔파크2단지</td>\n",
       "      <td>84.98</td>\n",
       "      <td>2011</td>\n",
       "      <td>201711</td>\n",
       "      <td>21~30</td>\n",
       "      <td>8</td>\n",
       "      <td>...</td>\n",
       "      <td>0</td>\n",
       "      <td>0</td>\n",
       "      <td>0</td>\n",
       "      <td>0</td>\n",
       "      <td>0</td>\n",
       "      <td>0</td>\n",
       "      <td>0</td>\n",
       "      <td>0</td>\n",
       "      <td>0</td>\n",
       "      <td>272.0</td>\n",
       "    </tr>\n",
       "  </tbody>\n",
       "</table>\n",
       "<p>742285 rows × 45 columns</p>\n",
       "</div>"
      ],
      "text/plain": [
       "         apartment_id   city dong   jibun        apt  exclusive_use_area  \\\n",
       "0                7622  서울특별시  신교동    6-13   신현(101동)               84.82   \n",
       "1                5399  서울특별시  필운동     142     사직파크맨션               99.17   \n",
       "2                3578  서울특별시  필운동   174-1     두레엘리시안               84.74   \n",
       "3               10957  서울특별시  내수동      95      파크팰리스              146.39   \n",
       "4               10639  서울특별시  내수동  110-15       킹스매너              194.43   \n",
       "...               ...    ...  ...     ...        ...                 ...   \n",
       "1184014           996  서울특별시  강일동     717  고덕리엔파크2단지               59.72   \n",
       "1184015           682  서울특별시  강일동     674  강일리버파크3단지               59.87   \n",
       "1184016           682  서울특별시  강일동     674  강일리버파크3단지               84.74   \n",
       "1184017           680  서울특별시  강일동     665  강일리버파크1단지               84.74   \n",
       "1184018           996  서울특별시  강일동     717  고덕리엔파크2단지               84.98   \n",
       "\n",
       "         year_of_completion  transaction_year_month transaction_date  floor  \\\n",
       "0                      2002                  200801            21~31      2   \n",
       "1                      1973                  200801             1~10      6   \n",
       "2                      2007                  200801             1~10      6   \n",
       "3                      2003                  200801            11~20     15   \n",
       "4                      2004                  200801            21~31      3   \n",
       "...                     ...                     ...              ...    ...   \n",
       "1184014                2011                  201711            11~20      9   \n",
       "1184015                2009                  201711            21~30     12   \n",
       "1184016                2009                  201711            21~30      3   \n",
       "1184017                2009                  201711            21~30      9   \n",
       "1184018                2011                  201711            21~30      8   \n",
       "\n",
       "         ...  line7_0.2km  line7_0.5km  line7_1km  line8_0.2km  line8_0.5km  \\\n",
       "0        ...            0            0          0            0            0   \n",
       "1        ...            0            0          0            0            0   \n",
       "2        ...            0            0          0            0            0   \n",
       "3        ...            0            0          0            0            0   \n",
       "4        ...            0            0          0            0            0   \n",
       "...      ...          ...          ...        ...          ...          ...   \n",
       "1184014  ...            0            0          0            0            0   \n",
       "1184015  ...            0            0          0            0            0   \n",
       "1184016  ...            0            0          0            0            0   \n",
       "1184017  ...            0            0          0            0            0   \n",
       "1184018  ...            0            0          0            0            0   \n",
       "\n",
       "        line8_1km  line9_0.2km  line9_0.5km  line9_1km  count_gu_daycare  \n",
       "0               0            0            0          0              78.0  \n",
       "1               0            0            0          0              78.0  \n",
       "2               0            0            0          0              78.0  \n",
       "3               0            0            0          0              78.0  \n",
       "4               0            0            0          0              78.0  \n",
       "...           ...          ...          ...        ...               ...  \n",
       "1184014         0            0            0          0             272.0  \n",
       "1184015         0            0            0          0             272.0  \n",
       "1184016         0            0            0          0             272.0  \n",
       "1184017         0            0            0          0             272.0  \n",
       "1184018         0            0            0          0             272.0  \n",
       "\n",
       "[742285 rows x 45 columns]"
      ]
     },
     "execution_count": 104,
     "metadata": {},
     "output_type": "execute_result"
    }
   ],
   "source": [
    "df_train['count_gu_daycare'] = df_train['gu']\n",
    "df_train['count_gu_daycare'] = df_train['count_gu_daycare'].map(day_care_center_num['city'])\n",
    "df_train"
   ]
  },
  {
   "cell_type": "markdown",
   "id": "behavioral-support",
   "metadata": {
    "id": "behavioral-support"
   },
   "source": [
    "### 가중치 설정하기"
   ]
  },
  {
   "cell_type": "code",
   "execution_count": null,
   "id": "wrong-median",
   "metadata": {
    "id": "wrong-median"
   },
   "outputs": [],
   "source": [
    "# 100 단위로 반올림 후 100 나눠줌 = transaction_year_month에서 month 분리\n",
    "transaction_year = df_train['transaction_year_month'].round(-2) / 100\n",
    "transaction_year = transaction_year.astype(int)"
   ]
  },
  {
   "cell_type": "code",
   "execution_count": null,
   "id": "built-woman",
   "metadata": {
    "id": "built-woman"
   },
   "outputs": [],
   "source": [
    "df_train['transaction_year']=transaction_year"
   ]
  },
  {
   "cell_type": "code",
   "execution_count": null,
   "id": "coastal-mechanics",
   "metadata": {
    "colab": {
     "base_uri": "https://localhost:8080/",
     "height": 443
    },
    "executionInfo": {
     "elapsed": 337,
     "status": "ok",
     "timestamp": 1645122788769,
     "user": {
      "displayName": "최윤성",
      "photoUrl": "https://lh3.googleusercontent.com/a-/AOh14GhPE9xSgYvruTxaBI1PrRZRNWn21DzdbLmy5HR0Xg=s64",
      "userId": "17937737491555296546"
     },
     "user_tz": -540
    },
    "id": "coastal-mechanics",
    "outputId": "889d254e-e660-48e5-932a-d0c2f19e5595"
   },
   "outputs": [
    {
     "data": {
      "text/html": [
       "<div>\n",
       "<style scoped>\n",
       "    .dataframe tbody tr th:only-of-type {\n",
       "        vertical-align: middle;\n",
       "    }\n",
       "\n",
       "    .dataframe tbody tr th {\n",
       "        vertical-align: top;\n",
       "    }\n",
       "\n",
       "    .dataframe thead th {\n",
       "        text-align: right;\n",
       "    }\n",
       "</style>\n",
       "<table border=\"1\" class=\"dataframe\">\n",
       "  <thead>\n",
       "    <tr style=\"text-align: right;\">\n",
       "      <th></th>\n",
       "      <th>apartment_id</th>\n",
       "      <th>city</th>\n",
       "      <th>dong</th>\n",
       "      <th>jibun</th>\n",
       "      <th>apt</th>\n",
       "      <th>exclusive_use_area</th>\n",
       "      <th>year_of_completion</th>\n",
       "      <th>transaction_year_month</th>\n",
       "      <th>transaction_date</th>\n",
       "      <th>floor</th>\n",
       "      <th>...</th>\n",
       "      <th>line8_0.5km</th>\n",
       "      <th>line8_1km</th>\n",
       "      <th>line9_0.2km</th>\n",
       "      <th>line9_0.5km</th>\n",
       "      <th>line9_1km</th>\n",
       "      <th>count_gu_daycare</th>\n",
       "      <th>transaction_year</th>\n",
       "      <th>weight2530</th>\n",
       "      <th>weight3035</th>\n",
       "      <th>weight2535</th>\n",
       "    </tr>\n",
       "  </thead>\n",
       "  <tbody>\n",
       "    <tr>\n",
       "      <th>0</th>\n",
       "      <td>7622</td>\n",
       "      <td>서울특별시</td>\n",
       "      <td>신교동</td>\n",
       "      <td>6-13</td>\n",
       "      <td>신현(101동)</td>\n",
       "      <td>84.82</td>\n",
       "      <td>2002</td>\n",
       "      <td>200801</td>\n",
       "      <td>21~31</td>\n",
       "      <td>2</td>\n",
       "      <td>...</td>\n",
       "      <td>0</td>\n",
       "      <td>0</td>\n",
       "      <td>0</td>\n",
       "      <td>0</td>\n",
       "      <td>0</td>\n",
       "      <td>78.0</td>\n",
       "      <td>2008</td>\n",
       "      <td>0</td>\n",
       "      <td>0</td>\n",
       "      <td>0</td>\n",
       "    </tr>\n",
       "    <tr>\n",
       "      <th>1</th>\n",
       "      <td>5399</td>\n",
       "      <td>서울특별시</td>\n",
       "      <td>필운동</td>\n",
       "      <td>142</td>\n",
       "      <td>사직파크맨션</td>\n",
       "      <td>99.17</td>\n",
       "      <td>1973</td>\n",
       "      <td>200801</td>\n",
       "      <td>1~10</td>\n",
       "      <td>6</td>\n",
       "      <td>...</td>\n",
       "      <td>0</td>\n",
       "      <td>0</td>\n",
       "      <td>0</td>\n",
       "      <td>0</td>\n",
       "      <td>0</td>\n",
       "      <td>78.0</td>\n",
       "      <td>2008</td>\n",
       "      <td>0</td>\n",
       "      <td>0</td>\n",
       "      <td>0</td>\n",
       "    </tr>\n",
       "    <tr>\n",
       "      <th>2</th>\n",
       "      <td>3578</td>\n",
       "      <td>서울특별시</td>\n",
       "      <td>필운동</td>\n",
       "      <td>174-1</td>\n",
       "      <td>두레엘리시안</td>\n",
       "      <td>84.74</td>\n",
       "      <td>2007</td>\n",
       "      <td>200801</td>\n",
       "      <td>1~10</td>\n",
       "      <td>6</td>\n",
       "      <td>...</td>\n",
       "      <td>0</td>\n",
       "      <td>0</td>\n",
       "      <td>0</td>\n",
       "      <td>0</td>\n",
       "      <td>0</td>\n",
       "      <td>78.0</td>\n",
       "      <td>2008</td>\n",
       "      <td>0</td>\n",
       "      <td>0</td>\n",
       "      <td>0</td>\n",
       "    </tr>\n",
       "    <tr>\n",
       "      <th>3</th>\n",
       "      <td>10957</td>\n",
       "      <td>서울특별시</td>\n",
       "      <td>내수동</td>\n",
       "      <td>95</td>\n",
       "      <td>파크팰리스</td>\n",
       "      <td>146.39</td>\n",
       "      <td>2003</td>\n",
       "      <td>200801</td>\n",
       "      <td>11~20</td>\n",
       "      <td>15</td>\n",
       "      <td>...</td>\n",
       "      <td>0</td>\n",
       "      <td>0</td>\n",
       "      <td>0</td>\n",
       "      <td>0</td>\n",
       "      <td>0</td>\n",
       "      <td>78.0</td>\n",
       "      <td>2008</td>\n",
       "      <td>0</td>\n",
       "      <td>0</td>\n",
       "      <td>0</td>\n",
       "    </tr>\n",
       "    <tr>\n",
       "      <th>4</th>\n",
       "      <td>10639</td>\n",
       "      <td>서울특별시</td>\n",
       "      <td>내수동</td>\n",
       "      <td>110-15</td>\n",
       "      <td>킹스매너</td>\n",
       "      <td>194.43</td>\n",
       "      <td>2004</td>\n",
       "      <td>200801</td>\n",
       "      <td>21~31</td>\n",
       "      <td>3</td>\n",
       "      <td>...</td>\n",
       "      <td>0</td>\n",
       "      <td>0</td>\n",
       "      <td>0</td>\n",
       "      <td>0</td>\n",
       "      <td>0</td>\n",
       "      <td>78.0</td>\n",
       "      <td>2008</td>\n",
       "      <td>0</td>\n",
       "      <td>0</td>\n",
       "      <td>0</td>\n",
       "    </tr>\n",
       "  </tbody>\n",
       "</table>\n",
       "<p>5 rows × 49 columns</p>\n",
       "</div>"
      ],
      "text/plain": [
       "   apartment_id   city dong   jibun       apt  exclusive_use_area  \\\n",
       "0          7622  서울특별시  신교동    6-13  신현(101동)               84.82   \n",
       "1          5399  서울특별시  필운동     142    사직파크맨션               99.17   \n",
       "2          3578  서울특별시  필운동   174-1    두레엘리시안               84.74   \n",
       "3         10957  서울특별시  내수동      95     파크팰리스              146.39   \n",
       "4         10639  서울특별시  내수동  110-15      킹스매너              194.43   \n",
       "\n",
       "   year_of_completion  transaction_year_month transaction_date  floor  ...  \\\n",
       "0                2002                  200801            21~31      2  ...   \n",
       "1                1973                  200801             1~10      6  ...   \n",
       "2                2007                  200801             1~10      6  ...   \n",
       "3                2003                  200801            11~20     15  ...   \n",
       "4                2004                  200801            21~31      3  ...   \n",
       "\n",
       "   line8_0.5km  line8_1km  line9_0.2km  line9_0.5km  line9_1km  \\\n",
       "0            0          0            0            0          0   \n",
       "1            0          0            0            0          0   \n",
       "2            0          0            0            0          0   \n",
       "3            0          0            0            0          0   \n",
       "4            0          0            0            0          0   \n",
       "\n",
       "  count_gu_daycare  transaction_year  weight2530  weight3035  weight2535  \n",
       "0             78.0              2008           0           0           0  \n",
       "1             78.0              2008           0           0           0  \n",
       "2             78.0              2008           0           0           0  \n",
       "3             78.0              2008           0           0           0  \n",
       "4             78.0              2008           0           0           0  \n",
       "\n",
       "[5 rows x 49 columns]"
      ]
     },
     "execution_count": 107,
     "metadata": {},
     "output_type": "execute_result"
    }
   ],
   "source": [
    "### 재개발 예정인지 가중치 줌. \n",
    "### 35를 상한선으로 잡은것은 이 이상이 되면 재개발 될 거라는 심리가 떨어져서 임. 25-30 30-35 세개 만들어서 설명력 높은 2개만 살리기\n",
    "df_train['weight2530'] = 0\n",
    "df_train['weight3035'] = 0\n",
    "df_train['weight2535'] = 0\n",
    "df_train.loc[((df_train['transaction_year']-df_train['year_of_completion']) >= 25) & ((df_train['transaction_year']-df_train['year_of_completion']) < 30),'weight2530'] = 1\n",
    "df_train.loc[((df_train['transaction_year']-df_train['year_of_completion']) >= 30) & ((df_train['transaction_year']-df_train['year_of_completion']) < 35),'weight3035'] = 1\n",
    "df_train.loc[((df_train['transaction_year']-df_train['year_of_completion']) >= 25) & ((df_train['transaction_year']-df_train['year_of_completion']) < 35),'weight2535'] = 1\n",
    "\n",
    "df_train.head()"
   ]
  },
  {
   "cell_type": "code",
   "execution_count": null,
   "id": "animal-bracket",
   "metadata": {
    "colab": {
     "base_uri": "https://localhost:8080/"
    },
    "executionInfo": {
     "elapsed": 322,
     "status": "ok",
     "timestamp": 1645122789089,
     "user": {
      "displayName": "최윤성",
      "photoUrl": "https://lh3.googleusercontent.com/a-/AOh14GhPE9xSgYvruTxaBI1PrRZRNWn21DzdbLmy5HR0Xg=s64",
      "userId": "17937737491555296546"
     },
     "user_tz": -540
    },
    "id": "animal-bracket",
    "outputId": "8425150e-435b-422b-ea9c-6c9c30fa38a3"
   },
   "outputs": [
    {
     "name": "stdout",
     "output_type": "stream",
     "text": [
      "<class 'pandas.core.frame.DataFrame'>\n",
      "Int64Index: 742285 entries, 0 to 1184018\n",
      "Data columns (total 49 columns):\n",
      " #   Column                  Non-Null Count   Dtype  \n",
      "---  ------                  --------------   -----  \n",
      " 0   apartment_id            742285 non-null  int64  \n",
      " 1   city                    742285 non-null  object \n",
      " 2   dong                    742285 non-null  object \n",
      " 3   jibun                   742285 non-null  object \n",
      " 4   apt                     742285 non-null  object \n",
      " 5   exclusive_use_area      742285 non-null  float64\n",
      " 6   year_of_completion      742285 non-null  int64  \n",
      " 7   transaction_year_month  742285 non-null  int32  \n",
      " 8   transaction_date        742285 non-null  object \n",
      " 9   floor                   742285 non-null  int64  \n",
      " 10  transaction_real_price  742285 non-null  int64  \n",
      " 11  year                    742285 non-null  int32  \n",
      " 12  month                   742285 non-null  int32  \n",
      " 13  hangang                 742285 non-null  int32  \n",
      " 14  count_park              742285 non-null  int32  \n",
      " 15  gu                      742285 non-null  object \n",
      " 16  count_gu_park           678786 non-null  float64\n",
      " 17  line1_0.2km             742285 non-null  int64  \n",
      " 18  line1_0.5km             742285 non-null  int64  \n",
      " 19  line1_1km               742285 non-null  int64  \n",
      " 20  line2_0.2km             742285 non-null  int64  \n",
      " 21  line2_0.5km             742285 non-null  int64  \n",
      " 22  line2_1km               742285 non-null  int64  \n",
      " 23  line3_0.2km             742285 non-null  int64  \n",
      " 24  line3_0.5km             742285 non-null  int64  \n",
      " 25  line3_1km               742285 non-null  int64  \n",
      " 26  line4_0.2km             742285 non-null  int64  \n",
      " 27  line4_0.5km             742285 non-null  int64  \n",
      " 28  line4_1km               742285 non-null  int64  \n",
      " 29  line5_0.2km             742285 non-null  int64  \n",
      " 30  line5_0.5km             742285 non-null  int64  \n",
      " 31  line5_1km               742285 non-null  int64  \n",
      " 32  line6_0.2km             742285 non-null  int64  \n",
      " 33  line6_0.5km             742285 non-null  int64  \n",
      " 34  line6_1km               742285 non-null  int64  \n",
      " 35  line7_0.2km             742285 non-null  int64  \n",
      " 36  line7_0.5km             742285 non-null  int64  \n",
      " 37  line7_1km               742285 non-null  int64  \n",
      " 38  line8_0.2km             742285 non-null  int64  \n",
      " 39  line8_0.5km             742285 non-null  int64  \n",
      " 40  line8_1km               742285 non-null  int64  \n",
      " 41  line9_0.2km             742285 non-null  int64  \n",
      " 42  line9_0.5km             742285 non-null  int64  \n",
      " 43  line9_1km               742285 non-null  int64  \n",
      " 44  count_gu_daycare        640471 non-null  float64\n",
      " 45  transaction_year        742285 non-null  int32  \n",
      " 46  weight2530              742285 non-null  int64  \n",
      " 47  weight3035              742285 non-null  int64  \n",
      " 48  weight2535              742285 non-null  int64  \n",
      "dtypes: float64(3), int32(6), int64(34), object(6)\n",
      "memory usage: 282.3+ MB\n"
     ]
    }
   ],
   "source": [
    "df_train.info()"
   ]
  },
  {
   "cell_type": "code",
   "execution_count": null,
   "id": "polar-qatar",
   "metadata": {
    "id": "polar-qatar"
   },
   "outputs": [],
   "source": [
    "df_train['house_age'] = df_train['transaction_year'] - df_train['year_of_completion']"
   ]
  },
  {
   "cell_type": "code",
   "execution_count": null,
   "id": "f8181080",
   "metadata": {
    "colab": {
     "base_uri": "https://localhost:8080/",
     "height": 311
    },
    "executionInfo": {
     "elapsed": 5,
     "status": "ok",
     "timestamp": 1645122789090,
     "user": {
      "displayName": "최윤성",
      "photoUrl": "https://lh3.googleusercontent.com/a-/AOh14GhPE9xSgYvruTxaBI1PrRZRNWn21DzdbLmy5HR0Xg=s64",
      "userId": "17937737491555296546"
     },
     "user_tz": -540
    },
    "id": "f8181080",
    "outputId": "8be2775a-15f1-4f50-f2a7-ab44e2326da4"
   },
   "outputs": [
    {
     "data": {
      "text/html": [
       "<div>\n",
       "<style scoped>\n",
       "    .dataframe tbody tr th:only-of-type {\n",
       "        vertical-align: middle;\n",
       "    }\n",
       "\n",
       "    .dataframe tbody tr th {\n",
       "        vertical-align: top;\n",
       "    }\n",
       "\n",
       "    .dataframe thead th {\n",
       "        text-align: right;\n",
       "    }\n",
       "</style>\n",
       "<table border=\"1\" class=\"dataframe\">\n",
       "  <thead>\n",
       "    <tr style=\"text-align: right;\">\n",
       "      <th></th>\n",
       "      <th>apartment_id</th>\n",
       "      <th>city</th>\n",
       "      <th>dong</th>\n",
       "      <th>jibun</th>\n",
       "      <th>apt</th>\n",
       "      <th>exclusive_use_area</th>\n",
       "      <th>year_of_completion</th>\n",
       "      <th>transaction_year_month</th>\n",
       "      <th>transaction_date</th>\n",
       "      <th>floor</th>\n",
       "      <th>...</th>\n",
       "      <th>line8_1km</th>\n",
       "      <th>line9_0.2km</th>\n",
       "      <th>line9_0.5km</th>\n",
       "      <th>line9_1km</th>\n",
       "      <th>count_gu_daycare</th>\n",
       "      <th>transaction_year</th>\n",
       "      <th>weight2530</th>\n",
       "      <th>weight3035</th>\n",
       "      <th>weight2535</th>\n",
       "      <th>house_age</th>\n",
       "    </tr>\n",
       "  </thead>\n",
       "  <tbody>\n",
       "    <tr>\n",
       "      <th>134850</th>\n",
       "      <td>6545</td>\n",
       "      <td>서울특별시</td>\n",
       "      <td>미아동</td>\n",
       "      <td>318-5</td>\n",
       "      <td>성북프라자</td>\n",
       "      <td>68.675</td>\n",
       "      <td>2009</td>\n",
       "      <td>200806</td>\n",
       "      <td>1~10</td>\n",
       "      <td>8</td>\n",
       "      <td>...</td>\n",
       "      <td>0</td>\n",
       "      <td>0</td>\n",
       "      <td>0</td>\n",
       "      <td>0</td>\n",
       "      <td>167.0</td>\n",
       "      <td>2008</td>\n",
       "      <td>0</td>\n",
       "      <td>0</td>\n",
       "      <td>0</td>\n",
       "      <td>-1</td>\n",
       "    </tr>\n",
       "    <tr>\n",
       "      <th>134999</th>\n",
       "      <td>6545</td>\n",
       "      <td>서울특별시</td>\n",
       "      <td>미아동</td>\n",
       "      <td>318-5</td>\n",
       "      <td>성북프라자</td>\n",
       "      <td>68.675</td>\n",
       "      <td>2009</td>\n",
       "      <td>200808</td>\n",
       "      <td>1~10</td>\n",
       "      <td>8</td>\n",
       "      <td>...</td>\n",
       "      <td>0</td>\n",
       "      <td>0</td>\n",
       "      <td>0</td>\n",
       "      <td>0</td>\n",
       "      <td>167.0</td>\n",
       "      <td>2008</td>\n",
       "      <td>0</td>\n",
       "      <td>0</td>\n",
       "      <td>0</td>\n",
       "      <td>-1</td>\n",
       "    </tr>\n",
       "    <tr>\n",
       "      <th>135026</th>\n",
       "      <td>6545</td>\n",
       "      <td>서울특별시</td>\n",
       "      <td>미아동</td>\n",
       "      <td>318-5</td>\n",
       "      <td>성북프라자</td>\n",
       "      <td>68.675</td>\n",
       "      <td>2009</td>\n",
       "      <td>200808</td>\n",
       "      <td>11~20</td>\n",
       "      <td>9</td>\n",
       "      <td>...</td>\n",
       "      <td>0</td>\n",
       "      <td>0</td>\n",
       "      <td>0</td>\n",
       "      <td>0</td>\n",
       "      <td>167.0</td>\n",
       "      <td>2008</td>\n",
       "      <td>0</td>\n",
       "      <td>0</td>\n",
       "      <td>0</td>\n",
       "      <td>-1</td>\n",
       "    </tr>\n",
       "  </tbody>\n",
       "</table>\n",
       "<p>3 rows × 50 columns</p>\n",
       "</div>"
      ],
      "text/plain": [
       "        apartment_id   city dong  jibun    apt  exclusive_use_area  \\\n",
       "134850          6545  서울특별시  미아동  318-5  성북프라자              68.675   \n",
       "134999          6545  서울특별시  미아동  318-5  성북프라자              68.675   \n",
       "135026          6545  서울특별시  미아동  318-5  성북프라자              68.675   \n",
       "\n",
       "        year_of_completion  transaction_year_month transaction_date  floor  \\\n",
       "134850                2009                  200806             1~10      8   \n",
       "134999                2009                  200808             1~10      8   \n",
       "135026                2009                  200808            11~20      9   \n",
       "\n",
       "        ...  line8_1km  line9_0.2km  line9_0.5km  line9_1km  count_gu_daycare  \\\n",
       "134850  ...          0            0            0          0             167.0   \n",
       "134999  ...          0            0            0          0             167.0   \n",
       "135026  ...          0            0            0          0             167.0   \n",
       "\n",
       "       transaction_year  weight2530  weight3035  weight2535  house_age  \n",
       "134850             2008           0           0           0         -1  \n",
       "134999             2008           0           0           0         -1  \n",
       "135026             2008           0           0           0         -1  \n",
       "\n",
       "[3 rows x 50 columns]"
      ]
     },
     "execution_count": 110,
     "metadata": {},
     "output_type": "execute_result"
    }
   ],
   "source": [
    "Negatif = df_train[df_train['house_age'] < 0]\n",
    "Negatif"
   ]
  },
  {
   "cell_type": "code",
   "execution_count": null,
   "id": "c48a4c8a",
   "metadata": {
    "colab": {
     "base_uri": "https://localhost:8080/",
     "height": 443
    },
    "executionInfo": {
     "elapsed": 5,
     "status": "ok",
     "timestamp": 1645122789090,
     "user": {
      "displayName": "최윤성",
      "photoUrl": "https://lh3.googleusercontent.com/a-/AOh14GhPE9xSgYvruTxaBI1PrRZRNWn21DzdbLmy5HR0Xg=s64",
      "userId": "17937737491555296546"
     },
     "user_tz": -540
    },
    "id": "c48a4c8a",
    "outputId": "3d6a0633-834e-4eb5-d73f-d5001438a759"
   },
   "outputs": [
    {
     "data": {
      "text/html": [
       "<div>\n",
       "<style scoped>\n",
       "    .dataframe tbody tr th:only-of-type {\n",
       "        vertical-align: middle;\n",
       "    }\n",
       "\n",
       "    .dataframe tbody tr th {\n",
       "        vertical-align: top;\n",
       "    }\n",
       "\n",
       "    .dataframe thead th {\n",
       "        text-align: right;\n",
       "    }\n",
       "</style>\n",
       "<table border=\"1\" class=\"dataframe\">\n",
       "  <thead>\n",
       "    <tr style=\"text-align: right;\">\n",
       "      <th></th>\n",
       "      <th>apartment_id</th>\n",
       "      <th>city</th>\n",
       "      <th>dong</th>\n",
       "      <th>jibun</th>\n",
       "      <th>apt</th>\n",
       "      <th>exclusive_use_area</th>\n",
       "      <th>year_of_completion</th>\n",
       "      <th>transaction_year_month</th>\n",
       "      <th>transaction_date</th>\n",
       "      <th>floor</th>\n",
       "      <th>...</th>\n",
       "      <th>line8_1km</th>\n",
       "      <th>line9_0.2km</th>\n",
       "      <th>line9_0.5km</th>\n",
       "      <th>line9_1km</th>\n",
       "      <th>count_gu_daycare</th>\n",
       "      <th>transaction_year</th>\n",
       "      <th>weight2530</th>\n",
       "      <th>weight3035</th>\n",
       "      <th>weight2535</th>\n",
       "      <th>house_age</th>\n",
       "    </tr>\n",
       "  </thead>\n",
       "  <tbody>\n",
       "    <tr>\n",
       "      <th>0</th>\n",
       "      <td>7622</td>\n",
       "      <td>서울특별시</td>\n",
       "      <td>신교동</td>\n",
       "      <td>6-13</td>\n",
       "      <td>신현(101동)</td>\n",
       "      <td>84.82</td>\n",
       "      <td>2002</td>\n",
       "      <td>200801</td>\n",
       "      <td>21~31</td>\n",
       "      <td>2</td>\n",
       "      <td>...</td>\n",
       "      <td>0</td>\n",
       "      <td>0</td>\n",
       "      <td>0</td>\n",
       "      <td>0</td>\n",
       "      <td>78.0</td>\n",
       "      <td>2008</td>\n",
       "      <td>0</td>\n",
       "      <td>0</td>\n",
       "      <td>0</td>\n",
       "      <td>6</td>\n",
       "    </tr>\n",
       "    <tr>\n",
       "      <th>1</th>\n",
       "      <td>5399</td>\n",
       "      <td>서울특별시</td>\n",
       "      <td>필운동</td>\n",
       "      <td>142</td>\n",
       "      <td>사직파크맨션</td>\n",
       "      <td>99.17</td>\n",
       "      <td>1973</td>\n",
       "      <td>200801</td>\n",
       "      <td>1~10</td>\n",
       "      <td>6</td>\n",
       "      <td>...</td>\n",
       "      <td>0</td>\n",
       "      <td>0</td>\n",
       "      <td>0</td>\n",
       "      <td>0</td>\n",
       "      <td>78.0</td>\n",
       "      <td>2008</td>\n",
       "      <td>0</td>\n",
       "      <td>0</td>\n",
       "      <td>0</td>\n",
       "      <td>35</td>\n",
       "    </tr>\n",
       "    <tr>\n",
       "      <th>2</th>\n",
       "      <td>3578</td>\n",
       "      <td>서울특별시</td>\n",
       "      <td>필운동</td>\n",
       "      <td>174-1</td>\n",
       "      <td>두레엘리시안</td>\n",
       "      <td>84.74</td>\n",
       "      <td>2007</td>\n",
       "      <td>200801</td>\n",
       "      <td>1~10</td>\n",
       "      <td>6</td>\n",
       "      <td>...</td>\n",
       "      <td>0</td>\n",
       "      <td>0</td>\n",
       "      <td>0</td>\n",
       "      <td>0</td>\n",
       "      <td>78.0</td>\n",
       "      <td>2008</td>\n",
       "      <td>0</td>\n",
       "      <td>0</td>\n",
       "      <td>0</td>\n",
       "      <td>1</td>\n",
       "    </tr>\n",
       "    <tr>\n",
       "      <th>3</th>\n",
       "      <td>10957</td>\n",
       "      <td>서울특별시</td>\n",
       "      <td>내수동</td>\n",
       "      <td>95</td>\n",
       "      <td>파크팰리스</td>\n",
       "      <td>146.39</td>\n",
       "      <td>2003</td>\n",
       "      <td>200801</td>\n",
       "      <td>11~20</td>\n",
       "      <td>15</td>\n",
       "      <td>...</td>\n",
       "      <td>0</td>\n",
       "      <td>0</td>\n",
       "      <td>0</td>\n",
       "      <td>0</td>\n",
       "      <td>78.0</td>\n",
       "      <td>2008</td>\n",
       "      <td>0</td>\n",
       "      <td>0</td>\n",
       "      <td>0</td>\n",
       "      <td>5</td>\n",
       "    </tr>\n",
       "    <tr>\n",
       "      <th>4</th>\n",
       "      <td>10639</td>\n",
       "      <td>서울특별시</td>\n",
       "      <td>내수동</td>\n",
       "      <td>110-15</td>\n",
       "      <td>킹스매너</td>\n",
       "      <td>194.43</td>\n",
       "      <td>2004</td>\n",
       "      <td>200801</td>\n",
       "      <td>21~31</td>\n",
       "      <td>3</td>\n",
       "      <td>...</td>\n",
       "      <td>0</td>\n",
       "      <td>0</td>\n",
       "      <td>0</td>\n",
       "      <td>0</td>\n",
       "      <td>78.0</td>\n",
       "      <td>2008</td>\n",
       "      <td>0</td>\n",
       "      <td>0</td>\n",
       "      <td>0</td>\n",
       "      <td>4</td>\n",
       "    </tr>\n",
       "  </tbody>\n",
       "</table>\n",
       "<p>5 rows × 50 columns</p>\n",
       "</div>"
      ],
      "text/plain": [
       "   apartment_id   city dong   jibun       apt  exclusive_use_area  \\\n",
       "0          7622  서울특별시  신교동    6-13  신현(101동)               84.82   \n",
       "1          5399  서울특별시  필운동     142    사직파크맨션               99.17   \n",
       "2          3578  서울특별시  필운동   174-1    두레엘리시안               84.74   \n",
       "3         10957  서울특별시  내수동      95     파크팰리스              146.39   \n",
       "4         10639  서울특별시  내수동  110-15      킹스매너              194.43   \n",
       "\n",
       "   year_of_completion  transaction_year_month transaction_date  floor  ...  \\\n",
       "0                2002                  200801            21~31      2  ...   \n",
       "1                1973                  200801             1~10      6  ...   \n",
       "2                2007                  200801             1~10      6  ...   \n",
       "3                2003                  200801            11~20     15  ...   \n",
       "4                2004                  200801            21~31      3  ...   \n",
       "\n",
       "   line8_1km  line9_0.2km  line9_0.5km  line9_1km  count_gu_daycare  \\\n",
       "0          0            0            0          0              78.0   \n",
       "1          0            0            0          0              78.0   \n",
       "2          0            0            0          0              78.0   \n",
       "3          0            0            0          0              78.0   \n",
       "4          0            0            0          0              78.0   \n",
       "\n",
       "  transaction_year  weight2530  weight3035  weight2535  house_age  \n",
       "0             2008           0           0           0          6  \n",
       "1             2008           0           0           0         35  \n",
       "2             2008           0           0           0          1  \n",
       "3             2008           0           0           0          5  \n",
       "4             2008           0           0           0          4  \n",
       "\n",
       "[5 rows x 50 columns]"
      ]
     },
     "execution_count": 111,
     "metadata": {},
     "output_type": "execute_result"
    }
   ],
   "source": [
    "df_train.loc[df_train['house_age'] < 0,'house_age'] = 0\n",
    "df_train.head()"
   ]
  },
  {
   "cell_type": "code",
   "execution_count": null,
   "id": "EjTcH-ot2kvy",
   "metadata": {
    "colab": {
     "base_uri": "https://localhost:8080/",
     "height": 302
    },
    "executionInfo": {
     "elapsed": 1843,
     "status": "ok",
     "timestamp": 1645122790929,
     "user": {
      "displayName": "최윤성",
      "photoUrl": "https://lh3.googleusercontent.com/a-/AOh14GhPE9xSgYvruTxaBI1PrRZRNWn21DzdbLmy5HR0Xg=s64",
      "userId": "17937737491555296546"
     },
     "user_tz": -540
    },
    "id": "EjTcH-ot2kvy",
    "outputId": "4c632e43-8a70-4b8e-caef-d8e77f072c37"
   },
   "outputs": [
    {
     "data": {
      "image/png": "[encoded data removed]",
      "text/plain": [
       "<Figure size 432x288 with 1 Axes>"
      ]
     },
     "metadata": {
      "needs_background": "light"
     },
     "output_type": "display_data"
    }
   ],
   "source": [
    "plt.scatter(df_train['house_age'], df_train['transaction_real_price'])\n",
    "plt.xlabel('house_age')\n",
    "plt.ylabel('transaction_real_price')\n",
    "plt.show()"
   ]
  },
  {
   "cell_type": "code",
   "execution_count": null,
   "id": "ce08223a",
   "metadata": {
    "colab": {
     "base_uri": "https://localhost:8080/",
     "height": 302
    },
    "executionInfo": {
     "elapsed": 461,
     "status": "ok",
     "timestamp": 1645122791386,
     "user": {
      "displayName": "최윤성",
      "photoUrl": "https://lh3.googleusercontent.com/a-/AOh14GhPE9xSgYvruTxaBI1PrRZRNWn21DzdbLmy5HR0Xg=s64",
      "userId": "17937737491555296546"
     },
     "user_tz": -540
    },
    "id": "ce08223a",
    "outputId": "aca414cb-c7c6-45fd-c301-15d86b113389"
   },
   "outputs": [
    {
     "data": {
      "image/png": "[encoded data removed]",
      "text/plain": [
       "<Figure size 432x288 with 1 Axes>"
      ]
     },
     "metadata": {
      "needs_background": "light"
     },
     "output_type": "display_data"
    }
   ],
   "source": [
    "data = df_train[['house_age','transaction_real_price']].groupby('house_age').mean().sort_values('house_age').reset_index()\n",
    "plt.plot(data['house_age'],data['transaction_real_price'])\n",
    "plt.xlabel('house_age')\n",
    "plt.ylabel('transaction_real_price')\n",
    "del data"
   ]
  },
  {
   "cell_type": "code",
   "execution_count": null,
   "id": "8dca0a44",
   "metadata": {
    "colab": {
     "base_uri": "https://localhost:8080/"
    },
    "executionInfo": {
     "elapsed": 4,
     "status": "ok",
     "timestamp": 1645122791386,
     "user": {
      "displayName": "최윤성",
      "photoUrl": "https://lh3.googleusercontent.com/a-/AOh14GhPE9xSgYvruTxaBI1PrRZRNWn21DzdbLmy5HR0Xg=s64",
      "userId": "17937737491555296546"
     },
     "user_tz": -540
    },
    "id": "8dca0a44",
    "outputId": "e3ce7215-daef-4c6d-ce76-5782de395bfc"
   },
   "outputs": [
    {
     "name": "stdout",
     "output_type": "stream",
     "text": [
      "<class 'pandas.core.frame.DataFrame'>\n",
      "Int64Index: 742285 entries, 0 to 1184018\n",
      "Data columns (total 50 columns):\n",
      " #   Column                  Non-Null Count   Dtype  \n",
      "---  ------                  --------------   -----  \n",
      " 0   apartment_id            742285 non-null  int64  \n",
      " 1   city                    742285 non-null  object \n",
      " 2   dong                    742285 non-null  object \n",
      " 3   jibun                   742285 non-null  object \n",
      " 4   apt                     742285 non-null  object \n",
      " 5   exclusive_use_area      742285 non-null  float64\n",
      " 6   year_of_completion      742285 non-null  int64  \n",
      " 7   transaction_year_month  742285 non-null  int32  \n",
      " 8   transaction_date        742285 non-null  object \n",
      " 9   floor                   742285 non-null  int64  \n",
      " 10  transaction_real_price  742285 non-null  int64  \n",
      " 11  year                    742285 non-null  int32  \n",
      " 12  month                   742285 non-null  int32  \n",
      " 13  hangang                 742285 non-null  int32  \n",
      " 14  count_park              742285 non-null  int32  \n",
      " 15  gu                      742285 non-null  object \n",
      " 16  count_gu_park           678786 non-null  float64\n",
      " 17  line1_0.2km             742285 non-null  int64  \n",
      " 18  line1_0.5km             742285 non-null  int64  \n",
      " 19  line1_1km               742285 non-null  int64  \n",
      " 20  line2_0.2km             742285 non-null  int64  \n",
      " 21  line2_0.5km             742285 non-null  int64  \n",
      " 22  line2_1km               742285 non-null  int64  \n",
      " 23  line3_0.2km             742285 non-null  int64  \n",
      " 24  line3_0.5km             742285 non-null  int64  \n",
      " 25  line3_1km               742285 non-null  int64  \n",
      " 26  line4_0.2km             742285 non-null  int64  \n",
      " 27  line4_0.5km             742285 non-null  int64  \n",
      " 28  line4_1km               742285 non-null  int64  \n",
      " 29  line5_0.2km             742285 non-null  int64  \n",
      " 30  line5_0.5km             742285 non-null  int64  \n",
      " 31  line5_1km               742285 non-null  int64  \n",
      " 32  line6_0.2km             742285 non-null  int64  \n",
      " 33  line6_0.5km             742285 non-null  int64  \n",
      " 34  line6_1km               742285 non-null  int64  \n",
      " 35  line7_0.2km             742285 non-null  int64  \n",
      " 36  line7_0.5km             742285 non-null  int64  \n",
      " 37  line7_1km               742285 non-null  int64  \n",
      " 38  line8_0.2km             742285 non-null  int64  \n",
      " 39  line8_0.5km             742285 non-null  int64  \n",
      " 40  line8_1km               742285 non-null  int64  \n",
      " 41  line9_0.2km             742285 non-null  int64  \n",
      " 42  line9_0.5km             742285 non-null  int64  \n",
      " 43  line9_1km               742285 non-null  int64  \n",
      " 44  count_gu_daycare        640471 non-null  float64\n",
      " 45  transaction_year        742285 non-null  int32  \n",
      " 46  weight2530              742285 non-null  int64  \n",
      " 47  weight3035              742285 non-null  int64  \n",
      " 48  weight2535              742285 non-null  int64  \n",
      " 49  house_age               742285 non-null  int64  \n",
      "dtypes: float64(3), int32(6), int64(35), object(6)\n",
      "memory usage: 288.0+ MB\n"
     ]
    }
   ],
   "source": [
    "df_train.info()"
   ]
  },
  {
   "cell_type": "markdown",
   "id": "98913bdf",
   "metadata": {
    "id": "98913bdf"
   },
   "source": [
    "### 쓰이지 않거나 가공에 사용된 변수 삭제"
   ]
  },
  {
   "cell_type": "code",
   "execution_count": null,
   "id": "b03ead3f",
   "metadata": {
    "id": "b03ead3f"
   },
   "outputs": [],
   "source": [
    "#city, jibun, apt에 대해 drop\n",
    "df_train.drop(['city','jibun','apt'],axis=1,inplace=True)"
   ]
  },
  {
   "cell_type": "code",
   "execution_count": null,
   "id": "866f9a20",
   "metadata": {
    "id": "866f9a20"
   },
   "outputs": [],
   "source": [
    "df_train.drop(['year_of_completion','transaction_year_month','transaction_year'],axis=1,inplace=True)"
   ]
  },
  {
   "cell_type": "markdown",
   "id": "c80e7af3",
   "metadata": {
    "id": "c80e7af3"
   },
   "source": [
    "### 결측치 제거"
   ]
  },
  {
   "cell_type": "code",
   "execution_count": null,
   "id": "aa2cdfb7",
   "metadata": {
    "id": "aa2cdfb7"
   },
   "outputs": [],
   "source": [
    "#어린이집 및 공원 갯수 변수에 대해 널값 제거후 정수형으로 변환\n",
    "df_train.loc[df_train['count_gu_daycare'].isnull(),'count_gu_daycare'] = 0\n",
    "df_train.loc[df_train['count_gu_park'].isnull(),'count_gu_park'] = 0"
   ]
  },
  {
   "cell_type": "code",
   "execution_count": null,
   "id": "7de1ce18",
   "metadata": {
    "colab": {
     "base_uri": "https://localhost:8080/"
    },
    "executionInfo": {
     "elapsed": 8,
     "status": "ok",
     "timestamp": 1645122791691,
     "user": {
      "displayName": "최윤성",
      "photoUrl": "https://lh3.googleusercontent.com/a-/AOh14GhPE9xSgYvruTxaBI1PrRZRNWn21DzdbLmy5HR0Xg=s64",
      "userId": "17937737491555296546"
     },
     "user_tz": -540
    },
    "id": "7de1ce18",
    "outputId": "d4dd3b5a-b6e5-4edb-a9e7-1f5dde51a254"
   },
   "outputs": [
    {
     "data": {
      "text/plain": [
       "0"
      ]
     },
     "execution_count": 118,
     "metadata": {},
     "output_type": "execute_result"
    }
   ],
   "source": [
    "df_train['count_gu_daycare'].isnull().sum()"
   ]
  },
  {
   "cell_type": "code",
   "execution_count": null,
   "id": "78302696",
   "metadata": {
    "colab": {
     "base_uri": "https://localhost:8080/"
    },
    "executionInfo": {
     "elapsed": 5,
     "status": "ok",
     "timestamp": 1645122791691,
     "user": {
      "displayName": "최윤성",
      "photoUrl": "https://lh3.googleusercontent.com/a-/AOh14GhPE9xSgYvruTxaBI1PrRZRNWn21DzdbLmy5HR0Xg=s64",
      "userId": "17937737491555296546"
     },
     "user_tz": -540
    },
    "id": "78302696",
    "outputId": "b12f5c4d-a76d-4b4b-edbb-4b9108ba7a0f"
   },
   "outputs": [
    {
     "data": {
      "text/plain": [
       "0"
      ]
     },
     "execution_count": 119,
     "metadata": {},
     "output_type": "execute_result"
    }
   ],
   "source": [
    "df_train['count_gu_park'].isnull().sum()"
   ]
  },
  {
   "cell_type": "code",
   "execution_count": null,
   "id": "f6478eb3",
   "metadata": {
    "id": "f6478eb3"
   },
   "outputs": [],
   "source": [
    "df_train['count_gu_daycare'] = df_train['count_gu_daycare'].astype(int)\n",
    "df_train['count_gu_park'] = df_train['count_gu_park'].astype(int)"
   ]
  },
  {
   "cell_type": "code",
   "execution_count": null,
   "id": "539ff165",
   "metadata": {
    "colab": {
     "base_uri": "https://localhost:8080/"
    },
    "executionInfo": {
     "elapsed": 313,
     "status": "ok",
     "timestamp": 1645122792001,
     "user": {
      "displayName": "최윤성",
      "photoUrl": "https://lh3.googleusercontent.com/a-/AOh14GhPE9xSgYvruTxaBI1PrRZRNWn21DzdbLmy5HR0Xg=s64",
      "userId": "17937737491555296546"
     },
     "user_tz": -540
    },
    "id": "539ff165",
    "outputId": "c3bfca04-0cec-46ad-de9c-cd9612785f79",
    "scrolled": false
   },
   "outputs": [
    {
     "name": "stdout",
     "output_type": "stream",
     "text": [
      "<class 'pandas.core.frame.DataFrame'>\n",
      "Int64Index: 742285 entries, 0 to 1184018\n",
      "Data columns (total 44 columns):\n",
      " #   Column                  Non-Null Count   Dtype  \n",
      "---  ------                  --------------   -----  \n",
      " 0   apartment_id            742285 non-null  int64  \n",
      " 1   dong                    742285 non-null  object \n",
      " 2   exclusive_use_area      742285 non-null  float64\n",
      " 3   transaction_date        742285 non-null  object \n",
      " 4   floor                   742285 non-null  int64  \n",
      " 5   transaction_real_price  742285 non-null  int64  \n",
      " 6   year                    742285 non-null  int32  \n",
      " 7   month                   742285 non-null  int32  \n",
      " 8   hangang                 742285 non-null  int32  \n",
      " 9   count_park              742285 non-null  int32  \n",
      " 10  gu                      742285 non-null  object \n",
      " 11  count_gu_park           742285 non-null  int32  \n",
      " 12  line1_0.2km             742285 non-null  int64  \n",
      " 13  line1_0.5km             742285 non-null  int64  \n",
      " 14  line1_1km               742285 non-null  int64  \n",
      " 15  line2_0.2km             742285 non-null  int64  \n",
      " 16  line2_0.5km             742285 non-null  int64  \n",
      " 17  line2_1km               742285 non-null  int64  \n",
      " 18  line3_0.2km             742285 non-null  int64  \n",
      " 19  line3_0.5km             742285 non-null  int64  \n",
      " 20  line3_1km               742285 non-null  int64  \n",
      " 21  line4_0.2km             742285 non-null  int64  \n",
      " 22  line4_0.5km             742285 non-null  int64  \n",
      " 23  line4_1km               742285 non-null  int64  \n",
      " 24  line5_0.2km             742285 non-null  int64  \n",
      " 25  line5_0.5km             742285 non-null  int64  \n",
      " 26  line5_1km               742285 non-null  int64  \n",
      " 27  line6_0.2km             742285 non-null  int64  \n",
      " 28  line6_0.5km             742285 non-null  int64  \n",
      " 29  line6_1km               742285 non-null  int64  \n",
      " 30  line7_0.2km             742285 non-null  int64  \n",
      " 31  line7_0.5km             742285 non-null  int64  \n",
      " 32  line7_1km               742285 non-null  int64  \n",
      " 33  line8_0.2km             742285 non-null  int64  \n",
      " 34  line8_0.5km             742285 non-null  int64  \n",
      " 35  line8_1km               742285 non-null  int64  \n",
      " 36  line9_0.2km             742285 non-null  int64  \n",
      " 37  line9_0.5km             742285 non-null  int64  \n",
      " 38  line9_1km               742285 non-null  int64  \n",
      " 39  count_gu_daycare        742285 non-null  int32  \n",
      " 40  weight2530              742285 non-null  int64  \n",
      " 41  weight3035              742285 non-null  int64  \n",
      " 42  weight2535              742285 non-null  int64  \n",
      " 43  house_age               742285 non-null  int64  \n",
      "dtypes: float64(1), int32(6), int64(34), object(3)\n",
      "memory usage: 254.0+ MB\n"
     ]
    }
   ],
   "source": [
    "df_train.info()"
   ]
  },
  {
   "cell_type": "code",
   "execution_count": null,
   "id": "5dcd97d2",
   "metadata": {
    "id": "5dcd97d2"
   },
   "outputs": [],
   "source": [
    "df_train.to_csv('final_train.csv')"
   ]
  },
  {
   "cell_type": "markdown",
   "id": "b30e3c3c",
   "metadata": {
    "id": "b30e3c3c"
   },
   "source": [
    "### 범주형 변수 인코딩"
   ]
  },
  {
   "cell_type": "code",
   "execution_count": null,
   "id": "8ced542c",
   "metadata": {
    "id": "8ced542c"
   },
   "outputs": [],
   "source": [
    "#여기서부터 다시 시작\n",
    "\n",
    "import pandas as pd\n",
    "import numpy as np\n",
    "import matplotlib.pyplot as plt\n",
    "import seaborn as sns\n",
    "import sklearn\n",
    "\n",
    "plt.style.use('seaborn')\n",
    "sns.set(font_scale=1.5) # 이 두줄은 본 필자가 항상 쓰는 방법입니다. matplotlib 의 기본 scheme 말고 seaborn scheme 을 세팅하고, 일일이 graph 의 font size 를 지정할 필요 없이 seaborn 의 font_scale 을 사용하면 편합니다.\n",
    "\n",
    "#ignore warnings\n",
    "import warnings\n",
    "warnings.filterwarnings('ignore')\n",
    "\n",
    "%matplotlib inline"
   ]
  },
  {
   "cell_type": "code",
   "execution_count": null,
   "id": "25e6b8a0",
   "metadata": {
    "id": "25e6b8a0"
   },
   "outputs": [],
   "source": [
    "df_train = pd.read_csv('final_train.csv')"
   ]
  },
  {
   "cell_type": "code",
   "execution_count": null,
   "id": "b6744366",
   "metadata": {
    "id": "b6744366",
    "scrolled": true
   },
   "outputs": [],
   "source": [
    "#기존의 인덱스가 변수처럼 인식되므로 삭제\n",
    "df_train.drop(['Unnamed: 0'],axis=1,inplace=True)"
   ]
  },
  {
   "cell_type": "code",
   "execution_count": null,
   "id": "0e1f3fdb",
   "metadata": {
    "colab": {
     "base_uri": "https://localhost:8080/"
    },
    "executionInfo": {
     "elapsed": 4,
     "status": "ok",
     "timestamp": 1645122800581,
     "user": {
      "displayName": "최윤성",
      "photoUrl": "https://lh3.googleusercontent.com/a-/AOh14GhPE9xSgYvruTxaBI1PrRZRNWn21DzdbLmy5HR0Xg=s64",
      "userId": "17937737491555296546"
     },
     "user_tz": -540
    },
    "id": "0e1f3fdb",
    "outputId": "71d8b96e-b8d6-4f94-e834-90bcef1d5583",
    "scrolled": true
   },
   "outputs": [
    {
     "name": "stdout",
     "output_type": "stream",
     "text": [
      "<class 'pandas.core.frame.DataFrame'>\n",
      "RangeIndex: 742285 entries, 0 to 742284\n",
      "Data columns (total 44 columns):\n",
      " #   Column                  Non-Null Count   Dtype  \n",
      "---  ------                  --------------   -----  \n",
      " 0   apartment_id            742285 non-null  int64  \n",
      " 1   dong                    742285 non-null  object \n",
      " 2   exclusive_use_area      742285 non-null  float64\n",
      " 3   transaction_date        742285 non-null  object \n",
      " 4   floor                   742285 non-null  int64  \n",
      " 5   transaction_real_price  742285 non-null  int64  \n",
      " 6   year                    742285 non-null  int64  \n",
      " 7   month                   742285 non-null  int64  \n",
      " 8   hangang                 742285 non-null  int64  \n",
      " 9   count_park              742285 non-null  int64  \n",
      " 10  gu                      742285 non-null  object \n",
      " 11  count_gu_park           742285 non-null  int64  \n",
      " 12  line1_0.2km             742285 non-null  int64  \n",
      " 13  line1_0.5km             742285 non-null  int64  \n",
      " 14  line1_1km               742285 non-null  int64  \n",
      " 15  line2_0.2km             742285 non-null  int64  \n",
      " 16  line2_0.5km             742285 non-null  int64  \n",
      " 17  line2_1km               742285 non-null  int64  \n",
      " 18  line3_0.2km             742285 non-null  int64  \n",
      " 19  line3_0.5km             742285 non-null  int64  \n",
      " 20  line3_1km               742285 non-null  int64  \n",
      " 21  line4_0.2km             742285 non-null  int64  \n",
      " 22  line4_0.5km             742285 non-null  int64  \n",
      " 23  line4_1km               742285 non-null  int64  \n",
      " 24  line5_0.2km             742285 non-null  int64  \n",
      " 25  line5_0.5km             742285 non-null  int64  \n",
      " 26  line5_1km               742285 non-null  int64  \n",
      " 27  line6_0.2km             742285 non-null  int64  \n",
      " 28  line6_0.5km             742285 non-null  int64  \n",
      " 29  line6_1km               742285 non-null  int64  \n",
      " 30  line7_0.2km             742285 non-null  int64  \n",
      " 31  line7_0.5km             742285 non-null  int64  \n",
      " 32  line7_1km               742285 non-null  int64  \n",
      " 33  line8_0.2km             742285 non-null  int64  \n",
      " 34  line8_0.5km             742285 non-null  int64  \n",
      " 35  line8_1km               742285 non-null  int64  \n",
      " 36  line9_0.2km             742285 non-null  int64  \n",
      " 37  line9_0.5km             742285 non-null  int64  \n",
      " 38  line9_1km               742285 non-null  int64  \n",
      " 39  count_gu_daycare        742285 non-null  int64  \n",
      " 40  weight2530              742285 non-null  int64  \n",
      " 41  weight3035              742285 non-null  int64  \n",
      " 42  weight2535              742285 non-null  int64  \n",
      " 43  house_age               742285 non-null  int64  \n",
      "dtypes: float64(1), int64(40), object(3)\n",
      "memory usage: 249.2+ MB\n"
     ]
    }
   ],
   "source": [
    "df_train.info()"
   ]
  },
  {
   "cell_type": "markdown",
   "id": "46da7968",
   "metadata": {
    "id": "46da7968"
   },
   "source": [
    "#### 1. 동(dong)"
   ]
  },
  {
   "cell_type": "markdown",
   "id": "e0bdc13d",
   "metadata": {
    "id": "e0bdc13d"
   },
   "source": [
    "##### 동별 집값의 평균 순서로 labeling(label encoding)"
   ]
  },
  {
   "cell_type": "code",
   "execution_count": null,
   "id": "c1b5f7e8",
   "metadata": {
    "id": "c1b5f7e8"
   },
   "outputs": [],
   "source": [
    "df_train_dong = df_train[['transaction_real_price','dong']].groupby('dong').mean().sort_values('transaction_real_price',ascending=False).reset_index()\n",
    "df_train_dong['mean_price_label'] = df_train_dong['transaction_real_price'].rank(ascending=True)\n",
    "df_train_dong['mean_price_label'] = df_train_dong['mean_price_label'].astype(int)\n",
    "df_train_dong = df_train_dong[['dong','mean_price_label']].set_index('dong')\n",
    "dong_label = df_train_dong.to_dict()"
   ]
  },
  {
   "cell_type": "code",
   "execution_count": null,
   "id": "7c206410",
   "metadata": {
    "colab": {
     "base_uri": "https://localhost:8080/"
    },
    "executionInfo": {
     "elapsed": 9,
     "status": "ok",
     "timestamp": 1645122801109,
     "user": {
      "displayName": "최윤성",
      "photoUrl": "https://lh3.googleusercontent.com/a-/AOh14GhPE9xSgYvruTxaBI1PrRZRNWn21DzdbLmy5HR0Xg=s64",
      "userId": "17937737491555296546"
     },
     "user_tz": -540
    },
    "id": "7c206410",
    "outputId": "10d2630d-042e-4fe0-da97-1669c111dc37"
   },
   "outputs": [
    {
     "data": {
      "text/plain": [
       "{'mean_price_label': {'장충동1가': 330,\n",
       "  '압구정동': 329,\n",
       "  '청암동': 328,\n",
       "  '용산동5가': 327,\n",
       "  '회현동2가': 326,\n",
       "  '반포동': 325,\n",
       "  '한남동': 324,\n",
       "  '서빙고동': 323,\n",
       "  '대치동': 322,\n",
       "  '남대문로5가': 321,\n",
       "  '도곡동': 320,\n",
       "  '청담동': 319,\n",
       "  '교남동': 318,\n",
       "  '내수동': 317,\n",
       "  '주성동': 316,\n",
       "  '하중동': 315,\n",
       "  '삼성동': 314,\n",
       "  '잠실동': 313,\n",
       "  '동자동': 312,\n",
       "  '동빙고동': 311,\n",
       "  '회현동1가': 310,\n",
       "  '한강로3가': 309,\n",
       "  '여의도동': 308,\n",
       "  '사직동': 307,\n",
       "  '이촌동': 306,\n",
       "  '서교동': 305,\n",
       "  '견지동': 304,\n",
       "  '잠원동': 303,\n",
       "  '방배동': 302,\n",
       "  '신천동': 301,\n",
       "  '신계동': 300,\n",
       "  '자곡동': 299,\n",
       "  '서초동': 298,\n",
       "  '한강로1가': 297,\n",
       "  '원효로1가': 296,\n",
       "  '방이동': 295,\n",
       "  '내곡동': 294,\n",
       "  '상수동': 293,\n",
       "  '일원동': 292,\n",
       "  '상왕십리동': 291,\n",
       "  '신원동': 290,\n",
       "  '개포동': 289,\n",
       "  '이태원동': 288,\n",
       "  '흥인동': 287,\n",
       "  '율현동': 286,\n",
       "  '평창동': 285,\n",
       "  '한강로2가': 284,\n",
       "  '역삼동': 283,\n",
       "  '우면동': 282,\n",
       "  '논현동': 281,\n",
       "  '세곡동': 280,\n",
       "  '목동': 279,\n",
       "  '동작동': 278,\n",
       "  '아현동': 277,\n",
       "  '성수동1가': 276,\n",
       "  '용강동': 275,\n",
       "  '보광동': 274,\n",
       "  '금호동2가': 273,\n",
       "  '옥인동': 272,\n",
       "  '송파동': 271,\n",
       "  '광장동': 270,\n",
       "  '옥수동': 269,\n",
       "  '청운동': 268,\n",
       "  '흑석동': 267,\n",
       "  '문정동': 266,\n",
       "  '필운동': 265,\n",
       "  '둔촌동': 264,\n",
       "  '정동': 263,\n",
       "  '상암동': 262,\n",
       "  '현석동': 261,\n",
       "  '당산동5가': 260,\n",
       "  '문래동3가': 259,\n",
       "  '무악동': 258,\n",
       "  '신공덕동': 257,\n",
       "  '장지동': 256,\n",
       "  '금호동4가': 255,\n",
       "  '성수동2가': 254,\n",
       "  '공덕동': 253,\n",
       "  '원효로4가': 252,\n",
       "  '문배동': 251,\n",
       "  '자양동': 250,\n",
       "  '중림동': 249,\n",
       "  '만리동1가': 248,\n",
       "  '가락동': 247,\n",
       "  '용문동': 246,\n",
       "  '석촌동': 245,\n",
       "  '수서동': 244,\n",
       "  '구의동': 243,\n",
       "  '고덕동': 242,\n",
       "  '오금동': 241,\n",
       "  '합정동': 240,\n",
       "  '상도동': 239,\n",
       "  '삼선동3가': 238,\n",
       "  '마곡동': 237,\n",
       "  '합동': 236,\n",
       "  '인의동': 235,\n",
       "  '냉천동': 234,\n",
       "  '양재동': 233,\n",
       "  '충무로4가': 232,\n",
       "  '창전동': 231,\n",
       "  '도원동': 230,\n",
       "  '효창동': 229,\n",
       "  '대흥동': 228,\n",
       "  '진관동': 227,\n",
       "  '암사동': 226,\n",
       "  '동교동': 225,\n",
       "  '명륜2가': 224,\n",
       "  '신당동': 223,\n",
       "  '동선동1가': 222,\n",
       "  '본동': 221,\n",
       "  '염리동': 220,\n",
       "  '행당동': 219,\n",
       "  '후암동': 218,\n",
       "  '황학동': 217,\n",
       "  '신정동': 216,\n",
       "  '동소문동5가': 215,\n",
       "  '당주동': 214,\n",
       "  '상일동': 213,\n",
       "  '신대방동': 212,\n",
       "  '도화동': 211,\n",
       "  '당산동4가': 210,\n",
       "  '갈월동': 209,\n",
       "  '토정동': 208,\n",
       "  '금호동3가': 207,\n",
       "  '사당동': 206,\n",
       "  '순화동': 205,\n",
       "  '신도림동': 204,\n",
       "  '산천동': 203,\n",
       "  '응봉동': 202,\n",
       "  '명일동': 201,\n",
       "  '영등포동8가': 200,\n",
       "  '신수동': 199,\n",
       "  '하왕십리동': 198,\n",
       "  '신창동': 197,\n",
       "  '당산동3가': 196,\n",
       "  '북가좌동': 195,\n",
       "  '대방동': 194,\n",
       "  '신교동': 193,\n",
       "  '영천동': 192,\n",
       "  '용산동2가': 191,\n",
       "  '신문로1가': 190,\n",
       "  '보문동4가': 189,\n",
       "  '남가좌동': 188,\n",
       "  '금호동1가': 187,\n",
       "  '보문동3가': 186,\n",
       "  '풍납동': 185,\n",
       "  '도선동': 184,\n",
       "  '군자동': 183,\n",
       "  '혜화동': 182,\n",
       "  '현저동': 181,\n",
       "  '당산동': 180,\n",
       "  '구기동': 179,\n",
       "  '청파동3가': 178,\n",
       "  '길음동': 177,\n",
       "  '도림동': 176,\n",
       "  '남현동': 175,\n",
       "  '북아현동': 174,\n",
       "  '중동': 173,\n",
       "  '필동3가': 172,\n",
       "  '마천동': 171,\n",
       "  '노량진동': 170,\n",
       "  '영등포동': 169,\n",
       "  '구수동': 168,\n",
       "  '삼선동2가': 167,\n",
       "  '성북동1가': 166,\n",
       "  '하월곡동': 165,\n",
       "  '용두동': 164,\n",
       "  '내발산동': 163,\n",
       "  '강일동': 162,\n",
       "  '청량리동': 161,\n",
       "  '동소문동7가': 160,\n",
       "  '연남동': 159,\n",
       "  '안암동1가': 158,\n",
       "  '전농동': 157,\n",
       "  '성산동': 156,\n",
       "  '당산동1가': 155,\n",
       "  '화곡동': 154,\n",
       "  '불광동': 153,\n",
       "  '온수동': 152,\n",
       "  '염창동': 151,\n",
       "  '종암동': 150,\n",
       "  '마장동': 149,\n",
       "  '천왕동': 148,\n",
       "  '양평동3가': 147,\n",
       "  '대현동': 146,\n",
       "  '문래동4가': 145,\n",
       "  '망원동': 144,\n",
       "  '명륜1가': 143,\n",
       "  '봉천동': 142,\n",
       "  '송정동': 141,\n",
       "  '성내동': 140,\n",
       "  '이문동': 139,\n",
       "  '삼선동4가': 138,\n",
       "  '거여동': 137,\n",
       "  '충정로2가': 136,\n",
       "  '장안동': 135,\n",
       "  '양평동5가': 134,\n",
       "  '을지로5가': 133,\n",
       "  '공항동': 132,\n",
       "  '교북동': 131,\n",
       "  '돈암동': 130,\n",
       "  '장위동': 129,\n",
       "  '숭인동': 128,\n",
       "  '답십리동': 127,\n",
       "  '등촌동': 126,\n",
       "  '제기동': 125,\n",
       "  '신길동': 124,\n",
       "  '연희동': 123,\n",
       "  '석관동': 122,\n",
       "  '양평동4가': 121,\n",
       "  '미아동': 120,\n",
       "  '영등포동7가': 119,\n",
       "  '수색동': 118,\n",
       "  '응암동': 117,\n",
       "  '천호동': 116,\n",
       "  '천연동': 115,\n",
       "  '용답동': 114,\n",
       "  '마포동': 113,\n",
       "  '신사동': 112,\n",
       "  '홍제동': 111,\n",
       "  '동선동3가': 110,\n",
       "  '상봉동': 109,\n",
       "  '동선동5가': 108,\n",
       "  '수송동': 107,\n",
       "  '녹번동': 106,\n",
       "  '길동': 105,\n",
       "  '대림동': 104,\n",
       "  '휘경동': 103,\n",
       "  '삼전동': 102,\n",
       "  '문래동5가': 101,\n",
       "  '남산동2가': 100,\n",
       "  '묵동': 99,\n",
       "  '홍은동': 98,\n",
       "  '개봉동': 97,\n",
       "  '청파동1가': 96,\n",
       "  '항동': 95,\n",
       "  '양평동6가': 94,\n",
       "  '충정로3가': 93,\n",
       "  '중계동': 92,\n",
       "  '예장동': 91,\n",
       "  '양평동1가': 90,\n",
       "  '홍익동': 89,\n",
       "  '창신동': 88,\n",
       "  '증산동': 87,\n",
       "  '상월곡동': 86,\n",
       "  '고척동': 85,\n",
       "  '하계동': 84,\n",
       "  '신림동': 83,\n",
       "  '가양동': 82,\n",
       "  '우이동': 81,\n",
       "  '회기동': 80,\n",
       "  '정릉동': 79,\n",
       "  '문래동6가': 78,\n",
       "  '능동': 77,\n",
       "  '동소문동4가': 76,\n",
       "  '사근동': 75,\n",
       "  '당산동2가': 74,\n",
       "  '보문동2가': 73,\n",
       "  '양평동2가': 72,\n",
       "  '보문동6가': 71,\n",
       "  '역촌동': 70,\n",
       "  '중화동': 69,\n",
       "  '방화동': 68,\n",
       "  '창동': 67,\n",
       "  '부암동': 66,\n",
       "  '구로동': 65,\n",
       "  '면목동': 64,\n",
       "  '산림동': 63,\n",
       "  '이화동': 62,\n",
       "  '문래동2가': 61,\n",
       "  '신설동': 60,\n",
       "  '방학동': 59,\n",
       "  '궁동': 58,\n",
       "  '망우동': 57,\n",
       "  '중곡동': 56,\n",
       "  '오류동': 55,\n",
       "  '창천동': 54,\n",
       "  '공릉동': 53,\n",
       "  '상도1동': 52,\n",
       "  '구산동': 51,\n",
       "  '시흥동': 50,\n",
       "  '신내동': 49,\n",
       "  '화양동': 48,\n",
       "  '월계동': 47,\n",
       "  '수유동': 46,\n",
       "  '원효로3가': 45,\n",
       "  '독산동': 44,\n",
       "  '도봉동': 43,\n",
       "  '번동': 42,\n",
       "  '신월동': 41,\n",
       "  '동선동4가': 40,\n",
       "  '낙원동': 39,\n",
       "  '가산동': 38,\n",
       "  '갈현동': 37,\n",
       "  '신영동': 36,\n",
       "  '상계동': 35,\n",
       "  '충무로5가': 34,\n",
       "  '삼선동5가': 33,\n",
       "  '묵정동': 32,\n",
       "  '쌍문동': 31,\n",
       "  '영등포동5가': 30,\n",
       "  '가리봉동': 29,\n",
       "  '동소문동6가': 28,\n",
       "  '원효로2가': 27,\n",
       "  '익선동': 26,\n",
       "  '만리동2가': 25,\n",
       "  '안암동3가': 24,\n",
       "  '노고산동': 23,\n",
       "  '대조동': 22,\n",
       "  '인현동2가': 21,\n",
       "  '명륜3가': 20,\n",
       "  '효제동': 19,\n",
       "  '남창동': 18,\n",
       "  '성북동': 17,\n",
       "  '동숭동': 16,\n",
       "  '연건동': 15,\n",
       "  '충신동': 14,\n",
       "  '통인동': 13,\n",
       "  '당산동6가': 12,\n",
       "  '안암동4가': 11,\n",
       "  '행촌동': 10,\n",
       "  '영등포동1가': 9,\n",
       "  '영등포동4가': 8,\n",
       "  '오장동': 7,\n",
       "  '미근동': 6,\n",
       "  '영등포동2가': 5,\n",
       "  '영등포동3가': 4,\n",
       "  '누상동': 3,\n",
       "  '필동1가': 2,\n",
       "  '장충동2가': 1}}"
      ]
     },
     "execution_count": 128,
     "metadata": {},
     "output_type": "execute_result"
    }
   ],
   "source": [
    "dong_label"
   ]
  },
  {
   "cell_type": "code",
   "execution_count": null,
   "id": "877a52db",
   "metadata": {
    "colab": {
     "base_uri": "https://localhost:8080/",
     "height": 443
    },
    "executionInfo": {
     "elapsed": 7,
     "status": "ok",
     "timestamp": 1645122801109,
     "user": {
      "displayName": "최윤성",
      "photoUrl": "https://lh3.googleusercontent.com/a-/AOh14GhPE9xSgYvruTxaBI1PrRZRNWn21DzdbLmy5HR0Xg=s64",
      "userId": "17937737491555296546"
     },
     "user_tz": -540
    },
    "id": "877a52db",
    "outputId": "cf277127-1312-4207-beea-b54a58e766f9"
   },
   "outputs": [
    {
     "data": {
      "text/html": [
       "<div>\n",
       "<style scoped>\n",
       "    .dataframe tbody tr th:only-of-type {\n",
       "        vertical-align: middle;\n",
       "    }\n",
       "\n",
       "    .dataframe tbody tr th {\n",
       "        vertical-align: top;\n",
       "    }\n",
       "\n",
       "    .dataframe thead th {\n",
       "        text-align: right;\n",
       "    }\n",
       "</style>\n",
       "<table border=\"1\" class=\"dataframe\">\n",
       "  <thead>\n",
       "    <tr style=\"text-align: right;\">\n",
       "      <th></th>\n",
       "      <th>apartment_id</th>\n",
       "      <th>dong</th>\n",
       "      <th>exclusive_use_area</th>\n",
       "      <th>transaction_date</th>\n",
       "      <th>floor</th>\n",
       "      <th>transaction_real_price</th>\n",
       "      <th>year</th>\n",
       "      <th>month</th>\n",
       "      <th>hangang</th>\n",
       "      <th>count_park</th>\n",
       "      <th>...</th>\n",
       "      <th>line8_0.5km</th>\n",
       "      <th>line8_1km</th>\n",
       "      <th>line9_0.2km</th>\n",
       "      <th>line9_0.5km</th>\n",
       "      <th>line9_1km</th>\n",
       "      <th>count_gu_daycare</th>\n",
       "      <th>weight2530</th>\n",
       "      <th>weight3035</th>\n",
       "      <th>weight2535</th>\n",
       "      <th>house_age</th>\n",
       "    </tr>\n",
       "  </thead>\n",
       "  <tbody>\n",
       "    <tr>\n",
       "      <th>0</th>\n",
       "      <td>7622</td>\n",
       "      <td>193</td>\n",
       "      <td>84.82</td>\n",
       "      <td>21~31</td>\n",
       "      <td>2</td>\n",
       "      <td>37500</td>\n",
       "      <td>2008</td>\n",
       "      <td>1</td>\n",
       "      <td>0</td>\n",
       "      <td>0</td>\n",
       "      <td>...</td>\n",
       "      <td>0</td>\n",
       "      <td>0</td>\n",
       "      <td>0</td>\n",
       "      <td>0</td>\n",
       "      <td>0</td>\n",
       "      <td>78</td>\n",
       "      <td>0</td>\n",
       "      <td>0</td>\n",
       "      <td>0</td>\n",
       "      <td>6</td>\n",
       "    </tr>\n",
       "    <tr>\n",
       "      <th>1</th>\n",
       "      <td>5399</td>\n",
       "      <td>265</td>\n",
       "      <td>99.17</td>\n",
       "      <td>1~10</td>\n",
       "      <td>6</td>\n",
       "      <td>20000</td>\n",
       "      <td>2008</td>\n",
       "      <td>1</td>\n",
       "      <td>0</td>\n",
       "      <td>0</td>\n",
       "      <td>...</td>\n",
       "      <td>0</td>\n",
       "      <td>0</td>\n",
       "      <td>0</td>\n",
       "      <td>0</td>\n",
       "      <td>0</td>\n",
       "      <td>78</td>\n",
       "      <td>0</td>\n",
       "      <td>0</td>\n",
       "      <td>0</td>\n",
       "      <td>35</td>\n",
       "    </tr>\n",
       "    <tr>\n",
       "      <th>2</th>\n",
       "      <td>3578</td>\n",
       "      <td>265</td>\n",
       "      <td>84.74</td>\n",
       "      <td>1~10</td>\n",
       "      <td>6</td>\n",
       "      <td>38500</td>\n",
       "      <td>2008</td>\n",
       "      <td>1</td>\n",
       "      <td>0</td>\n",
       "      <td>0</td>\n",
       "      <td>...</td>\n",
       "      <td>0</td>\n",
       "      <td>0</td>\n",
       "      <td>0</td>\n",
       "      <td>0</td>\n",
       "      <td>0</td>\n",
       "      <td>78</td>\n",
       "      <td>0</td>\n",
       "      <td>0</td>\n",
       "      <td>0</td>\n",
       "      <td>1</td>\n",
       "    </tr>\n",
       "    <tr>\n",
       "      <th>3</th>\n",
       "      <td>10957</td>\n",
       "      <td>317</td>\n",
       "      <td>146.39</td>\n",
       "      <td>11~20</td>\n",
       "      <td>15</td>\n",
       "      <td>118000</td>\n",
       "      <td>2008</td>\n",
       "      <td>1</td>\n",
       "      <td>0</td>\n",
       "      <td>0</td>\n",
       "      <td>...</td>\n",
       "      <td>0</td>\n",
       "      <td>0</td>\n",
       "      <td>0</td>\n",
       "      <td>0</td>\n",
       "      <td>0</td>\n",
       "      <td>78</td>\n",
       "      <td>0</td>\n",
       "      <td>0</td>\n",
       "      <td>0</td>\n",
       "      <td>5</td>\n",
       "    </tr>\n",
       "    <tr>\n",
       "      <th>4</th>\n",
       "      <td>10639</td>\n",
       "      <td>317</td>\n",
       "      <td>194.43</td>\n",
       "      <td>21~31</td>\n",
       "      <td>3</td>\n",
       "      <td>120000</td>\n",
       "      <td>2008</td>\n",
       "      <td>1</td>\n",
       "      <td>0</td>\n",
       "      <td>0</td>\n",
       "      <td>...</td>\n",
       "      <td>0</td>\n",
       "      <td>0</td>\n",
       "      <td>0</td>\n",
       "      <td>0</td>\n",
       "      <td>0</td>\n",
       "      <td>78</td>\n",
       "      <td>0</td>\n",
       "      <td>0</td>\n",
       "      <td>0</td>\n",
       "      <td>4</td>\n",
       "    </tr>\n",
       "  </tbody>\n",
       "</table>\n",
       "<p>5 rows × 44 columns</p>\n",
       "</div>"
      ],
      "text/plain": [
       "   apartment_id  dong  exclusive_use_area transaction_date  floor  \\\n",
       "0          7622   193               84.82            21~31      2   \n",
       "1          5399   265               99.17             1~10      6   \n",
       "2          3578   265               84.74             1~10      6   \n",
       "3         10957   317              146.39            11~20     15   \n",
       "4         10639   317              194.43            21~31      3   \n",
       "\n",
       "   transaction_real_price  year  month  hangang  count_park  ... line8_0.5km  \\\n",
       "0                   37500  2008      1        0           0  ...           0   \n",
       "1                   20000  2008      1        0           0  ...           0   \n",
       "2                   38500  2008      1        0           0  ...           0   \n",
       "3                  118000  2008      1        0           0  ...           0   \n",
       "4                  120000  2008      1        0           0  ...           0   \n",
       "\n",
       "   line8_1km  line9_0.2km  line9_0.5km  line9_1km  count_gu_daycare  \\\n",
       "0          0            0            0          0                78   \n",
       "1          0            0            0          0                78   \n",
       "2          0            0            0          0                78   \n",
       "3          0            0            0          0                78   \n",
       "4          0            0            0          0                78   \n",
       "\n",
       "   weight2530  weight3035  weight2535  house_age  \n",
       "0           0           0           0          6  \n",
       "1           0           0           0         35  \n",
       "2           0           0           0          1  \n",
       "3           0           0           0          5  \n",
       "4           0           0           0          4  \n",
       "\n",
       "[5 rows x 44 columns]"
      ]
     },
     "execution_count": 129,
     "metadata": {},
     "output_type": "execute_result"
    }
   ],
   "source": [
    "df_train['dong'] = df_train['dong'].map(dong_label['mean_price_label'])\n",
    "df_train.head()"
   ]
  },
  {
   "cell_type": "markdown",
   "id": "1ce92eb7",
   "metadata": {
    "id": "1ce92eb7"
   },
   "source": [
    "#### 2. 거래일자(transaction_date)"
   ]
  },
  {
   "cell_type": "markdown",
   "id": "ea64002d",
   "metadata": {
    "id": "ea64002d"
   },
   "source": [
    "##### 거래 시작일을 기준으로 labeling(label encoding)"
   ]
  },
  {
   "cell_type": "code",
   "execution_count": null,
   "id": "3b563e94",
   "metadata": {
    "colab": {
     "base_uri": "https://localhost:8080/"
    },
    "executionInfo": {
     "elapsed": 7,
     "status": "ok",
     "timestamp": 1645122801109,
     "user": {
      "displayName": "최윤성",
      "photoUrl": "https://lh3.googleusercontent.com/a-/AOh14GhPE9xSgYvruTxaBI1PrRZRNWn21DzdbLmy5HR0Xg=s64",
      "userId": "17937737491555296546"
     },
     "user_tz": -540
    },
    "id": "3b563e94",
    "outputId": "68544f00-38ba-4de3-8958-14fbd9123169"
   },
   "outputs": [
    {
     "data": {
      "text/plain": [
       "array(['21~31', '1~10', '11~20', '21~29', '21~30', '21~28'], dtype=object)"
      ]
     },
     "execution_count": 130,
     "metadata": {},
     "output_type": "execute_result"
    }
   ],
   "source": [
    "df_train['transaction_date'].unique()"
   ]
  },
  {
   "cell_type": "code",
   "execution_count": null,
   "id": "bc5aa9ce",
   "metadata": {
    "colab": {
     "base_uri": "https://localhost:8080/",
     "height": 206
    },
    "executionInfo": {
     "elapsed": 2077,
     "status": "ok",
     "timestamp": 1645122803184,
     "user": {
      "displayName": "최윤성",
      "photoUrl": "https://lh3.googleusercontent.com/a-/AOh14GhPE9xSgYvruTxaBI1PrRZRNWn21DzdbLmy5HR0Xg=s64",
      "userId": "17937737491555296546"
     },
     "user_tz": -540
    },
    "id": "bc5aa9ce",
    "outputId": "9b708eec-bacd-49f4-895a-aa9f978d685f"
   },
   "outputs": [
    {
     "data": {
      "text/html": [
       "<div>\n",
       "<style scoped>\n",
       "    .dataframe tbody tr th:only-of-type {\n",
       "        vertical-align: middle;\n",
       "    }\n",
       "\n",
       "    .dataframe tbody tr th {\n",
       "        vertical-align: top;\n",
       "    }\n",
       "\n",
       "    .dataframe thead th {\n",
       "        text-align: right;\n",
       "    }\n",
       "</style>\n",
       "<table border=\"1\" class=\"dataframe\">\n",
       "  <thead>\n",
       "    <tr style=\"text-align: right;\">\n",
       "      <th></th>\n",
       "      <th>transaction_date</th>\n",
       "      <th>transaction_real_price</th>\n",
       "      <th>start_date</th>\n",
       "    </tr>\n",
       "  </thead>\n",
       "  <tbody>\n",
       "    <tr>\n",
       "      <th>0</th>\n",
       "      <td>21~31</td>\n",
       "      <td>37500</td>\n",
       "      <td>21</td>\n",
       "    </tr>\n",
       "    <tr>\n",
       "      <th>1</th>\n",
       "      <td>1~10</td>\n",
       "      <td>20000</td>\n",
       "      <td>1</td>\n",
       "    </tr>\n",
       "    <tr>\n",
       "      <th>2</th>\n",
       "      <td>1~10</td>\n",
       "      <td>38500</td>\n",
       "      <td>1</td>\n",
       "    </tr>\n",
       "    <tr>\n",
       "      <th>3</th>\n",
       "      <td>11~20</td>\n",
       "      <td>118000</td>\n",
       "      <td>11</td>\n",
       "    </tr>\n",
       "    <tr>\n",
       "      <th>4</th>\n",
       "      <td>21~31</td>\n",
       "      <td>120000</td>\n",
       "      <td>21</td>\n",
       "    </tr>\n",
       "  </tbody>\n",
       "</table>\n",
       "</div>"
      ],
      "text/plain": [
       "  transaction_date  transaction_real_price start_date\n",
       "0            21~31                   37500         21\n",
       "1             1~10                   20000          1\n",
       "2             1~10                   38500          1\n",
       "3            11~20                  118000         11\n",
       "4            21~31                  120000         21"
      ]
     },
     "execution_count": 131,
     "metadata": {},
     "output_type": "execute_result"
    }
   ],
   "source": [
    "df_train_date = df_train[['transaction_date','transaction_real_price']]\n",
    "df_train_date['start_date'] = df_train_date['transaction_date'].str.extract('(\\d+~)')[0].str[:-1]\n",
    "df_train_date.head()"
   ]
  },
  {
   "cell_type": "code",
   "execution_count": null,
   "id": "686861ce",
   "metadata": {
    "id": "686861ce"
   },
   "outputs": [],
   "source": [
    "date_label = df_train_date[['transaction_date','start_date']].groupby('transaction_date').first().rank(method='min')\n",
    "date_label = date_label.astype(int)\n",
    "date_label = date_label.to_dict()"
   ]
  },
  {
   "cell_type": "code",
   "execution_count": null,
   "id": "aba8ec1a",
   "metadata": {
    "colab": {
     "base_uri": "https://localhost:8080/"
    },
    "executionInfo": {
     "elapsed": 6,
     "status": "ok",
     "timestamp": 1645122803555,
     "user": {
      "displayName": "최윤성",
      "photoUrl": "https://lh3.googleusercontent.com/a-/AOh14GhPE9xSgYvruTxaBI1PrRZRNWn21DzdbLmy5HR0Xg=s64",
      "userId": "17937737491555296546"
     },
     "user_tz": -540
    },
    "id": "aba8ec1a",
    "outputId": "99be94f3-e107-4626-eb90-66943fa6545a"
   },
   "outputs": [
    {
     "data": {
      "text/plain": [
       "{'start_date': {'11~20': 2,\n",
       "  '1~10': 1,\n",
       "  '21~28': 3,\n",
       "  '21~29': 3,\n",
       "  '21~30': 3,\n",
       "  '21~31': 3}}"
      ]
     },
     "execution_count": 133,
     "metadata": {},
     "output_type": "execute_result"
    }
   ],
   "source": [
    "date_label"
   ]
  },
  {
   "cell_type": "code",
   "execution_count": null,
   "id": "30985d61",
   "metadata": {
    "colab": {
     "base_uri": "https://localhost:8080/",
     "height": 443
    },
    "executionInfo": {
     "elapsed": 5,
     "status": "ok",
     "timestamp": 1645122803555,
     "user": {
      "displayName": "최윤성",
      "photoUrl": "https://lh3.googleusercontent.com/a-/AOh14GhPE9xSgYvruTxaBI1PrRZRNWn21DzdbLmy5HR0Xg=s64",
      "userId": "17937737491555296546"
     },
     "user_tz": -540
    },
    "id": "30985d61",
    "outputId": "747251b3-05f5-46e5-df07-eb020391118f"
   },
   "outputs": [
    {
     "data": {
      "text/html": [
       "<div>\n",
       "<style scoped>\n",
       "    .dataframe tbody tr th:only-of-type {\n",
       "        vertical-align: middle;\n",
       "    }\n",
       "\n",
       "    .dataframe tbody tr th {\n",
       "        vertical-align: top;\n",
       "    }\n",
       "\n",
       "    .dataframe thead th {\n",
       "        text-align: right;\n",
       "    }\n",
       "</style>\n",
       "<table border=\"1\" class=\"dataframe\">\n",
       "  <thead>\n",
       "    <tr style=\"text-align: right;\">\n",
       "      <th></th>\n",
       "      <th>apartment_id</th>\n",
       "      <th>dong</th>\n",
       "      <th>exclusive_use_area</th>\n",
       "      <th>transaction_date</th>\n",
       "      <th>floor</th>\n",
       "      <th>transaction_real_price</th>\n",
       "      <th>year</th>\n",
       "      <th>month</th>\n",
       "      <th>hangang</th>\n",
       "      <th>count_park</th>\n",
       "      <th>...</th>\n",
       "      <th>line8_0.5km</th>\n",
       "      <th>line8_1km</th>\n",
       "      <th>line9_0.2km</th>\n",
       "      <th>line9_0.5km</th>\n",
       "      <th>line9_1km</th>\n",
       "      <th>count_gu_daycare</th>\n",
       "      <th>weight2530</th>\n",
       "      <th>weight3035</th>\n",
       "      <th>weight2535</th>\n",
       "      <th>house_age</th>\n",
       "    </tr>\n",
       "  </thead>\n",
       "  <tbody>\n",
       "    <tr>\n",
       "      <th>0</th>\n",
       "      <td>7622</td>\n",
       "      <td>193</td>\n",
       "      <td>84.82</td>\n",
       "      <td>3</td>\n",
       "      <td>2</td>\n",
       "      <td>37500</td>\n",
       "      <td>2008</td>\n",
       "      <td>1</td>\n",
       "      <td>0</td>\n",
       "      <td>0</td>\n",
       "      <td>...</td>\n",
       "      <td>0</td>\n",
       "      <td>0</td>\n",
       "      <td>0</td>\n",
       "      <td>0</td>\n",
       "      <td>0</td>\n",
       "      <td>78</td>\n",
       "      <td>0</td>\n",
       "      <td>0</td>\n",
       "      <td>0</td>\n",
       "      <td>6</td>\n",
       "    </tr>\n",
       "    <tr>\n",
       "      <th>1</th>\n",
       "      <td>5399</td>\n",
       "      <td>265</td>\n",
       "      <td>99.17</td>\n",
       "      <td>1</td>\n",
       "      <td>6</td>\n",
       "      <td>20000</td>\n",
       "      <td>2008</td>\n",
       "      <td>1</td>\n",
       "      <td>0</td>\n",
       "      <td>0</td>\n",
       "      <td>...</td>\n",
       "      <td>0</td>\n",
       "      <td>0</td>\n",
       "      <td>0</td>\n",
       "      <td>0</td>\n",
       "      <td>0</td>\n",
       "      <td>78</td>\n",
       "      <td>0</td>\n",
       "      <td>0</td>\n",
       "      <td>0</td>\n",
       "      <td>35</td>\n",
       "    </tr>\n",
       "    <tr>\n",
       "      <th>2</th>\n",
       "      <td>3578</td>\n",
       "      <td>265</td>\n",
       "      <td>84.74</td>\n",
       "      <td>1</td>\n",
       "      <td>6</td>\n",
       "      <td>38500</td>\n",
       "      <td>2008</td>\n",
       "      <td>1</td>\n",
       "      <td>0</td>\n",
       "      <td>0</td>\n",
       "      <td>...</td>\n",
       "      <td>0</td>\n",
       "      <td>0</td>\n",
       "      <td>0</td>\n",
       "      <td>0</td>\n",
       "      <td>0</td>\n",
       "      <td>78</td>\n",
       "      <td>0</td>\n",
       "      <td>0</td>\n",
       "      <td>0</td>\n",
       "      <td>1</td>\n",
       "    </tr>\n",
       "    <tr>\n",
       "      <th>3</th>\n",
       "      <td>10957</td>\n",
       "      <td>317</td>\n",
       "      <td>146.39</td>\n",
       "      <td>2</td>\n",
       "      <td>15</td>\n",
       "      <td>118000</td>\n",
       "      <td>2008</td>\n",
       "      <td>1</td>\n",
       "      <td>0</td>\n",
       "      <td>0</td>\n",
       "      <td>...</td>\n",
       "      <td>0</td>\n",
       "      <td>0</td>\n",
       "      <td>0</td>\n",
       "      <td>0</td>\n",
       "      <td>0</td>\n",
       "      <td>78</td>\n",
       "      <td>0</td>\n",
       "      <td>0</td>\n",
       "      <td>0</td>\n",
       "      <td>5</td>\n",
       "    </tr>\n",
       "    <tr>\n",
       "      <th>4</th>\n",
       "      <td>10639</td>\n",
       "      <td>317</td>\n",
       "      <td>194.43</td>\n",
       "      <td>3</td>\n",
       "      <td>3</td>\n",
       "      <td>120000</td>\n",
       "      <td>2008</td>\n",
       "      <td>1</td>\n",
       "      <td>0</td>\n",
       "      <td>0</td>\n",
       "      <td>...</td>\n",
       "      <td>0</td>\n",
       "      <td>0</td>\n",
       "      <td>0</td>\n",
       "      <td>0</td>\n",
       "      <td>0</td>\n",
       "      <td>78</td>\n",
       "      <td>0</td>\n",
       "      <td>0</td>\n",
       "      <td>0</td>\n",
       "      <td>4</td>\n",
       "    </tr>\n",
       "  </tbody>\n",
       "</table>\n",
       "<p>5 rows × 44 columns</p>\n",
       "</div>"
      ],
      "text/plain": [
       "   apartment_id  dong  exclusive_use_area  transaction_date  floor  \\\n",
       "0          7622   193               84.82                 3      2   \n",
       "1          5399   265               99.17                 1      6   \n",
       "2          3578   265               84.74                 1      6   \n",
       "3         10957   317              146.39                 2     15   \n",
       "4         10639   317              194.43                 3      3   \n",
       "\n",
       "   transaction_real_price  year  month  hangang  count_park  ... line8_0.5km  \\\n",
       "0                   37500  2008      1        0           0  ...           0   \n",
       "1                   20000  2008      1        0           0  ...           0   \n",
       "2                   38500  2008      1        0           0  ...           0   \n",
       "3                  118000  2008      1        0           0  ...           0   \n",
       "4                  120000  2008      1        0           0  ...           0   \n",
       "\n",
       "   line8_1km  line9_0.2km  line9_0.5km  line9_1km  count_gu_daycare  \\\n",
       "0          0            0            0          0                78   \n",
       "1          0            0            0          0                78   \n",
       "2          0            0            0          0                78   \n",
       "3          0            0            0          0                78   \n",
       "4          0            0            0          0                78   \n",
       "\n",
       "   weight2530  weight3035  weight2535  house_age  \n",
       "0           0           0           0          6  \n",
       "1           0           0           0         35  \n",
       "2           0           0           0          1  \n",
       "3           0           0           0          5  \n",
       "4           0           0           0          4  \n",
       "\n",
       "[5 rows x 44 columns]"
      ]
     },
     "execution_count": 134,
     "metadata": {},
     "output_type": "execute_result"
    }
   ],
   "source": [
    "df_train['transaction_date'] = df_train['transaction_date'].map(date_label['start_date'])\n",
    "df_train.head()"
   ]
  },
  {
   "cell_type": "markdown",
   "id": "9afa63db",
   "metadata": {
    "id": "9afa63db"
   },
   "source": [
    "#### 3.구(gu)"
   ]
  },
  {
   "cell_type": "markdown",
   "id": "02d7ba03",
   "metadata": {
    "id": "02d7ba03"
   },
   "source": [
    "##### 구별 집값의 평균 순서로 labeling(label encoding)"
   ]
  },
  {
   "cell_type": "code",
   "execution_count": null,
   "id": "0087c2c1",
   "metadata": {
    "id": "0087c2c1"
   },
   "outputs": [],
   "source": [
    "df_train_gu = df_train[['transaction_real_price','gu']].groupby('gu').mean().sort_values('transaction_real_price',ascending=False).reset_index()\n",
    "df_train_gu['mean_price_label'] = df_train_gu['transaction_real_price'].rank(ascending=True)\n",
    "df_train_gu['mean_price_label'] = df_train_gu['mean_price_label'].astype(int)\n",
    "df_train_gu = df_train_gu[['gu','mean_price_label']].set_index('gu')\n",
    "gu_label = df_train_gu.to_dict()"
   ]
  },
  {
   "cell_type": "code",
   "execution_count": null,
   "id": "3a341b08",
   "metadata": {
    "colab": {
     "base_uri": "https://localhost:8080/"
    },
    "executionInfo": {
     "elapsed": 8,
     "status": "ok",
     "timestamp": 1645122803859,
     "user": {
      "displayName": "최윤성",
      "photoUrl": "https://lh3.googleusercontent.com/a-/AOh14GhPE9xSgYvruTxaBI1PrRZRNWn21DzdbLmy5HR0Xg=s64",
      "userId": "17937737491555296546"
     },
     "user_tz": -540
    },
    "id": "3a341b08",
    "outputId": "3bf1cf68-62cf-4ce3-9ff6-5f3a9f73626b"
   },
   "outputs": [
    {
     "data": {
      "text/plain": [
       "{'mean_price_label': {'서초구': 25,\n",
       "  '강남구': 24,\n",
       "  '용산구': 23,\n",
       "  '송파구': 22,\n",
       "  '광진구': 21,\n",
       "  '중구': 20,\n",
       "  '성동구': 19,\n",
       "  '마포구': 18,\n",
       "  '동작구': 17,\n",
       "  '양천구': 16,\n",
       "  '종로구': 15,\n",
       "  '강동구': 14,\n",
       "  '영등포구': 13,\n",
       "  '서대문구': 12,\n",
       "  '은평구': 11,\n",
       "  '성북구': 10,\n",
       "  '동대문구': 9,\n",
       "  '강서구': 8,\n",
       "  '관악구': 7,\n",
       "  '구로구': 6,\n",
       "  '강북구': 5,\n",
       "  '중랑구': 4,\n",
       "  '노원구': 3,\n",
       "  '도봉구': 2,\n",
       "  '금천구': 1}}"
      ]
     },
     "execution_count": 136,
     "metadata": {},
     "output_type": "execute_result"
    }
   ],
   "source": [
    "gu_label"
   ]
  },
  {
   "cell_type": "code",
   "execution_count": null,
   "id": "a8bf84c3",
   "metadata": {
    "colab": {
     "base_uri": "https://localhost:8080/",
     "height": 270
    },
    "executionInfo": {
     "elapsed": 6,
     "status": "ok",
     "timestamp": 1645122803859,
     "user": {
      "displayName": "최윤성",
      "photoUrl": "https://lh3.googleusercontent.com/a-/AOh14GhPE9xSgYvruTxaBI1PrRZRNWn21DzdbLmy5HR0Xg=s64",
      "userId": "17937737491555296546"
     },
     "user_tz": -540
    },
    "id": "a8bf84c3",
    "outputId": "6a8a13e6-3630-43a2-8c7e-2a9218cfc2c4"
   },
   "outputs": [
    {
     "data": {
      "text/html": [
       "<div>\n",
       "<style scoped>\n",
       "    .dataframe tbody tr th:only-of-type {\n",
       "        vertical-align: middle;\n",
       "    }\n",
       "\n",
       "    .dataframe tbody tr th {\n",
       "        vertical-align: top;\n",
       "    }\n",
       "\n",
       "    .dataframe thead th {\n",
       "        text-align: right;\n",
       "    }\n",
       "</style>\n",
       "<table border=\"1\" class=\"dataframe\">\n",
       "  <thead>\n",
       "    <tr style=\"text-align: right;\">\n",
       "      <th></th>\n",
       "      <th>apartment_id</th>\n",
       "      <th>dong</th>\n",
       "      <th>exclusive_use_area</th>\n",
       "      <th>transaction_date</th>\n",
       "      <th>floor</th>\n",
       "      <th>transaction_real_price</th>\n",
       "      <th>year</th>\n",
       "      <th>month</th>\n",
       "      <th>hangang</th>\n",
       "      <th>count_park</th>\n",
       "      <th>...</th>\n",
       "      <th>line8_0.5km</th>\n",
       "      <th>line8_1km</th>\n",
       "      <th>line9_0.2km</th>\n",
       "      <th>line9_0.5km</th>\n",
       "      <th>line9_1km</th>\n",
       "      <th>count_gu_daycare</th>\n",
       "      <th>weight2530</th>\n",
       "      <th>weight3035</th>\n",
       "      <th>weight2535</th>\n",
       "      <th>house_age</th>\n",
       "    </tr>\n",
       "  </thead>\n",
       "  <tbody>\n",
       "    <tr>\n",
       "      <th>0</th>\n",
       "      <td>7622</td>\n",
       "      <td>193</td>\n",
       "      <td>84.82</td>\n",
       "      <td>3</td>\n",
       "      <td>2</td>\n",
       "      <td>37500</td>\n",
       "      <td>2008</td>\n",
       "      <td>1</td>\n",
       "      <td>0</td>\n",
       "      <td>0</td>\n",
       "      <td>...</td>\n",
       "      <td>0</td>\n",
       "      <td>0</td>\n",
       "      <td>0</td>\n",
       "      <td>0</td>\n",
       "      <td>0</td>\n",
       "      <td>78</td>\n",
       "      <td>0</td>\n",
       "      <td>0</td>\n",
       "      <td>0</td>\n",
       "      <td>6</td>\n",
       "    </tr>\n",
       "    <tr>\n",
       "      <th>1</th>\n",
       "      <td>5399</td>\n",
       "      <td>265</td>\n",
       "      <td>99.17</td>\n",
       "      <td>1</td>\n",
       "      <td>6</td>\n",
       "      <td>20000</td>\n",
       "      <td>2008</td>\n",
       "      <td>1</td>\n",
       "      <td>0</td>\n",
       "      <td>0</td>\n",
       "      <td>...</td>\n",
       "      <td>0</td>\n",
       "      <td>0</td>\n",
       "      <td>0</td>\n",
       "      <td>0</td>\n",
       "      <td>0</td>\n",
       "      <td>78</td>\n",
       "      <td>0</td>\n",
       "      <td>0</td>\n",
       "      <td>0</td>\n",
       "      <td>35</td>\n",
       "    </tr>\n",
       "    <tr>\n",
       "      <th>2</th>\n",
       "      <td>3578</td>\n",
       "      <td>265</td>\n",
       "      <td>84.74</td>\n",
       "      <td>1</td>\n",
       "      <td>6</td>\n",
       "      <td>38500</td>\n",
       "      <td>2008</td>\n",
       "      <td>1</td>\n",
       "      <td>0</td>\n",
       "      <td>0</td>\n",
       "      <td>...</td>\n",
       "      <td>0</td>\n",
       "      <td>0</td>\n",
       "      <td>0</td>\n",
       "      <td>0</td>\n",
       "      <td>0</td>\n",
       "      <td>78</td>\n",
       "      <td>0</td>\n",
       "      <td>0</td>\n",
       "      <td>0</td>\n",
       "      <td>1</td>\n",
       "    </tr>\n",
       "    <tr>\n",
       "      <th>3</th>\n",
       "      <td>10957</td>\n",
       "      <td>317</td>\n",
       "      <td>146.39</td>\n",
       "      <td>2</td>\n",
       "      <td>15</td>\n",
       "      <td>118000</td>\n",
       "      <td>2008</td>\n",
       "      <td>1</td>\n",
       "      <td>0</td>\n",
       "      <td>0</td>\n",
       "      <td>...</td>\n",
       "      <td>0</td>\n",
       "      <td>0</td>\n",
       "      <td>0</td>\n",
       "      <td>0</td>\n",
       "      <td>0</td>\n",
       "      <td>78</td>\n",
       "      <td>0</td>\n",
       "      <td>0</td>\n",
       "      <td>0</td>\n",
       "      <td>5</td>\n",
       "    </tr>\n",
       "    <tr>\n",
       "      <th>4</th>\n",
       "      <td>10639</td>\n",
       "      <td>317</td>\n",
       "      <td>194.43</td>\n",
       "      <td>3</td>\n",
       "      <td>3</td>\n",
       "      <td>120000</td>\n",
       "      <td>2008</td>\n",
       "      <td>1</td>\n",
       "      <td>0</td>\n",
       "      <td>0</td>\n",
       "      <td>...</td>\n",
       "      <td>0</td>\n",
       "      <td>0</td>\n",
       "      <td>0</td>\n",
       "      <td>0</td>\n",
       "      <td>0</td>\n",
       "      <td>78</td>\n",
       "      <td>0</td>\n",
       "      <td>0</td>\n",
       "      <td>0</td>\n",
       "      <td>4</td>\n",
       "    </tr>\n",
       "  </tbody>\n",
       "</table>\n",
       "<p>5 rows × 44 columns</p>\n",
       "</div>"
      ],
      "text/plain": [
       "   apartment_id  dong  exclusive_use_area  transaction_date  floor  \\\n",
       "0          7622   193               84.82                 3      2   \n",
       "1          5399   265               99.17                 1      6   \n",
       "2          3578   265               84.74                 1      6   \n",
       "3         10957   317              146.39                 2     15   \n",
       "4         10639   317              194.43                 3      3   \n",
       "\n",
       "   transaction_real_price  year  month  hangang  count_park  ...  line8_0.5km  \\\n",
       "0                   37500  2008      1        0           0  ...            0   \n",
       "1                   20000  2008      1        0           0  ...            0   \n",
       "2                   38500  2008      1        0           0  ...            0   \n",
       "3                  118000  2008      1        0           0  ...            0   \n",
       "4                  120000  2008      1        0           0  ...            0   \n",
       "\n",
       "   line8_1km  line9_0.2km  line9_0.5km  line9_1km  count_gu_daycare  \\\n",
       "0          0            0            0          0                78   \n",
       "1          0            0            0          0                78   \n",
       "2          0            0            0          0                78   \n",
       "3          0            0            0          0                78   \n",
       "4          0            0            0          0                78   \n",
       "\n",
       "   weight2530  weight3035  weight2535  house_age  \n",
       "0           0           0           0          6  \n",
       "1           0           0           0         35  \n",
       "2           0           0           0          1  \n",
       "3           0           0           0          5  \n",
       "4           0           0           0          4  \n",
       "\n",
       "[5 rows x 44 columns]"
      ]
     },
     "execution_count": 137,
     "metadata": {},
     "output_type": "execute_result"
    }
   ],
   "source": [
    "df_train['gu'] = df_train['gu'].map(gu_label['mean_price_label'])\n",
    "df_train.head()"
   ]
  },
  {
   "cell_type": "code",
   "execution_count": null,
   "id": "c713d06c",
   "metadata": {
    "id": "c713d06c"
   },
   "outputs": [],
   "source": [
    "#동이랑 구에 대해 레이블 인코딩, 원핫인코딩 둘다 돌려보기\n",
    "#캣부스트도 해보기"
   ]
  },
  {
   "cell_type": "code",
   "execution_count": null,
   "id": "english-quarterly",
   "metadata": {
    "colab": {
     "base_uri": "https://localhost:8080/"
    },
    "executionInfo": {
     "elapsed": 6,
     "status": "ok",
     "timestamp": 1645122803859,
     "user": {
      "displayName": "최윤성",
      "photoUrl": "https://lh3.googleusercontent.com/a-/AOh14GhPE9xSgYvruTxaBI1PrRZRNWn21DzdbLmy5HR0Xg=s64",
      "userId": "17937737491555296546"
     },
     "user_tz": -540
    },
    "id": "english-quarterly",
    "outputId": "686941e4-305f-494f-f90e-fc819df8bea1",
    "scrolled": false
   },
   "outputs": [
    {
     "name": "stdout",
     "output_type": "stream",
     "text": [
      "<class 'pandas.core.frame.DataFrame'>\n",
      "RangeIndex: 742285 entries, 0 to 742284\n",
      "Data columns (total 44 columns):\n",
      " #   Column                  Non-Null Count   Dtype  \n",
      "---  ------                  --------------   -----  \n",
      " 0   apartment_id            742285 non-null  int64  \n",
      " 1   dong                    742285 non-null  int64  \n",
      " 2   exclusive_use_area      742285 non-null  float64\n",
      " 3   transaction_date        742285 non-null  int64  \n",
      " 4   floor                   742285 non-null  int64  \n",
      " 5   transaction_real_price  742285 non-null  int64  \n",
      " 6   year                    742285 non-null  int64  \n",
      " 7   month                   742285 non-null  int64  \n",
      " 8   hangang                 742285 non-null  int64  \n",
      " 9   count_park              742285 non-null  int64  \n",
      " 10  gu                      742285 non-null  int64  \n",
      " 11  count_gu_park           742285 non-null  int64  \n",
      " 12  line1_0.2km             742285 non-null  int64  \n",
      " 13  line1_0.5km             742285 non-null  int64  \n",
      " 14  line1_1km               742285 non-null  int64  \n",
      " 15  line2_0.2km             742285 non-null  int64  \n",
      " 16  line2_0.5km             742285 non-null  int64  \n",
      " 17  line2_1km               742285 non-null  int64  \n",
      " 18  line3_0.2km             742285 non-null  int64  \n",
      " 19  line3_0.5km             742285 non-null  int64  \n",
      " 20  line3_1km               742285 non-null  int64  \n",
      " 21  line4_0.2km             742285 non-null  int64  \n",
      " 22  line4_0.5km             742285 non-null  int64  \n",
      " 23  line4_1km               742285 non-null  int64  \n",
      " 24  line5_0.2km             742285 non-null  int64  \n",
      " 25  line5_0.5km             742285 non-null  int64  \n",
      " 26  line5_1km               742285 non-null  int64  \n",
      " 27  line6_0.2km             742285 non-null  int64  \n",
      " 28  line6_0.5km             742285 non-null  int64  \n",
      " 29  line6_1km               742285 non-null  int64  \n",
      " 30  line7_0.2km             742285 non-null  int64  \n",
      " 31  line7_0.5km             742285 non-null  int64  \n",
      " 32  line7_1km               742285 non-null  int64  \n",
      " 33  line8_0.2km             742285 non-null  int64  \n",
      " 34  line8_0.5km             742285 non-null  int64  \n",
      " 35  line8_1km               742285 non-null  int64  \n",
      " 36  line9_0.2km             742285 non-null  int64  \n",
      " 37  line9_0.5km             742285 non-null  int64  \n",
      " 38  line9_1km               742285 non-null  int64  \n",
      " 39  count_gu_daycare        742285 non-null  int64  \n",
      " 40  weight2530              742285 non-null  int64  \n",
      " 41  weight3035              742285 non-null  int64  \n",
      " 42  weight2535              742285 non-null  int64  \n",
      " 43  house_age               742285 non-null  int64  \n",
      "dtypes: float64(1), int64(43)\n",
      "memory usage: 249.2 MB\n"
     ]
    }
   ],
   "source": [
    "df_train.info()"
   ]
  },
  {
   "cell_type": "code",
   "execution_count": null,
   "id": "ea70a268",
   "metadata": {
    "id": "ea70a268"
   },
   "outputs": [],
   "source": [
    "df_train.to_csv('final_train_labelencoding.csv')"
   ]
  }
 ],
 "metadata": {
  "colab": {
   "collapsed_sections": [
    "polar-pointer",
    "recreational-mobility",
    "russian-roman",
    "sophisticated-inclusion",
    "atomic-extraction",
    "enhanced-northwest"
   ],
   "name": "modeling(cat).ipynb",
   "provenance": []
  },
  "kernelspec": {
   "display_name": "Python 3 (ipykernel)",
   "language": "python",
   "name": "python3"
  },
  "language_info": {
   "codemirror_mode": {
    "name": "ipython",
    "version": 3
   },
   "file_extension": ".py",
   "mimetype": "text/x-python",
   "name": "python",
   "nbconvert_exporter": "python",
   "pygments_lexer": "ipython3",
   "version": "3.11.4"
  }
 },
 "nbformat": 4,
 "nbformat_minor": 5
}
